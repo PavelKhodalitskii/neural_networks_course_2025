{
  "cells": [
    {
      "cell_type": "code",
      "execution_count": 159,
      "metadata": {
        "id": "9qT3IioLNHv5"
      },
      "outputs": [],
      "source": [
        "# 1.\tБиномиальное\n",
        "# 3 – число признаков\n",
        "# 3 – число кластеров\n",
        "# 1- метод к - среднего\n",
        "# 2 - метод деревьев решений\n",
        "# 1- эвклидово расстояние"
      ]
    },
    {
      "cell_type": "code",
      "execution_count": 160,
      "metadata": {},
      "outputs": [],
      "source": [
        "#z = 3 Гипергеометрическое пространство\n",
        "#p = 3 - три признака\n",
        "#n = 5 - пять классов"
      ]
    },
    {
      "cell_type": "code",
      "execution_count": 161,
      "metadata": {
        "id": "gLF9_wTIrOe7"
      },
      "outputs": [],
      "source": [
        "from sklearn.model_selection import train_test_split"
      ]
    },
    {
      "cell_type": "code",
      "execution_count": null,
      "metadata": {},
      "outputs": [],
      "source": []
    },
    {
      "cell_type": "code",
      "execution_count": 162,
      "metadata": {},
      "outputs": [],
      "source": [
        "dimensions = 3\n",
        "observations_amount = 1500"
      ]
    },
    {
      "cell_type": "code",
      "execution_count": 163,
      "metadata": {
        "id": "JenUUuQNNHv6"
      },
      "outputs": [],
      "source": [
        "import numpy as np\n",
        "from sklearn.cluster import KMeans\n",
        "\n",
        "observations_1 = np.random.hypergeometric(60, 20, 40, (observations_amount // 5, dimensions))\n",
        "observations_2 = np.random.hypergeometric(60, 20, 40, (observations_amount // 5, dimensions)) + 10\n",
        "observations_3 = np.random.hypergeometric(60, 20, 40, (observations_amount // 5, dimensions)) + 20\n",
        "observations_4 = np.random.hypergeometric(60, 20, 40, (observations_amount // 5, dimensions)) + 30\n",
        "observations_5 = np.random.hypergeometric(60, 20, 40, (observations_amount // 5, dimensions)) + 40"
      ]
    },
    {
      "cell_type": "code",
      "execution_count": 164,
      "metadata": {},
      "outputs": [
        {
          "data": {
            "text/plain": [
              "(300, 3)"
            ]
          },
          "execution_count": 164,
          "metadata": {},
          "output_type": "execute_result"
        }
      ],
      "source": [
        "observations_1.shape"
      ]
    },
    {
      "cell_type": "code",
      "execution_count": 165,
      "metadata": {},
      "outputs": [
        {
          "data": {
            "text/plain": [
              "array([[30, 26, 31],\n",
              "       [30, 34, 31],\n",
              "       [31, 26, 32],\n",
              "       [32, 30, 26],\n",
              "       [29, 31, 30],\n",
              "       [30, 32, 28],\n",
              "       [29, 32, 27],\n",
              "       [31, 28, 29],\n",
              "       [31, 29, 30],\n",
              "       [32, 29, 31],\n",
              "       [34, 32, 28],\n",
              "       [29, 33, 32],\n",
              "       [35, 31, 28],\n",
              "       [33, 30, 32],\n",
              "       [30, 26, 33],\n",
              "       [28, 31, 27],\n",
              "       [28, 27, 28],\n",
              "       [31, 34, 27],\n",
              "       [30, 30, 28],\n",
              "       [28, 31, 29],\n",
              "       [31, 32, 31],\n",
              "       [33, 29, 34],\n",
              "       [29, 32, 29],\n",
              "       [29, 30, 29],\n",
              "       [29, 29, 31],\n",
              "       [32, 33, 29],\n",
              "       [26, 30, 29],\n",
              "       [31, 28, 29],\n",
              "       [29, 31, 35],\n",
              "       [30, 32, 29],\n",
              "       [34, 30, 34],\n",
              "       [31, 28, 30],\n",
              "       [28, 26, 31],\n",
              "       [30, 30, 28],\n",
              "       [29, 31, 30],\n",
              "       [30, 29, 31],\n",
              "       [33, 29, 26],\n",
              "       [31, 31, 29],\n",
              "       [26, 27, 30],\n",
              "       [31, 29, 29],\n",
              "       [30, 28, 31],\n",
              "       [27, 31, 30],\n",
              "       [30, 30, 27],\n",
              "       [29, 30, 32],\n",
              "       [29, 29, 29],\n",
              "       [28, 32, 32],\n",
              "       [27, 29, 27],\n",
              "       [32, 28, 29],\n",
              "       [27, 31, 32],\n",
              "       [29, 27, 27],\n",
              "       [27, 29, 28],\n",
              "       [28, 30, 29],\n",
              "       [31, 28, 29],\n",
              "       [29, 32, 28],\n",
              "       [32, 31, 35],\n",
              "       [30, 31, 25],\n",
              "       [27, 27, 27],\n",
              "       [31, 31, 29],\n",
              "       [29, 28, 29],\n",
              "       [31, 31, 28],\n",
              "       [30, 32, 32],\n",
              "       [32, 29, 29],\n",
              "       [30, 28, 32],\n",
              "       [29, 28, 35],\n",
              "       [33, 32, 30],\n",
              "       [35, 26, 33],\n",
              "       [29, 32, 28],\n",
              "       [31, 31, 31],\n",
              "       [32, 31, 33],\n",
              "       [32, 29, 30],\n",
              "       [32, 30, 26],\n",
              "       [31, 30, 31],\n",
              "       [28, 29, 29],\n",
              "       [30, 32, 29],\n",
              "       [29, 30, 27],\n",
              "       [32, 29, 28],\n",
              "       [28, 30, 32],\n",
              "       [27, 33, 30],\n",
              "       [32, 29, 29],\n",
              "       [28, 27, 28],\n",
              "       [33, 34, 30],\n",
              "       [28, 30, 27],\n",
              "       [29, 31, 33],\n",
              "       [31, 29, 29],\n",
              "       [31, 30, 32],\n",
              "       [35, 29, 33],\n",
              "       [32, 28, 33],\n",
              "       [29, 32, 27],\n",
              "       [31, 28, 32],\n",
              "       [32, 30, 28],\n",
              "       [28, 32, 33],\n",
              "       [32, 33, 31],\n",
              "       [27, 30, 29],\n",
              "       [31, 34, 29],\n",
              "       [28, 28, 33],\n",
              "       [28, 28, 31],\n",
              "       [29, 32, 31],\n",
              "       [30, 32, 26],\n",
              "       [27, 28, 33],\n",
              "       [30, 29, 30],\n",
              "       [32, 31, 31],\n",
              "       [31, 31, 31],\n",
              "       [29, 31, 32],\n",
              "       [32, 31, 32],\n",
              "       [29, 31, 32],\n",
              "       [26, 32, 31],\n",
              "       [31, 28, 30],\n",
              "       [31, 27, 32],\n",
              "       [31, 32, 31],\n",
              "       [31, 31, 33],\n",
              "       [31, 30, 29],\n",
              "       [31, 31, 27],\n",
              "       [36, 29, 30],\n",
              "       [34, 32, 31],\n",
              "       [30, 30, 31],\n",
              "       [32, 28, 29],\n",
              "       [31, 29, 29],\n",
              "       [31, 29, 30],\n",
              "       [25, 29, 32],\n",
              "       [31, 31, 31],\n",
              "       [30, 29, 28],\n",
              "       [29, 30, 30],\n",
              "       [28, 28, 29],\n",
              "       [29, 31, 29],\n",
              "       [29, 32, 32],\n",
              "       [27, 30, 29],\n",
              "       [31, 29, 31],\n",
              "       [30, 33, 32],\n",
              "       [30, 30, 33],\n",
              "       [30, 26, 32],\n",
              "       [30, 30, 33],\n",
              "       [31, 31, 30],\n",
              "       [28, 28, 28],\n",
              "       [31, 31, 30],\n",
              "       [29, 29, 30],\n",
              "       [27, 29, 30],\n",
              "       [26, 29, 30],\n",
              "       [27, 31, 28],\n",
              "       [31, 28, 31],\n",
              "       [28, 27, 31],\n",
              "       [28, 29, 29],\n",
              "       [32, 28, 29],\n",
              "       [34, 28, 29],\n",
              "       [33, 31, 31],\n",
              "       [27, 31, 30],\n",
              "       [30, 28, 30],\n",
              "       [29, 27, 27],\n",
              "       [30, 31, 30],\n",
              "       [31, 31, 30],\n",
              "       [29, 29, 32],\n",
              "       [31, 31, 31],\n",
              "       [31, 31, 30],\n",
              "       [30, 33, 30],\n",
              "       [35, 33, 30],\n",
              "       [30, 30, 30],\n",
              "       [27, 26, 29],\n",
              "       [32, 33, 29],\n",
              "       [30, 31, 33],\n",
              "       [29, 29, 29],\n",
              "       [29, 30, 32],\n",
              "       [32, 28, 30],\n",
              "       [31, 30, 31],\n",
              "       [31, 31, 32],\n",
              "       [31, 27, 31],\n",
              "       [28, 31, 26],\n",
              "       [29, 27, 31],\n",
              "       [30, 31, 27],\n",
              "       [32, 30, 30],\n",
              "       [29, 31, 33],\n",
              "       [27, 29, 32],\n",
              "       [29, 29, 29],\n",
              "       [26, 34, 31],\n",
              "       [30, 25, 33],\n",
              "       [34, 33, 29],\n",
              "       [33, 28, 30],\n",
              "       [29, 29, 31],\n",
              "       [33, 32, 30],\n",
              "       [29, 30, 30],\n",
              "       [31, 33, 28],\n",
              "       [31, 28, 31],\n",
              "       [31, 30, 29],\n",
              "       [29, 28, 29],\n",
              "       [29, 30, 27],\n",
              "       [29, 28, 31],\n",
              "       [31, 28, 33],\n",
              "       [29, 32, 30],\n",
              "       [27, 31, 28],\n",
              "       [30, 30, 29],\n",
              "       [32, 26, 31],\n",
              "       [30, 31, 30],\n",
              "       [29, 30, 30],\n",
              "       [28, 27, 33],\n",
              "       [30, 32, 29],\n",
              "       [26, 32, 35],\n",
              "       [27, 31, 30],\n",
              "       [28, 28, 29],\n",
              "       [31, 29, 30],\n",
              "       [28, 33, 32],\n",
              "       [32, 31, 30],\n",
              "       [32, 28, 26],\n",
              "       [32, 29, 31],\n",
              "       [30, 32, 32],\n",
              "       [28, 31, 30],\n",
              "       [32, 28, 29],\n",
              "       [30, 33, 27],\n",
              "       [30, 33, 33],\n",
              "       [31, 31, 30],\n",
              "       [33, 31, 30],\n",
              "       [27, 30, 27],\n",
              "       [30, 30, 30],\n",
              "       [27, 33, 34],\n",
              "       [31, 30, 32],\n",
              "       [31, 32, 30],\n",
              "       [29, 27, 32],\n",
              "       [34, 28, 31],\n",
              "       [32, 29, 32],\n",
              "       [31, 30, 30],\n",
              "       [31, 26, 27],\n",
              "       [32, 31, 32],\n",
              "       [29, 29, 32],\n",
              "       [32, 31, 31],\n",
              "       [30, 31, 28],\n",
              "       [32, 29, 31],\n",
              "       [29, 31, 30],\n",
              "       [28, 30, 31],\n",
              "       [31, 31, 31],\n",
              "       [32, 29, 33],\n",
              "       [29, 32, 31],\n",
              "       [32, 28, 30],\n",
              "       [31, 28, 31],\n",
              "       [27, 30, 27],\n",
              "       [35, 30, 32],\n",
              "       [28, 27, 28],\n",
              "       [31, 30, 33],\n",
              "       [32, 31, 30],\n",
              "       [32, 33, 31],\n",
              "       [30, 30, 28],\n",
              "       [28, 30, 29],\n",
              "       [29, 30, 34],\n",
              "       [31, 31, 30],\n",
              "       [30, 29, 30],\n",
              "       [31, 31, 31],\n",
              "       [36, 30, 30],\n",
              "       [32, 34, 30],\n",
              "       [30, 29, 30],\n",
              "       [33, 32, 27],\n",
              "       [28, 29, 29],\n",
              "       [29, 29, 30],\n",
              "       [28, 29, 30],\n",
              "       [33, 29, 26],\n",
              "       [31, 28, 30],\n",
              "       [30, 32, 30],\n",
              "       [34, 30, 27],\n",
              "       [26, 28, 32],\n",
              "       [30, 30, 31],\n",
              "       [30, 27, 30],\n",
              "       [29, 32, 29],\n",
              "       [32, 28, 30],\n",
              "       [29, 32, 31],\n",
              "       [30, 33, 28],\n",
              "       [28, 30, 28],\n",
              "       [31, 32, 33],\n",
              "       [28, 27, 29],\n",
              "       [32, 31, 29],\n",
              "       [31, 29, 34],\n",
              "       [32, 30, 32],\n",
              "       [31, 31, 27],\n",
              "       [27, 34, 30],\n",
              "       [29, 28, 28],\n",
              "       [32, 28, 30],\n",
              "       [29, 30, 32],\n",
              "       [28, 32, 29],\n",
              "       [30, 29, 28],\n",
              "       [31, 29, 34],\n",
              "       [28, 29, 28],\n",
              "       [28, 27, 28],\n",
              "       [29, 35, 25],\n",
              "       [32, 30, 29],\n",
              "       [29, 28, 29],\n",
              "       [26, 30, 31],\n",
              "       [29, 32, 33],\n",
              "       [30, 31, 27],\n",
              "       [30, 27, 31],\n",
              "       [29, 33, 28],\n",
              "       [26, 28, 30],\n",
              "       [30, 31, 29],\n",
              "       [29, 31, 29],\n",
              "       [33, 31, 26],\n",
              "       [29, 30, 30],\n",
              "       [31, 29, 30],\n",
              "       [32, 29, 28],\n",
              "       [30, 33, 26],\n",
              "       [33, 29, 28],\n",
              "       [28, 31, 30],\n",
              "       [29, 31, 31],\n",
              "       [29, 28, 30],\n",
              "       [29, 31, 28],\n",
              "       [30, 27, 32],\n",
              "       [29, 29, 32],\n",
              "       [33, 30, 28]])"
            ]
          },
          "execution_count": 165,
          "metadata": {},
          "output_type": "execute_result"
        }
      ],
      "source": [
        "observations_1"
      ]
    },
    {
      "cell_type": "code",
      "execution_count": 166,
      "metadata": {},
      "outputs": [
        {
          "data": {
            "text/plain": [
              "(1500, 3)"
            ]
          },
          "execution_count": 166,
          "metadata": {},
          "output_type": "execute_result"
        }
      ],
      "source": [
        "observations = np.concatenate([observations_1, observations_2, observations_3, observations_4, observations_5], axis=0)\n",
        "observations.shape"
      ]
    },
    {
      "cell_type": "code",
      "execution_count": 167,
      "metadata": {},
      "outputs": [],
      "source": [
        "from sklearn.preprocessing import minmax_scale, normalize\n",
        "\n",
        "normalized_observation = minmax_scale(observations, axis=0)"
      ]
    },
    {
      "cell_type": "code",
      "execution_count": 168,
      "metadata": {},
      "outputs": [],
      "source": [
        "observations = normalized_observation"
      ]
    },
    {
      "cell_type": "code",
      "execution_count": 169,
      "metadata": {
        "id": "UpHc5PwS3nk6"
      },
      "outputs": [],
      "source": [
        "labels_0 = np.array([0 for i in range(300)]).reshape(300, 1)\n",
        "labels_1 = np.array([1 for i in range(300)]).reshape(300, 1)\n",
        "labels_2 = np.array([3 for i in range(300)]).reshape(300, 1)\n",
        "labels_3 = np.array([4 for i in range(300)]).reshape(300, 1)\n",
        "labels_4 = np.array([5 for i in range(300)]).reshape(300, 1)\n",
        "\n",
        "labels = np.concatenate([labels_0, labels_1, labels_2, labels_3, labels_4], axis=0)"
      ]
    },
    {
      "cell_type": "code",
      "execution_count": 170,
      "metadata": {},
      "outputs": [
        {
          "data": {
            "text/plain": [
              "(300, 1)"
            ]
          },
          "execution_count": 170,
          "metadata": {},
          "output_type": "execute_result"
        }
      ],
      "source": [
        "labels_0.shape"
      ]
    },
    {
      "cell_type": "code",
      "execution_count": 171,
      "metadata": {},
      "outputs": [
        {
          "data": {
            "text/plain": [
              "(1500, 1)"
            ]
          },
          "execution_count": 171,
          "metadata": {},
          "output_type": "execute_result"
        }
      ],
      "source": [
        "labels.shape"
      ]
    },
    {
      "cell_type": "code",
      "execution_count": 172,
      "metadata": {},
      "outputs": [
        {
          "data": {
            "text/plain": [
              "array([[0],\n",
              "       [0],\n",
              "       [0],\n",
              "       ...,\n",
              "       [5],\n",
              "       [5],\n",
              "       [5]], shape=(1500, 1))"
            ]
          },
          "execution_count": 172,
          "metadata": {},
          "output_type": "execute_result"
        }
      ],
      "source": [
        "labels"
      ]
    },
    {
      "cell_type": "code",
      "execution_count": 173,
      "metadata": {
        "id": "zvuvEcqcMWcj"
      },
      "outputs": [],
      "source": [
        "#observations = observations.reshape((900,3))"
      ]
    },
    {
      "cell_type": "code",
      "execution_count": 174,
      "metadata": {
        "colab": {
          "base_uri": "https://localhost:8080/",
          "height": 424
        },
        "id": "qV7ea3IuxOJ0",
        "outputId": "7c100b5e-ae2f-4e8b-d93a-10a3513713a4"
      },
      "outputs": [
        {
          "data": {
            "text/plain": [
              "<mpl_toolkits.mplot3d.art3d.Path3DCollection at 0x7fc0f5e4f730>"
            ]
          },
          "execution_count": 174,
          "metadata": {},
          "output_type": "execute_result"
        },
        {
          "data": {
            "image/png": "[encoded data removed]",
            "text/plain": [
              "<Figure size 640x480 with 1 Axes>"
            ]
          },
          "metadata": {},
          "output_type": "display_data"
        }
      ],
      "source": [
        "import matplotlib.pyplot as plt\n",
        "\n",
        "fig = plt.figure()\n",
        "ax = fig.add_subplot(projection='3d')\n",
        "ax.scatter(observations[:,0] , observations[:,1] , observations [:,2], marker='^')"
      ]
    },
    {
      "cell_type": "code",
      "execution_count": 175,
      "metadata": {
        "colab": {
          "base_uri": "https://localhost:8080/",
          "height": 424
        },
        "id": "L0IECSQiyaAG",
        "outputId": "6c9696ad-18cb-42e0-a536-b082f84f619a"
      },
      "outputs": [
        {
          "data": {
            "text/plain": [
              "<mpl_toolkits.mplot3d.art3d.Path3DCollection at 0x7fc0f5ee7580>"
            ]
          },
          "execution_count": 175,
          "metadata": {},
          "output_type": "execute_result"
        },
        {
          "data": {
            "image/png": "[encoded data removed]",
            "text/plain": [
              "<Figure size 640x480 with 1 Axes>"
            ]
          },
          "metadata": {},
          "output_type": "display_data"
        }
      ],
      "source": [
        "fig = plt.figure()\n",
        "ax = fig.add_subplot(projection='3d')\n",
        "ax.scatter(observations[:,0], observations[:,1], observations[:,2], marker='o', c=labels)"
      ]
    },
    {
      "cell_type": "code",
      "execution_count": 176,
      "metadata": {
        "colab": {
          "base_uri": "https://localhost:8080/",
          "height": 542
        },
        "id": "CkwNWxxaiBFx",
        "outputId": "ac83cbb6-9515-4e08-85e8-755b13018800"
      },
      "outputs": [
        {
          "data": {
            "application/vnd.plotly.v1+json": {
              "config": {
                "plotlyServerURL": "https://plot.ly"
              },
              "data": [
                {
                  "hovertemplate": "0=%{x}<br>1=%{y}<br>2=%{z}<extra></extra>",
                  "legendgroup": "",
                  "marker": {
                    "color": "#636efa",
                    "symbol": "circle"
                  },
                  "mode": "markers",
                  "name": "",
                  "scene": "scene",
                  "showlegend": false,
                  "type": "scatter3d",
                  "x": {
                    "bdata": "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",
                    "dtype": "f8"
                  },
                  "y": {
                    "bdata": "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",
                    "dtype": "f8"
                  },
                  "z": {
                    "bdata": "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",
                    "dtype": "f8"
                  }
                }
              ],
              "layout": {
                "legend": {
                  "tracegroupgap": 0
                },
                "margin": {
                  "t": 60
                },
                "scene": {
                  "domain": {
                    "x": [
                      0,
                      1
                    ],
                    "y": [
                      0,
                      1
                    ]
                  },
                  "xaxis": {
                    "title": {
                      "text": "0"
                    }
                  },
                  "yaxis": {
                    "title": {
                      "text": "1"
                    }
                  },
                  "zaxis": {
                    "title": {
                      "text": "2"
                    }
                  }
                },
                "template": {
                  "data": {
                    "bar": [
                      {
                        "error_x": {
                          "color": "#2a3f5f"
                        },
                        "error_y": {
                          "color": "#2a3f5f"
                        },
                        "marker": {
                          "line": {
                            "color": "#E5ECF6",
                            "width": 0.5
                          },
                          "pattern": {
                            "fillmode": "overlay",
                            "size": 10,
                            "solidity": 0.2
                          }
                        },
                        "type": "bar"
                      }
                    ],
                    "barpolar": [
                      {
                        "marker": {
                          "line": {
                            "color": "#E5ECF6",
                            "width": 0.5
                          },
                          "pattern": {
                            "fillmode": "overlay",
                            "size": 10,
                            "solidity": 0.2
                          }
                        },
                        "type": "barpolar"
                      }
                    ],
                    "carpet": [
                      {
                        "aaxis": {
                          "endlinecolor": "#2a3f5f",
                          "gridcolor": "white",
                          "linecolor": "white",
                          "minorgridcolor": "white",
                          "startlinecolor": "#2a3f5f"
                        },
                        "baxis": {
                          "endlinecolor": "#2a3f5f",
                          "gridcolor": "white",
                          "linecolor": "white",
                          "minorgridcolor": "white",
                          "startlinecolor": "#2a3f5f"
                        },
                        "type": "carpet"
                      }
                    ],
                    "choropleth": [
                      {
                        "colorbar": {
                          "outlinewidth": 0,
                          "ticks": ""
                        },
                        "type": "choropleth"
                      }
                    ],
                    "contour": [
                      {
                        "colorbar": {
                          "outlinewidth": 0,
                          "ticks": ""
                        },
                        "colorscale": [
                          [
                            0,
                            "#0d0887"
                          ],
                          [
                            0.1111111111111111,
                            "#46039f"
                          ],
                          [
                            0.2222222222222222,
                            "#7201a8"
                          ],
                          [
                            0.3333333333333333,
                            "#9c179e"
                          ],
                          [
                            0.4444444444444444,
                            "#bd3786"
                          ],
                          [
                            0.5555555555555556,
                            "#d8576b"
                          ],
                          [
                            0.6666666666666666,
                            "#ed7953"
                          ],
                          [
                            0.7777777777777778,
                            "#fb9f3a"
                          ],
                          [
                            0.8888888888888888,
                            "#fdca26"
                          ],
                          [
                            1,
                            "#f0f921"
                          ]
                        ],
                        "type": "contour"
                      }
                    ],
                    "contourcarpet": [
                      {
                        "colorbar": {
                          "outlinewidth": 0,
                          "ticks": ""
                        },
                        "type": "contourcarpet"
                      }
                    ],
                    "heatmap": [
                      {
                        "colorbar": {
                          "outlinewidth": 0,
                          "ticks": ""
                        },
                        "colorscale": [
                          [
                            0,
                            "#0d0887"
                          ],
                          [
                            0.1111111111111111,
                            "#46039f"
                          ],
                          [
                            0.2222222222222222,
                            "#7201a8"
                          ],
                          [
                            0.3333333333333333,
                            "#9c179e"
                          ],
                          [
                            0.4444444444444444,
                            "#bd3786"
                          ],
                          [
                            0.5555555555555556,
                            "#d8576b"
                          ],
                          [
                            0.6666666666666666,
                            "#ed7953"
                          ],
                          [
                            0.7777777777777778,
                            "#fb9f3a"
                          ],
                          [
                            0.8888888888888888,
                            "#fdca26"
                          ],
                          [
                            1,
                            "#f0f921"
                          ]
                        ],
                        "type": "heatmap"
                      }
                    ],
                    "histogram": [
                      {
                        "marker": {
                          "pattern": {
                            "fillmode": "overlay",
                            "size": 10,
                            "solidity": 0.2
                          }
                        },
                        "type": "histogram"
                      }
                    ],
                    "histogram2d": [
                      {
                        "colorbar": {
                          "outlinewidth": 0,
                          "ticks": ""
                        },
                        "colorscale": [
                          [
                            0,
                            "#0d0887"
                          ],
                          [
                            0.1111111111111111,
                            "#46039f"
                          ],
                          [
                            0.2222222222222222,
                            "#7201a8"
                          ],
                          [
                            0.3333333333333333,
                            "#9c179e"
                          ],
                          [
                            0.4444444444444444,
                            "#bd3786"
                          ],
                          [
                            0.5555555555555556,
                            "#d8576b"
                          ],
                          [
                            0.6666666666666666,
                            "#ed7953"
                          ],
                          [
                            0.7777777777777778,
                            "#fb9f3a"
                          ],
                          [
                            0.8888888888888888,
                            "#fdca26"
                          ],
                          [
                            1,
                            "#f0f921"
                          ]
                        ],
                        "type": "histogram2d"
                      }
                    ],
                    "histogram2dcontour": [
                      {
                        "colorbar": {
                          "outlinewidth": 0,
                          "ticks": ""
                        },
                        "colorscale": [
                          [
                            0,
                            "#0d0887"
                          ],
                          [
                            0.1111111111111111,
                            "#46039f"
                          ],
                          [
                            0.2222222222222222,
                            "#7201a8"
                          ],
                          [
                            0.3333333333333333,
                            "#9c179e"
                          ],
                          [
                            0.4444444444444444,
                            "#bd3786"
                          ],
                          [
                            0.5555555555555556,
                            "#d8576b"
                          ],
                          [
                            0.6666666666666666,
                            "#ed7953"
                          ],
                          [
                            0.7777777777777778,
                            "#fb9f3a"
                          ],
                          [
                            0.8888888888888888,
                            "#fdca26"
                          ],
                          [
                            1,
                            "#f0f921"
                          ]
                        ],
                        "type": "histogram2dcontour"
                      }
                    ],
                    "mesh3d": [
                      {
                        "colorbar": {
                          "outlinewidth": 0,
                          "ticks": ""
                        },
                        "type": "mesh3d"
                      }
                    ],
                    "parcoords": [
                      {
                        "line": {
                          "colorbar": {
                            "outlinewidth": 0,
                            "ticks": ""
                          }
                        },
                        "type": "parcoords"
                      }
                    ],
                    "pie": [
                      {
                        "automargin": true,
                        "type": "pie"
                      }
                    ],
                    "scatter": [
                      {
                        "fillpattern": {
                          "fillmode": "overlay",
                          "size": 10,
                          "solidity": 0.2
                        },
                        "type": "scatter"
                      }
                    ],
                    "scatter3d": [
                      {
                        "line": {
                          "colorbar": {
                            "outlinewidth": 0,
                            "ticks": ""
                          }
                        },
                        "marker": {
                          "colorbar": {
                            "outlinewidth": 0,
                            "ticks": ""
                          }
                        },
                        "type": "scatter3d"
                      }
                    ],
                    "scattercarpet": [
                      {
                        "marker": {
                          "colorbar": {
                            "outlinewidth": 0,
                            "ticks": ""
                          }
                        },
                        "type": "scattercarpet"
                      }
                    ],
                    "scattergeo": [
                      {
                        "marker": {
                          "colorbar": {
                            "outlinewidth": 0,
                            "ticks": ""
                          }
                        },
                        "type": "scattergeo"
                      }
                    ],
                    "scattergl": [
                      {
                        "marker": {
                          "colorbar": {
                            "outlinewidth": 0,
                            "ticks": ""
                          }
                        },
                        "type": "scattergl"
                      }
                    ],
                    "scattermap": [
                      {
                        "marker": {
                          "colorbar": {
                            "outlinewidth": 0,
                            "ticks": ""
                          }
                        },
                        "type": "scattermap"
                      }
                    ],
                    "scattermapbox": [
                      {
                        "marker": {
                          "colorbar": {
                            "outlinewidth": 0,
                            "ticks": ""
                          }
                        },
                        "type": "scattermapbox"
                      }
                    ],
                    "scatterpolar": [
                      {
                        "marker": {
                          "colorbar": {
                            "outlinewidth": 0,
                            "ticks": ""
                          }
                        },
                        "type": "scatterpolar"
                      }
                    ],
                    "scatterpolargl": [
                      {
                        "marker": {
                          "colorbar": {
                            "outlinewidth": 0,
                            "ticks": ""
                          }
                        },
                        "type": "scatterpolargl"
                      }
                    ],
                    "scatterternary": [
                      {
                        "marker": {
                          "colorbar": {
                            "outlinewidth": 0,
                            "ticks": ""
                          }
                        },
                        "type": "scatterternary"
                      }
                    ],
                    "surface": [
                      {
                        "colorbar": {
                          "outlinewidth": 0,
                          "ticks": ""
                        },
                        "colorscale": [
                          [
                            0,
                            "#0d0887"
                          ],
                          [
                            0.1111111111111111,
                            "#46039f"
                          ],
                          [
                            0.2222222222222222,
                            "#7201a8"
                          ],
                          [
                            0.3333333333333333,
                            "#9c179e"
                          ],
                          [
                            0.4444444444444444,
                            "#bd3786"
                          ],
                          [
                            0.5555555555555556,
                            "#d8576b"
                          ],
                          [
                            0.6666666666666666,
                            "#ed7953"
                          ],
                          [
                            0.7777777777777778,
                            "#fb9f3a"
                          ],
                          [
                            0.8888888888888888,
                            "#fdca26"
                          ],
                          [
                            1,
                            "#f0f921"
                          ]
                        ],
                        "type": "surface"
                      }
                    ],
                    "table": [
                      {
                        "cells": {
                          "fill": {
                            "color": "#EBF0F8"
                          },
                          "line": {
                            "color": "white"
                          }
                        },
                        "header": {
                          "fill": {
                            "color": "#C8D4E3"
                          },
                          "line": {
                            "color": "white"
                          }
                        },
                        "type": "table"
                      }
                    ]
                  },
                  "layout": {
                    "annotationdefaults": {
                      "arrowcolor": "#2a3f5f",
                      "arrowhead": 0,
                      "arrowwidth": 1
                    },
                    "autotypenumbers": "strict",
                    "coloraxis": {
                      "colorbar": {
                        "outlinewidth": 0,
                        "ticks": ""
                      }
                    },
                    "colorscale": {
                      "diverging": [
                        [
                          0,
                          "#8e0152"
                        ],
                        [
                          0.1,
                          "#c51b7d"
                        ],
                        [
                          0.2,
                          "#de77ae"
                        ],
                        [
                          0.3,
                          "#f1b6da"
                        ],
                        [
                          0.4,
                          "#fde0ef"
                        ],
                        [
                          0.5,
                          "#f7f7f7"
                        ],
                        [
                          0.6,
                          "#e6f5d0"
                        ],
                        [
                          0.7,
                          "#b8e186"
                        ],
                        [
                          0.8,
                          "#7fbc41"
                        ],
                        [
                          0.9,
                          "#4d9221"
                        ],
                        [
                          1,
                          "#276419"
                        ]
                      ],
                      "sequential": [
                        [
                          0,
                          "#0d0887"
                        ],
                        [
                          0.1111111111111111,
                          "#46039f"
                        ],
                        [
                          0.2222222222222222,
                          "#7201a8"
                        ],
                        [
                          0.3333333333333333,
                          "#9c179e"
                        ],
                        [
                          0.4444444444444444,
                          "#bd3786"
                        ],
                        [
                          0.5555555555555556,
                          "#d8576b"
                        ],
                        [
                          0.6666666666666666,
                          "#ed7953"
                        ],
                        [
                          0.7777777777777778,
                          "#fb9f3a"
                        ],
                        [
                          0.8888888888888888,
                          "#fdca26"
                        ],
                        [
                          1,
                          "#f0f921"
                        ]
                      ],
                      "sequentialminus": [
                        [
                          0,
                          "#0d0887"
                        ],
                        [
                          0.1111111111111111,
                          "#46039f"
                        ],
                        [
                          0.2222222222222222,
                          "#7201a8"
                        ],
                        [
                          0.3333333333333333,
                          "#9c179e"
                        ],
                        [
                          0.4444444444444444,
                          "#bd3786"
                        ],
                        [
                          0.5555555555555556,
                          "#d8576b"
                        ],
                        [
                          0.6666666666666666,
                          "#ed7953"
                        ],
                        [
                          0.7777777777777778,
                          "#fb9f3a"
                        ],
                        [
                          0.8888888888888888,
                          "#fdca26"
                        ],
                        [
                          1,
                          "#f0f921"
                        ]
                      ]
                    },
                    "colorway": [
                      "#636efa",
                      "#EF553B",
                      "#00cc96",
                      "#ab63fa",
                      "#FFA15A",
                      "#19d3f3",
                      "#FF6692",
                      "#B6E880",
                      "#FF97FF",
                      "#FECB52"
                    ],
                    "font": {
                      "color": "#2a3f5f"
                    },
                    "geo": {
                      "bgcolor": "white",
                      "lakecolor": "white",
                      "landcolor": "#E5ECF6",
                      "showlakes": true,
                      "showland": true,
                      "subunitcolor": "white"
                    },
                    "hoverlabel": {
                      "align": "left"
                    },
                    "hovermode": "closest",
                    "mapbox": {
                      "style": "light"
                    },
                    "paper_bgcolor": "white",
                    "plot_bgcolor": "#E5ECF6",
                    "polar": {
                      "angularaxis": {
                        "gridcolor": "white",
                        "linecolor": "white",
                        "ticks": ""
                      },
                      "bgcolor": "#E5ECF6",
                      "radialaxis": {
                        "gridcolor": "white",
                        "linecolor": "white",
                        "ticks": ""
                      }
                    },
                    "scene": {
                      "xaxis": {
                        "backgroundcolor": "#E5ECF6",
                        "gridcolor": "white",
                        "gridwidth": 2,
                        "linecolor": "white",
                        "showbackground": true,
                        "ticks": "",
                        "zerolinecolor": "white"
                      },
                      "yaxis": {
                        "backgroundcolor": "#E5ECF6",
                        "gridcolor": "white",
                        "gridwidth": 2,
                        "linecolor": "white",
                        "showbackground": true,
                        "ticks": "",
                        "zerolinecolor": "white"
                      },
                      "zaxis": {
                        "backgroundcolor": "#E5ECF6",
                        "gridcolor": "white",
                        "gridwidth": 2,
                        "linecolor": "white",
                        "showbackground": true,
                        "ticks": "",
                        "zerolinecolor": "white"
                      }
                    },
                    "shapedefaults": {
                      "line": {
                        "color": "#2a3f5f"
                      }
                    },
                    "ternary": {
                      "aaxis": {
                        "gridcolor": "white",
                        "linecolor": "white",
                        "ticks": ""
                      },
                      "baxis": {
                        "gridcolor": "white",
                        "linecolor": "white",
                        "ticks": ""
                      },
                      "bgcolor": "#E5ECF6",
                      "caxis": {
                        "gridcolor": "white",
                        "linecolor": "white",
                        "ticks": ""
                      }
                    },
                    "title": {
                      "x": 0.05
                    },
                    "xaxis": {
                      "automargin": true,
                      "gridcolor": "white",
                      "linecolor": "white",
                      "ticks": "",
                      "title": {
                        "standoff": 15
                      },
                      "zerolinecolor": "white",
                      "zerolinewidth": 2
                    },
                    "yaxis": {
                      "automargin": true,
                      "gridcolor": "white",
                      "linecolor": "white",
                      "ticks": "",
                      "title": {
                        "standoff": 15
                      },
                      "zerolinecolor": "white",
                      "zerolinewidth": 2
                    }
                  }
                }
              }
            }
          },
          "metadata": {},
          "output_type": "display_data"
        }
      ],
      "source": [
        "import matplotlib.pyplot as plt\n",
        "import pandas as pd\n",
        "\n",
        "import plotly.express as px\n",
        "import plotly.io as pio\n",
        "\n",
        "res_df = pd.DataFrame(observations)\n",
        "fig = px.scatter_3d(res_df, x=0, y=1, z=2)\n",
        "\n",
        "pio.renderers.default = \"vscode\"\n",
        "fig.show()"
      ]
    },
    {
      "cell_type": "code",
      "execution_count": 177,
      "metadata": {
        "colab": {
          "base_uri": "https://localhost:8080/",
          "height": 542
        },
        "id": "Dq7wHuwzNdCT",
        "outputId": "c8d78a2b-fc01-4901-b501-a5ce8cda74e0"
      },
      "outputs": [
        {
          "data": {
            "application/vnd.plotly.v1+json": {
              "config": {
                "plotlyServerURL": "https://plot.ly"
              },
              "data": [
                {
                  "hovertemplate": "0=%{x}<br>1=%{y}<br>2=%{z}<br>color=%{marker.color}<extra></extra>",
                  "legendgroup": "",
                  "marker": {
                    "color": {
                      "bdata": "AAAAAAAAAAAAAAAAAAAAAAAAAAAAAAAAAAAAAAAAAAAAAAAAAAAAAAAAAAAAAAAAAAAAAAAAAAAAAAAAAAAAAAAAAAAAAAAAAAAAAAAAAAAAAAAAAAAAAAAAAAAAAAAAAAAAAAAAAAAAAAAAAAAAAAAAAAAAAAAAAAAAAAAAAAAAAAAAAAAAAAAAAAAAAAAAAAAAAAAAAAAAAAAAAAAAAAAAAAAAAAAAAAAAAAAAAAAAAAAAAAAAAAAAAAAAAAAAAAAAAAAAAAAAAAAAAAAAAAAAAAAAAAAAAAAAAAAAAAAAAAAAAAAAAAAAAAAAAAAAAAAAAAAAAAAAAAAAAAAAAAAAAAAAAAAAAAAAAAAAAAAAAAAAAAAAAAAAAAAAAAAAAAAAAAAAAAAAAAAAAQEBAQEBAQEBAQEBAQEBAQEBAQEBAQEBAQEBAQEBAQEBAQEBAQEBAQEBAQEBAQEBAQEBAQEBAQEBAQEBAQEBAQEBAQEBAQEBAQEBAQEBAQEBAQEBAQEBAQEBAQEBAQEBAQEBAQEBAQEBAQEBAQEBAQEBAQEBAQEBAQEBAQEBAQEBAQEBAQEBAQEBAQEBAQEBAQEBAQEBAQEBAQEBAQEBAQEBAQEBAQEBAQEBAQEBAQEBAQEBAQEBAQEBAQEBAQEBAQEBAQEBAQEBAQEBAQEBAQEBAQEBAQEBAQEBAQEBAQEBAQEBAQEBAQEBAQEBAQEBAQEBAQEBAQEBAQEBAQEBAQEBAQEBAQEBAQEBAQEBAQEBAQEBAQEBAQEBAQEBAQEBAQEBAQEBAQEBAQEBAwMDAwMDAwMDAwMDAwMDAwMDAwMDAwMDAwMDAwMDAwMDAwMDAwMDAwMDAwMDAwMDAwMDAwMDAwMDAwMDAwMDAwMDAwMDAwMDAwMDAwMDAwMDAwMDAwMDAwMDAwMDAwMDAwMDAwMDAwMDAwMDAwMDAwMDAwMDAwMDAwMDAwMDAwMDAwMDAwMDAwMDAwMDAwMDAwMDAwMDAwMDAwMDAwMDAwMDAwMDAwMDAwMDAwMDAwMDAwMDAwMDAwMDAwMDAwMDAwMDAwMDAwMDAwMDAwMDAwMDAwMDAwMDAwMDAwMDAwMDAwMDAwMDAwMDAwMDAwMDAwMDAwMDAwMDAwMDAwMDAwMDAwMDAwMDAwMDAwMDAwMDAwMDAwMDAwMDAwMDAwMDAwMDAwMDAwMDAwMDBAQEBAQEBAQEBAQEBAQEBAQEBAQEBAQEBAQEBAQEBAQEBAQEBAQEBAQEBAQEBAQEBAQEBAQEBAQEBAQEBAQEBAQEBAQEBAQEBAQEBAQEBAQEBAQEBAQEBAQEBAQEBAQEBAQEBAQEBAQEBAQEBAQEBAQEBAQEBAQEBAQEBAQEBAQEBAQEBAQEBAQEBAQEBAQEBAQEBAQEBAQEBAQEBAQEBAQEBAQEBAQEBAQEBAQEBAQEBAQEBAQEBAQEBAQEBAQEBAQEBAQEBAQEBAQEBAQEBAQEBAQEBAQEBAQEBAQEBAQEBAQEBAQEBAQEBAQEBAQEBAQEBAQEBAQEBAQEBAQEBAQEBAQEBAQEBAQEBAQEBAQEBAQEBAQEBAQEBAQEBAQEBAQEBAQEBAQEBAQEBQUFBQUFBQUFBQUFBQUFBQUFBQUFBQUFBQUFBQUFBQUFBQUFBQUFBQUFBQUFBQUFBQUFBQUFBQUFBQUFBQUFBQUFBQUFBQUFBQUFBQUFBQUFBQUFBQUFBQUFBQUFBQUFBQUFBQUFBQUFBQUFBQUFBQUFBQUFBQUFBQUFBQUFBQUFBQUFBQUFBQUFBQUFBQUFBQUFBQUFBQUFBQUFBQUFBQUFBQUFBQUFBQUFBQUFBQUFBQUFBQUFBQUFBQUFBQUFBQUFBQUFBQUFBQUFBQUFBQUFBQUFBQUFBQUFBQUFBQUFBQUFBQUFBQUFBQUFBQUFBQUFBQUFBQUFBQUFBQUFBQUFBQUFBQUFBQUFBQUFBQUFBQUFBQUFBQUFBQUFBQUFBQUFBQUFBQUFBQUF",
                      "dtype": "i1"
                    },
                    "coloraxis": "coloraxis",
                    "symbol": "circle"
                  },
                  "mode": "markers",
                  "name": "",
                  "scene": "scene",
                  "showlegend": false,
                  "type": "scatter3d",
                  "x": {
                    "bdata": "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",
                    "dtype": "f8"
                  },
                  "y": {
                    "bdata": "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",
                    "dtype": "f8"
                  },
                  "z": {
                    "bdata": "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",
                    "dtype": "f8"
                  }
                }
              ],
              "layout": {
                "coloraxis": {
                  "colorbar": {
                    "title": {
                      "text": "color"
                    }
                  },
                  "colorscale": [
                    [
                      0,
                      "#0d0887"
                    ],
                    [
                      0.1111111111111111,
                      "#46039f"
                    ],
                    [
                      0.2222222222222222,
                      "#7201a8"
                    ],
                    [
                      0.3333333333333333,
                      "#9c179e"
                    ],
                    [
                      0.4444444444444444,
                      "#bd3786"
                    ],
                    [
                      0.5555555555555556,
                      "#d8576b"
                    ],
                    [
                      0.6666666666666666,
                      "#ed7953"
                    ],
                    [
                      0.7777777777777778,
                      "#fb9f3a"
                    ],
                    [
                      0.8888888888888888,
                      "#fdca26"
                    ],
                    [
                      1,
                      "#f0f921"
                    ]
                  ]
                },
                "legend": {
                  "tracegroupgap": 0
                },
                "margin": {
                  "t": 60
                },
                "scene": {
                  "domain": {
                    "x": [
                      0,
                      1
                    ],
                    "y": [
                      0,
                      1
                    ]
                  },
                  "xaxis": {
                    "title": {
                      "text": "0"
                    }
                  },
                  "yaxis": {
                    "title": {
                      "text": "1"
                    }
                  },
                  "zaxis": {
                    "title": {
                      "text": "2"
                    }
                  }
                },
                "template": {
                  "data": {
                    "bar": [
                      {
                        "error_x": {
                          "color": "#2a3f5f"
                        },
                        "error_y": {
                          "color": "#2a3f5f"
                        },
                        "marker": {
                          "line": {
                            "color": "#E5ECF6",
                            "width": 0.5
                          },
                          "pattern": {
                            "fillmode": "overlay",
                            "size": 10,
                            "solidity": 0.2
                          }
                        },
                        "type": "bar"
                      }
                    ],
                    "barpolar": [
                      {
                        "marker": {
                          "line": {
                            "color": "#E5ECF6",
                            "width": 0.5
                          },
                          "pattern": {
                            "fillmode": "overlay",
                            "size": 10,
                            "solidity": 0.2
                          }
                        },
                        "type": "barpolar"
                      }
                    ],
                    "carpet": [
                      {
                        "aaxis": {
                          "endlinecolor": "#2a3f5f",
                          "gridcolor": "white",
                          "linecolor": "white",
                          "minorgridcolor": "white",
                          "startlinecolor": "#2a3f5f"
                        },
                        "baxis": {
                          "endlinecolor": "#2a3f5f",
                          "gridcolor": "white",
                          "linecolor": "white",
                          "minorgridcolor": "white",
                          "startlinecolor": "#2a3f5f"
                        },
                        "type": "carpet"
                      }
                    ],
                    "choropleth": [
                      {
                        "colorbar": {
                          "outlinewidth": 0,
                          "ticks": ""
                        },
                        "type": "choropleth"
                      }
                    ],
                    "contour": [
                      {
                        "colorbar": {
                          "outlinewidth": 0,
                          "ticks": ""
                        },
                        "colorscale": [
                          [
                            0,
                            "#0d0887"
                          ],
                          [
                            0.1111111111111111,
                            "#46039f"
                          ],
                          [
                            0.2222222222222222,
                            "#7201a8"
                          ],
                          [
                            0.3333333333333333,
                            "#9c179e"
                          ],
                          [
                            0.4444444444444444,
                            "#bd3786"
                          ],
                          [
                            0.5555555555555556,
                            "#d8576b"
                          ],
                          [
                            0.6666666666666666,
                            "#ed7953"
                          ],
                          [
                            0.7777777777777778,
                            "#fb9f3a"
                          ],
                          [
                            0.8888888888888888,
                            "#fdca26"
                          ],
                          [
                            1,
                            "#f0f921"
                          ]
                        ],
                        "type": "contour"
                      }
                    ],
                    "contourcarpet": [
                      {
                        "colorbar": {
                          "outlinewidth": 0,
                          "ticks": ""
                        },
                        "type": "contourcarpet"
                      }
                    ],
                    "heatmap": [
                      {
                        "colorbar": {
                          "outlinewidth": 0,
                          "ticks": ""
                        },
                        "colorscale": [
                          [
                            0,
                            "#0d0887"
                          ],
                          [
                            0.1111111111111111,
                            "#46039f"
                          ],
                          [
                            0.2222222222222222,
                            "#7201a8"
                          ],
                          [
                            0.3333333333333333,
                            "#9c179e"
                          ],
                          [
                            0.4444444444444444,
                            "#bd3786"
                          ],
                          [
                            0.5555555555555556,
                            "#d8576b"
                          ],
                          [
                            0.6666666666666666,
                            "#ed7953"
                          ],
                          [
                            0.7777777777777778,
                            "#fb9f3a"
                          ],
                          [
                            0.8888888888888888,
                            "#fdca26"
                          ],
                          [
                            1,
                            "#f0f921"
                          ]
                        ],
                        "type": "heatmap"
                      }
                    ],
                    "histogram": [
                      {
                        "marker": {
                          "pattern": {
                            "fillmode": "overlay",
                            "size": 10,
                            "solidity": 0.2
                          }
                        },
                        "type": "histogram"
                      }
                    ],
                    "histogram2d": [
                      {
                        "colorbar": {
                          "outlinewidth": 0,
                          "ticks": ""
                        },
                        "colorscale": [
                          [
                            0,
                            "#0d0887"
                          ],
                          [
                            0.1111111111111111,
                            "#46039f"
                          ],
                          [
                            0.2222222222222222,
                            "#7201a8"
                          ],
                          [
                            0.3333333333333333,
                            "#9c179e"
                          ],
                          [
                            0.4444444444444444,
                            "#bd3786"
                          ],
                          [
                            0.5555555555555556,
                            "#d8576b"
                          ],
                          [
                            0.6666666666666666,
                            "#ed7953"
                          ],
                          [
                            0.7777777777777778,
                            "#fb9f3a"
                          ],
                          [
                            0.8888888888888888,
                            "#fdca26"
                          ],
                          [
                            1,
                            "#f0f921"
                          ]
                        ],
                        "type": "histogram2d"
                      }
                    ],
                    "histogram2dcontour": [
                      {
                        "colorbar": {
                          "outlinewidth": 0,
                          "ticks": ""
                        },
                        "colorscale": [
                          [
                            0,
                            "#0d0887"
                          ],
                          [
                            0.1111111111111111,
                            "#46039f"
                          ],
                          [
                            0.2222222222222222,
                            "#7201a8"
                          ],
                          [
                            0.3333333333333333,
                            "#9c179e"
                          ],
                          [
                            0.4444444444444444,
                            "#bd3786"
                          ],
                          [
                            0.5555555555555556,
                            "#d8576b"
                          ],
                          [
                            0.6666666666666666,
                            "#ed7953"
                          ],
                          [
                            0.7777777777777778,
                            "#fb9f3a"
                          ],
                          [
                            0.8888888888888888,
                            "#fdca26"
                          ],
                          [
                            1,
                            "#f0f921"
                          ]
                        ],
                        "type": "histogram2dcontour"
                      }
                    ],
                    "mesh3d": [
                      {
                        "colorbar": {
                          "outlinewidth": 0,
                          "ticks": ""
                        },
                        "type": "mesh3d"
                      }
                    ],
                    "parcoords": [
                      {
                        "line": {
                          "colorbar": {
                            "outlinewidth": 0,
                            "ticks": ""
                          }
                        },
                        "type": "parcoords"
                      }
                    ],
                    "pie": [
                      {
                        "automargin": true,
                        "type": "pie"
                      }
                    ],
                    "scatter": [
                      {
                        "fillpattern": {
                          "fillmode": "overlay",
                          "size": 10,
                          "solidity": 0.2
                        },
                        "type": "scatter"
                      }
                    ],
                    "scatter3d": [
                      {
                        "line": {
                          "colorbar": {
                            "outlinewidth": 0,
                            "ticks": ""
                          }
                        },
                        "marker": {
                          "colorbar": {
                            "outlinewidth": 0,
                            "ticks": ""
                          }
                        },
                        "type": "scatter3d"
                      }
                    ],
                    "scattercarpet": [
                      {
                        "marker": {
                          "colorbar": {
                            "outlinewidth": 0,
                            "ticks": ""
                          }
                        },
                        "type": "scattercarpet"
                      }
                    ],
                    "scattergeo": [
                      {
                        "marker": {
                          "colorbar": {
                            "outlinewidth": 0,
                            "ticks": ""
                          }
                        },
                        "type": "scattergeo"
                      }
                    ],
                    "scattergl": [
                      {
                        "marker": {
                          "colorbar": {
                            "outlinewidth": 0,
                            "ticks": ""
                          }
                        },
                        "type": "scattergl"
                      }
                    ],
                    "scattermap": [
                      {
                        "marker": {
                          "colorbar": {
                            "outlinewidth": 0,
                            "ticks": ""
                          }
                        },
                        "type": "scattermap"
                      }
                    ],
                    "scattermapbox": [
                      {
                        "marker": {
                          "colorbar": {
                            "outlinewidth": 0,
                            "ticks": ""
                          }
                        },
                        "type": "scattermapbox"
                      }
                    ],
                    "scatterpolar": [
                      {
                        "marker": {
                          "colorbar": {
                            "outlinewidth": 0,
                            "ticks": ""
                          }
                        },
                        "type": "scatterpolar"
                      }
                    ],
                    "scatterpolargl": [
                      {
                        "marker": {
                          "colorbar": {
                            "outlinewidth": 0,
                            "ticks": ""
                          }
                        },
                        "type": "scatterpolargl"
                      }
                    ],
                    "scatterternary": [
                      {
                        "marker": {
                          "colorbar": {
                            "outlinewidth": 0,
                            "ticks": ""
                          }
                        },
                        "type": "scatterternary"
                      }
                    ],
                    "surface": [
                      {
                        "colorbar": {
                          "outlinewidth": 0,
                          "ticks": ""
                        },
                        "colorscale": [
                          [
                            0,
                            "#0d0887"
                          ],
                          [
                            0.1111111111111111,
                            "#46039f"
                          ],
                          [
                            0.2222222222222222,
                            "#7201a8"
                          ],
                          [
                            0.3333333333333333,
                            "#9c179e"
                          ],
                          [
                            0.4444444444444444,
                            "#bd3786"
                          ],
                          [
                            0.5555555555555556,
                            "#d8576b"
                          ],
                          [
                            0.6666666666666666,
                            "#ed7953"
                          ],
                          [
                            0.7777777777777778,
                            "#fb9f3a"
                          ],
                          [
                            0.8888888888888888,
                            "#fdca26"
                          ],
                          [
                            1,
                            "#f0f921"
                          ]
                        ],
                        "type": "surface"
                      }
                    ],
                    "table": [
                      {
                        "cells": {
                          "fill": {
                            "color": "#EBF0F8"
                          },
                          "line": {
                            "color": "white"
                          }
                        },
                        "header": {
                          "fill": {
                            "color": "#C8D4E3"
                          },
                          "line": {
                            "color": "white"
                          }
                        },
                        "type": "table"
                      }
                    ]
                  },
                  "layout": {
                    "annotationdefaults": {
                      "arrowcolor": "#2a3f5f",
                      "arrowhead": 0,
                      "arrowwidth": 1
                    },
                    "autotypenumbers": "strict",
                    "coloraxis": {
                      "colorbar": {
                        "outlinewidth": 0,
                        "ticks": ""
                      }
                    },
                    "colorscale": {
                      "diverging": [
                        [
                          0,
                          "#8e0152"
                        ],
                        [
                          0.1,
                          "#c51b7d"
                        ],
                        [
                          0.2,
                          "#de77ae"
                        ],
                        [
                          0.3,
                          "#f1b6da"
                        ],
                        [
                          0.4,
                          "#fde0ef"
                        ],
                        [
                          0.5,
                          "#f7f7f7"
                        ],
                        [
                          0.6,
                          "#e6f5d0"
                        ],
                        [
                          0.7,
                          "#b8e186"
                        ],
                        [
                          0.8,
                          "#7fbc41"
                        ],
                        [
                          0.9,
                          "#4d9221"
                        ],
                        [
                          1,
                          "#276419"
                        ]
                      ],
                      "sequential": [
                        [
                          0,
                          "#0d0887"
                        ],
                        [
                          0.1111111111111111,
                          "#46039f"
                        ],
                        [
                          0.2222222222222222,
                          "#7201a8"
                        ],
                        [
                          0.3333333333333333,
                          "#9c179e"
                        ],
                        [
                          0.4444444444444444,
                          "#bd3786"
                        ],
                        [
                          0.5555555555555556,
                          "#d8576b"
                        ],
                        [
                          0.6666666666666666,
                          "#ed7953"
                        ],
                        [
                          0.7777777777777778,
                          "#fb9f3a"
                        ],
                        [
                          0.8888888888888888,
                          "#fdca26"
                        ],
                        [
                          1,
                          "#f0f921"
                        ]
                      ],
                      "sequentialminus": [
                        [
                          0,
                          "#0d0887"
                        ],
                        [
                          0.1111111111111111,
                          "#46039f"
                        ],
                        [
                          0.2222222222222222,
                          "#7201a8"
                        ],
                        [
                          0.3333333333333333,
                          "#9c179e"
                        ],
                        [
                          0.4444444444444444,
                          "#bd3786"
                        ],
                        [
                          0.5555555555555556,
                          "#d8576b"
                        ],
                        [
                          0.6666666666666666,
                          "#ed7953"
                        ],
                        [
                          0.7777777777777778,
                          "#fb9f3a"
                        ],
                        [
                          0.8888888888888888,
                          "#fdca26"
                        ],
                        [
                          1,
                          "#f0f921"
                        ]
                      ]
                    },
                    "colorway": [
                      "#636efa",
                      "#EF553B",
                      "#00cc96",
                      "#ab63fa",
                      "#FFA15A",
                      "#19d3f3",
                      "#FF6692",
                      "#B6E880",
                      "#FF97FF",
                      "#FECB52"
                    ],
                    "font": {
                      "color": "#2a3f5f"
                    },
                    "geo": {
                      "bgcolor": "white",
                      "lakecolor": "white",
                      "landcolor": "#E5ECF6",
                      "showlakes": true,
                      "showland": true,
                      "subunitcolor": "white"
                    },
                    "hoverlabel": {
                      "align": "left"
                    },
                    "hovermode": "closest",
                    "mapbox": {
                      "style": "light"
                    },
                    "paper_bgcolor": "white",
                    "plot_bgcolor": "#E5ECF6",
                    "polar": {
                      "angularaxis": {
                        "gridcolor": "white",
                        "linecolor": "white",
                        "ticks": ""
                      },
                      "bgcolor": "#E5ECF6",
                      "radialaxis": {
                        "gridcolor": "white",
                        "linecolor": "white",
                        "ticks": ""
                      }
                    },
                    "scene": {
                      "xaxis": {
                        "backgroundcolor": "#E5ECF6",
                        "gridcolor": "white",
                        "gridwidth": 2,
                        "linecolor": "white",
                        "showbackground": true,
                        "ticks": "",
                        "zerolinecolor": "white"
                      },
                      "yaxis": {
                        "backgroundcolor": "#E5ECF6",
                        "gridcolor": "white",
                        "gridwidth": 2,
                        "linecolor": "white",
                        "showbackground": true,
                        "ticks": "",
                        "zerolinecolor": "white"
                      },
                      "zaxis": {
                        "backgroundcolor": "#E5ECF6",
                        "gridcolor": "white",
                        "gridwidth": 2,
                        "linecolor": "white",
                        "showbackground": true,
                        "ticks": "",
                        "zerolinecolor": "white"
                      }
                    },
                    "shapedefaults": {
                      "line": {
                        "color": "#2a3f5f"
                      }
                    },
                    "ternary": {
                      "aaxis": {
                        "gridcolor": "white",
                        "linecolor": "white",
                        "ticks": ""
                      },
                      "baxis": {
                        "gridcolor": "white",
                        "linecolor": "white",
                        "ticks": ""
                      },
                      "bgcolor": "#E5ECF6",
                      "caxis": {
                        "gridcolor": "white",
                        "linecolor": "white",
                        "ticks": ""
                      }
                    },
                    "title": {
                      "x": 0.05
                    },
                    "xaxis": {
                      "automargin": true,
                      "gridcolor": "white",
                      "linecolor": "white",
                      "ticks": "",
                      "title": {
                        "standoff": 15
                      },
                      "zerolinecolor": "white",
                      "zerolinewidth": 2
                    },
                    "yaxis": {
                      "automargin": true,
                      "gridcolor": "white",
                      "linecolor": "white",
                      "ticks": "",
                      "title": {
                        "standoff": 15
                      },
                      "zerolinecolor": "white",
                      "zerolinewidth": 2
                    }
                  }
                }
              }
            }
          },
          "metadata": {},
          "output_type": "display_data"
        }
      ],
      "source": [
        "fig = px.scatter_3d(res_df, x=0, y=1, z=2, color=labels.reshape(1500,))\n",
        "fig.show()"
      ]
    },
    {
      "cell_type": "code",
      "execution_count": 178,
      "metadata": {
        "colab": {
          "base_uri": "https://localhost:8080/",
          "height": 300
        },
        "id": "JepvEadAnSHE",
        "outputId": "afa21274-27fd-4025-9f84-0aa6ed441223"
      },
      "outputs": [
        {
          "data": {
            "text/html": [
              "<div>\n",
              "<style scoped>\n",
              "    .dataframe tbody tr th:only-of-type {\n",
              "        vertical-align: middle;\n",
              "    }\n",
              "\n",
              "    .dataframe tbody tr th {\n",
              "        vertical-align: top;\n",
              "    }\n",
              "\n",
              "    .dataframe thead th {\n",
              "        text-align: right;\n",
              "    }\n",
              "</style>\n",
              "<table border=\"1\" class=\"dataframe\">\n",
              "  <thead>\n",
              "    <tr style=\"text-align: right;\">\n",
              "      <th></th>\n",
              "      <th>0</th>\n",
              "      <th>1</th>\n",
              "      <th>2</th>\n",
              "    </tr>\n",
              "  </thead>\n",
              "  <tbody>\n",
              "    <tr>\n",
              "      <th>count</th>\n",
              "      <td>1500.000000</td>\n",
              "      <td>1500.000000</td>\n",
              "      <td>1500.000000</td>\n",
              "    </tr>\n",
              "    <tr>\n",
              "      <th>mean</th>\n",
              "      <td>0.500307</td>\n",
              "      <td>0.500520</td>\n",
              "      <td>0.489425</td>\n",
              "    </tr>\n",
              "    <tr>\n",
              "      <th>std</th>\n",
              "      <td>0.284576</td>\n",
              "      <td>0.285508</td>\n",
              "      <td>0.279379</td>\n",
              "    </tr>\n",
              "    <tr>\n",
              "      <th>min</th>\n",
              "      <td>0.000000</td>\n",
              "      <td>0.000000</td>\n",
              "      <td>0.000000</td>\n",
              "    </tr>\n",
              "    <tr>\n",
              "      <th>25%</th>\n",
              "      <td>0.280000</td>\n",
              "      <td>0.280000</td>\n",
              "      <td>0.274510</td>\n",
              "    </tr>\n",
              "    <tr>\n",
              "      <th>50%</th>\n",
              "      <td>0.500000</td>\n",
              "      <td>0.500000</td>\n",
              "      <td>0.490196</td>\n",
              "    </tr>\n",
              "    <tr>\n",
              "      <th>75%</th>\n",
              "      <td>0.720000</td>\n",
              "      <td>0.720000</td>\n",
              "      <td>0.705882</td>\n",
              "    </tr>\n",
              "    <tr>\n",
              "      <th>max</th>\n",
              "      <td>1.000000</td>\n",
              "      <td>1.000000</td>\n",
              "      <td>1.000000</td>\n",
              "    </tr>\n",
              "  </tbody>\n",
              "</table>\n",
              "</div>"
            ],
            "text/plain": [
              "                 0            1            2\n",
              "count  1500.000000  1500.000000  1500.000000\n",
              "mean      0.500307     0.500520     0.489425\n",
              "std       0.284576     0.285508     0.279379\n",
              "min       0.000000     0.000000     0.000000\n",
              "25%       0.280000     0.280000     0.274510\n",
              "50%       0.500000     0.500000     0.490196\n",
              "75%       0.720000     0.720000     0.705882\n",
              "max       1.000000     1.000000     1.000000"
            ]
          },
          "execution_count": 178,
          "metadata": {},
          "output_type": "execute_result"
        }
      ],
      "source": [
        "from sklearn.preprocessing import StandardScaler,MinMaxScaler\n",
        "sc = MinMaxScaler()\n",
        "observations_fitted =pd.DataFrame(sc.fit_transform(res_df))\n",
        "observations_fitted.describe()\n"
      ]
    },
    {
      "cell_type": "code",
      "execution_count": 179,
      "metadata": {
        "colab": {
          "base_uri": "https://localhost:8080/",
          "height": 542
        },
        "id": "8RrtMdMJs0_A",
        "outputId": "49538475-2073-49c9-b110-38d8d8db58b7"
      },
      "outputs": [
        {
          "data": {
            "application/vnd.plotly.v1+json": {
              "config": {
                "plotlyServerURL": "https://plot.ly"
              },
              "data": [
                {
                  "hovertemplate": "0=%{x}<br>1=%{y}<br>2=%{z}<br>color=%{marker.color}<extra></extra>",
                  "legendgroup": "",
                  "marker": {
                    "color": {
                      "bdata": "AAAAAAAAAAAAAAAAAAAAAAAAAAAAAAAAAAAAAAAAAAAAAAAAAAAAAAAAAAAAAAAAAAAAAAAAAAAAAAAAAAAAAAAAAAAAAAAAAAAAAAAAAAAAAAAAAAAAAAAAAAAAAAAAAAAAAAAAAAAAAAAAAAAAAAAAAAAAAAAAAAAAAAAAAAAAAAAAAAAAAAAAAAAAAAAAAAAAAAAAAAAAAAAAAAAAAAAAAAAAAAAAAAAAAAAAAAAAAAAAAAAAAAAAAAAAAAAAAAAAAAAAAAAAAAAAAAAAAAAAAAAAAAAAAAAAAAAAAAAAAAAAAAAAAAAAAAAAAAAAAAAAAAAAAAAAAAAAAAAAAAAAAAAAAAAAAAAAAAAAAAAAAAAAAAAAAAAAAAAAAAAAAAAAAAAAAAAAAAAAAQEBAQEBAQEBAQEBAQEBAQEBAQEBAQEBAQEBAQEBAQEBAQEBAQEBAQEBAQEBAQEBAQEBAQEBAQEBAQEBAQEBAQEBAQEBAQEBAQEBAQEBAQEBAQEBAQEBAQEBAQEBAQEBAQEBAQEBAQEBAQEBAQEBAQEBAQEBAQEBAQEBAQEBAQEBAQEBAQEBAQEBAQEBAQEBAQEBAQEBAQEBAQEBAQEBAQEBAQEBAQEBAQEBAQEBAQEBAQEBAQEBAQEBAQEBAQEBAQEBAQEBAQEBAQEBAQEBAQEBAQEBAQEBAQEBAQEBAQEBAQEBAQEBAQEBAQEBAQEBAQEBAQEBAQEBAQEBAQEBAQEBAQEBAQEBAQEBAQEBAQEBAQEBAQEBAQEBAQEBAQEBAQEBAQEBAQEBAQEBAwMDAwMDAwMDAwMDAwMDAwMDAwMDAwMDAwMDAwMDAwMDAwMDAwMDAwMDAwMDAwMDAwMDAwMDAwMDAwMDAwMDAwMDAwMDAwMDAwMDAwMDAwMDAwMDAwMDAwMDAwMDAwMDAwMDAwMDAwMDAwMDAwMDAwMDAwMDAwMDAwMDAwMDAwMDAwMDAwMDAwMDAwMDAwMDAwMDAwMDAwMDAwMDAwMDAwMDAwMDAwMDAwMDAwMDAwMDAwMDAwMDAwMDAwMDAwMDAwMDAwMDAwMDAwMDAwMDAwMDAwMDAwMDAwMDAwMDAwMDAwMDAwMDAwMDAwMDAwMDAwMDAwMDAwMDAwMDAwMDAwMDAwMDAwMDAwMDAwMDAwMDAwMDAwMDAwMDAwMDAwMDAwMDAwMDAwMDAwMDBAQEBAQEBAQEBAQEBAQEBAQEBAQEBAQEBAQEBAQEBAQEBAQEBAQEBAQEBAQEBAQEBAQEBAQEBAQEBAQEBAQEBAQEBAQEBAQEBAQEBAQEBAQEBAQEBAQEBAQEBAQEBAQEBAQEBAQEBAQEBAQEBAQEBAQEBAQEBAQEBAQEBAQEBAQEBAQEBAQEBAQEBAQEBAQEBAQEBAQEBAQEBAQEBAQEBAQEBAQEBAQEBAQEBAQEBAQEBAQEBAQEBAQEBAQEBAQEBAQEBAQEBAQEBAQEBAQEBAQEBAQEBAQEBAQEBAQEBAQEBAQEBAQEBAQEBAQEBAQEBAQEBAQEBAQEBAQEBAQEBAQEBAQEBAQEBAQEBAQEBAQEBAQEBAQEBAQEBAQEBAQEBAQEBAQEBAQEBAQEBQUFBQUFBQUFBQUFBQUFBQUFBQUFBQUFBQUFBQUFBQUFBQUFBQUFBQUFBQUFBQUFBQUFBQUFBQUFBQUFBQUFBQUFBQUFBQUFBQUFBQUFBQUFBQUFBQUFBQUFBQUFBQUFBQUFBQUFBQUFBQUFBQUFBQUFBQUFBQUFBQUFBQUFBQUFBQUFBQUFBQUFBQUFBQUFBQUFBQUFBQUFBQUFBQUFBQUFBQUFBQUFBQUFBQUFBQUFBQUFBQUFBQUFBQUFBQUFBQUFBQUFBQUFBQUFBQUFBQUFBQUFBQUFBQUFBQUFBQUFBQUFBQUFBQUFBQUFBQUFBQUFBQUFBQUFBQUFBQUFBQUFBQUFBQUFBQUFBQUFBQUFBQUFBQUFBQUFBQUFBQUFBQUFBQUFBQUFBQUF",
                      "dtype": "i1"
                    },
                    "coloraxis": "coloraxis",
                    "symbol": "circle"
                  },
                  "mode": "markers",
                  "name": "",
                  "scene": "scene",
                  "showlegend": false,
                  "type": "scatter3d",
                  "x": {
                    "bdata": "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",
                    "dtype": "f8"
                  },
                  "y": {
                    "bdata": "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",
                    "dtype": "f8"
                  },
                  "z": {
                    "bdata": "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",
                    "dtype": "f8"
                  }
                }
              ],
              "layout": {
                "coloraxis": {
                  "colorbar": {
                    "title": {
                      "text": "color"
                    }
                  },
                  "colorscale": [
                    [
                      0,
                      "#0d0887"
                    ],
                    [
                      0.1111111111111111,
                      "#46039f"
                    ],
                    [
                      0.2222222222222222,
                      "#7201a8"
                    ],
                    [
                      0.3333333333333333,
                      "#9c179e"
                    ],
                    [
                      0.4444444444444444,
                      "#bd3786"
                    ],
                    [
                      0.5555555555555556,
                      "#d8576b"
                    ],
                    [
                      0.6666666666666666,
                      "#ed7953"
                    ],
                    [
                      0.7777777777777778,
                      "#fb9f3a"
                    ],
                    [
                      0.8888888888888888,
                      "#fdca26"
                    ],
                    [
                      1,
                      "#f0f921"
                    ]
                  ]
                },
                "legend": {
                  "tracegroupgap": 0
                },
                "margin": {
                  "t": 60
                },
                "scene": {
                  "domain": {
                    "x": [
                      0,
                      1
                    ],
                    "y": [
                      0,
                      1
                    ]
                  },
                  "xaxis": {
                    "title": {
                      "text": "0"
                    }
                  },
                  "yaxis": {
                    "title": {
                      "text": "1"
                    }
                  },
                  "zaxis": {
                    "title": {
                      "text": "2"
                    }
                  }
                },
                "template": {
                  "data": {
                    "bar": [
                      {
                        "error_x": {
                          "color": "#2a3f5f"
                        },
                        "error_y": {
                          "color": "#2a3f5f"
                        },
                        "marker": {
                          "line": {
                            "color": "#E5ECF6",
                            "width": 0.5
                          },
                          "pattern": {
                            "fillmode": "overlay",
                            "size": 10,
                            "solidity": 0.2
                          }
                        },
                        "type": "bar"
                      }
                    ],
                    "barpolar": [
                      {
                        "marker": {
                          "line": {
                            "color": "#E5ECF6",
                            "width": 0.5
                          },
                          "pattern": {
                            "fillmode": "overlay",
                            "size": 10,
                            "solidity": 0.2
                          }
                        },
                        "type": "barpolar"
                      }
                    ],
                    "carpet": [
                      {
                        "aaxis": {
                          "endlinecolor": "#2a3f5f",
                          "gridcolor": "white",
                          "linecolor": "white",
                          "minorgridcolor": "white",
                          "startlinecolor": "#2a3f5f"
                        },
                        "baxis": {
                          "endlinecolor": "#2a3f5f",
                          "gridcolor": "white",
                          "linecolor": "white",
                          "minorgridcolor": "white",
                          "startlinecolor": "#2a3f5f"
                        },
                        "type": "carpet"
                      }
                    ],
                    "choropleth": [
                      {
                        "colorbar": {
                          "outlinewidth": 0,
                          "ticks": ""
                        },
                        "type": "choropleth"
                      }
                    ],
                    "contour": [
                      {
                        "colorbar": {
                          "outlinewidth": 0,
                          "ticks": ""
                        },
                        "colorscale": [
                          [
                            0,
                            "#0d0887"
                          ],
                          [
                            0.1111111111111111,
                            "#46039f"
                          ],
                          [
                            0.2222222222222222,
                            "#7201a8"
                          ],
                          [
                            0.3333333333333333,
                            "#9c179e"
                          ],
                          [
                            0.4444444444444444,
                            "#bd3786"
                          ],
                          [
                            0.5555555555555556,
                            "#d8576b"
                          ],
                          [
                            0.6666666666666666,
                            "#ed7953"
                          ],
                          [
                            0.7777777777777778,
                            "#fb9f3a"
                          ],
                          [
                            0.8888888888888888,
                            "#fdca26"
                          ],
                          [
                            1,
                            "#f0f921"
                          ]
                        ],
                        "type": "contour"
                      }
                    ],
                    "contourcarpet": [
                      {
                        "colorbar": {
                          "outlinewidth": 0,
                          "ticks": ""
                        },
                        "type": "contourcarpet"
                      }
                    ],
                    "heatmap": [
                      {
                        "colorbar": {
                          "outlinewidth": 0,
                          "ticks": ""
                        },
                        "colorscale": [
                          [
                            0,
                            "#0d0887"
                          ],
                          [
                            0.1111111111111111,
                            "#46039f"
                          ],
                          [
                            0.2222222222222222,
                            "#7201a8"
                          ],
                          [
                            0.3333333333333333,
                            "#9c179e"
                          ],
                          [
                            0.4444444444444444,
                            "#bd3786"
                          ],
                          [
                            0.5555555555555556,
                            "#d8576b"
                          ],
                          [
                            0.6666666666666666,
                            "#ed7953"
                          ],
                          [
                            0.7777777777777778,
                            "#fb9f3a"
                          ],
                          [
                            0.8888888888888888,
                            "#fdca26"
                          ],
                          [
                            1,
                            "#f0f921"
                          ]
                        ],
                        "type": "heatmap"
                      }
                    ],
                    "histogram": [
                      {
                        "marker": {
                          "pattern": {
                            "fillmode": "overlay",
                            "size": 10,
                            "solidity": 0.2
                          }
                        },
                        "type": "histogram"
                      }
                    ],
                    "histogram2d": [
                      {
                        "colorbar": {
                          "outlinewidth": 0,
                          "ticks": ""
                        },
                        "colorscale": [
                          [
                            0,
                            "#0d0887"
                          ],
                          [
                            0.1111111111111111,
                            "#46039f"
                          ],
                          [
                            0.2222222222222222,
                            "#7201a8"
                          ],
                          [
                            0.3333333333333333,
                            "#9c179e"
                          ],
                          [
                            0.4444444444444444,
                            "#bd3786"
                          ],
                          [
                            0.5555555555555556,
                            "#d8576b"
                          ],
                          [
                            0.6666666666666666,
                            "#ed7953"
                          ],
                          [
                            0.7777777777777778,
                            "#fb9f3a"
                          ],
                          [
                            0.8888888888888888,
                            "#fdca26"
                          ],
                          [
                            1,
                            "#f0f921"
                          ]
                        ],
                        "type": "histogram2d"
                      }
                    ],
                    "histogram2dcontour": [
                      {
                        "colorbar": {
                          "outlinewidth": 0,
                          "ticks": ""
                        },
                        "colorscale": [
                          [
                            0,
                            "#0d0887"
                          ],
                          [
                            0.1111111111111111,
                            "#46039f"
                          ],
                          [
                            0.2222222222222222,
                            "#7201a8"
                          ],
                          [
                            0.3333333333333333,
                            "#9c179e"
                          ],
                          [
                            0.4444444444444444,
                            "#bd3786"
                          ],
                          [
                            0.5555555555555556,
                            "#d8576b"
                          ],
                          [
                            0.6666666666666666,
                            "#ed7953"
                          ],
                          [
                            0.7777777777777778,
                            "#fb9f3a"
                          ],
                          [
                            0.8888888888888888,
                            "#fdca26"
                          ],
                          [
                            1,
                            "#f0f921"
                          ]
                        ],
                        "type": "histogram2dcontour"
                      }
                    ],
                    "mesh3d": [
                      {
                        "colorbar": {
                          "outlinewidth": 0,
                          "ticks": ""
                        },
                        "type": "mesh3d"
                      }
                    ],
                    "parcoords": [
                      {
                        "line": {
                          "colorbar": {
                            "outlinewidth": 0,
                            "ticks": ""
                          }
                        },
                        "type": "parcoords"
                      }
                    ],
                    "pie": [
                      {
                        "automargin": true,
                        "type": "pie"
                      }
                    ],
                    "scatter": [
                      {
                        "fillpattern": {
                          "fillmode": "overlay",
                          "size": 10,
                          "solidity": 0.2
                        },
                        "type": "scatter"
                      }
                    ],
                    "scatter3d": [
                      {
                        "line": {
                          "colorbar": {
                            "outlinewidth": 0,
                            "ticks": ""
                          }
                        },
                        "marker": {
                          "colorbar": {
                            "outlinewidth": 0,
                            "ticks": ""
                          }
                        },
                        "type": "scatter3d"
                      }
                    ],
                    "scattercarpet": [
                      {
                        "marker": {
                          "colorbar": {
                            "outlinewidth": 0,
                            "ticks": ""
                          }
                        },
                        "type": "scattercarpet"
                      }
                    ],
                    "scattergeo": [
                      {
                        "marker": {
                          "colorbar": {
                            "outlinewidth": 0,
                            "ticks": ""
                          }
                        },
                        "type": "scattergeo"
                      }
                    ],
                    "scattergl": [
                      {
                        "marker": {
                          "colorbar": {
                            "outlinewidth": 0,
                            "ticks": ""
                          }
                        },
                        "type": "scattergl"
                      }
                    ],
                    "scattermap": [
                      {
                        "marker": {
                          "colorbar": {
                            "outlinewidth": 0,
                            "ticks": ""
                          }
                        },
                        "type": "scattermap"
                      }
                    ],
                    "scattermapbox": [
                      {
                        "marker": {
                          "colorbar": {
                            "outlinewidth": 0,
                            "ticks": ""
                          }
                        },
                        "type": "scattermapbox"
                      }
                    ],
                    "scatterpolar": [
                      {
                        "marker": {
                          "colorbar": {
                            "outlinewidth": 0,
                            "ticks": ""
                          }
                        },
                        "type": "scatterpolar"
                      }
                    ],
                    "scatterpolargl": [
                      {
                        "marker": {
                          "colorbar": {
                            "outlinewidth": 0,
                            "ticks": ""
                          }
                        },
                        "type": "scatterpolargl"
                      }
                    ],
                    "scatterternary": [
                      {
                        "marker": {
                          "colorbar": {
                            "outlinewidth": 0,
                            "ticks": ""
                          }
                        },
                        "type": "scatterternary"
                      }
                    ],
                    "surface": [
                      {
                        "colorbar": {
                          "outlinewidth": 0,
                          "ticks": ""
                        },
                        "colorscale": [
                          [
                            0,
                            "#0d0887"
                          ],
                          [
                            0.1111111111111111,
                            "#46039f"
                          ],
                          [
                            0.2222222222222222,
                            "#7201a8"
                          ],
                          [
                            0.3333333333333333,
                            "#9c179e"
                          ],
                          [
                            0.4444444444444444,
                            "#bd3786"
                          ],
                          [
                            0.5555555555555556,
                            "#d8576b"
                          ],
                          [
                            0.6666666666666666,
                            "#ed7953"
                          ],
                          [
                            0.7777777777777778,
                            "#fb9f3a"
                          ],
                          [
                            0.8888888888888888,
                            "#fdca26"
                          ],
                          [
                            1,
                            "#f0f921"
                          ]
                        ],
                        "type": "surface"
                      }
                    ],
                    "table": [
                      {
                        "cells": {
                          "fill": {
                            "color": "#EBF0F8"
                          },
                          "line": {
                            "color": "white"
                          }
                        },
                        "header": {
                          "fill": {
                            "color": "#C8D4E3"
                          },
                          "line": {
                            "color": "white"
                          }
                        },
                        "type": "table"
                      }
                    ]
                  },
                  "layout": {
                    "annotationdefaults": {
                      "arrowcolor": "#2a3f5f",
                      "arrowhead": 0,
                      "arrowwidth": 1
                    },
                    "autotypenumbers": "strict",
                    "coloraxis": {
                      "colorbar": {
                        "outlinewidth": 0,
                        "ticks": ""
                      }
                    },
                    "colorscale": {
                      "diverging": [
                        [
                          0,
                          "#8e0152"
                        ],
                        [
                          0.1,
                          "#c51b7d"
                        ],
                        [
                          0.2,
                          "#de77ae"
                        ],
                        [
                          0.3,
                          "#f1b6da"
                        ],
                        [
                          0.4,
                          "#fde0ef"
                        ],
                        [
                          0.5,
                          "#f7f7f7"
                        ],
                        [
                          0.6,
                          "#e6f5d0"
                        ],
                        [
                          0.7,
                          "#b8e186"
                        ],
                        [
                          0.8,
                          "#7fbc41"
                        ],
                        [
                          0.9,
                          "#4d9221"
                        ],
                        [
                          1,
                          "#276419"
                        ]
                      ],
                      "sequential": [
                        [
                          0,
                          "#0d0887"
                        ],
                        [
                          0.1111111111111111,
                          "#46039f"
                        ],
                        [
                          0.2222222222222222,
                          "#7201a8"
                        ],
                        [
                          0.3333333333333333,
                          "#9c179e"
                        ],
                        [
                          0.4444444444444444,
                          "#bd3786"
                        ],
                        [
                          0.5555555555555556,
                          "#d8576b"
                        ],
                        [
                          0.6666666666666666,
                          "#ed7953"
                        ],
                        [
                          0.7777777777777778,
                          "#fb9f3a"
                        ],
                        [
                          0.8888888888888888,
                          "#fdca26"
                        ],
                        [
                          1,
                          "#f0f921"
                        ]
                      ],
                      "sequentialminus": [
                        [
                          0,
                          "#0d0887"
                        ],
                        [
                          0.1111111111111111,
                          "#46039f"
                        ],
                        [
                          0.2222222222222222,
                          "#7201a8"
                        ],
                        [
                          0.3333333333333333,
                          "#9c179e"
                        ],
                        [
                          0.4444444444444444,
                          "#bd3786"
                        ],
                        [
                          0.5555555555555556,
                          "#d8576b"
                        ],
                        [
                          0.6666666666666666,
                          "#ed7953"
                        ],
                        [
                          0.7777777777777778,
                          "#fb9f3a"
                        ],
                        [
                          0.8888888888888888,
                          "#fdca26"
                        ],
                        [
                          1,
                          "#f0f921"
                        ]
                      ]
                    },
                    "colorway": [
                      "#636efa",
                      "#EF553B",
                      "#00cc96",
                      "#ab63fa",
                      "#FFA15A",
                      "#19d3f3",
                      "#FF6692",
                      "#B6E880",
                      "#FF97FF",
                      "#FECB52"
                    ],
                    "font": {
                      "color": "#2a3f5f"
                    },
                    "geo": {
                      "bgcolor": "white",
                      "lakecolor": "white",
                      "landcolor": "#E5ECF6",
                      "showlakes": true,
                      "showland": true,
                      "subunitcolor": "white"
                    },
                    "hoverlabel": {
                      "align": "left"
                    },
                    "hovermode": "closest",
                    "mapbox": {
                      "style": "light"
                    },
                    "paper_bgcolor": "white",
                    "plot_bgcolor": "#E5ECF6",
                    "polar": {
                      "angularaxis": {
                        "gridcolor": "white",
                        "linecolor": "white",
                        "ticks": ""
                      },
                      "bgcolor": "#E5ECF6",
                      "radialaxis": {
                        "gridcolor": "white",
                        "linecolor": "white",
                        "ticks": ""
                      }
                    },
                    "scene": {
                      "xaxis": {
                        "backgroundcolor": "#E5ECF6",
                        "gridcolor": "white",
                        "gridwidth": 2,
                        "linecolor": "white",
                        "showbackground": true,
                        "ticks": "",
                        "zerolinecolor": "white"
                      },
                      "yaxis": {
                        "backgroundcolor": "#E5ECF6",
                        "gridcolor": "white",
                        "gridwidth": 2,
                        "linecolor": "white",
                        "showbackground": true,
                        "ticks": "",
                        "zerolinecolor": "white"
                      },
                      "zaxis": {
                        "backgroundcolor": "#E5ECF6",
                        "gridcolor": "white",
                        "gridwidth": 2,
                        "linecolor": "white",
                        "showbackground": true,
                        "ticks": "",
                        "zerolinecolor": "white"
                      }
                    },
                    "shapedefaults": {
                      "line": {
                        "color": "#2a3f5f"
                      }
                    },
                    "ternary": {
                      "aaxis": {
                        "gridcolor": "white",
                        "linecolor": "white",
                        "ticks": ""
                      },
                      "baxis": {
                        "gridcolor": "white",
                        "linecolor": "white",
                        "ticks": ""
                      },
                      "bgcolor": "#E5ECF6",
                      "caxis": {
                        "gridcolor": "white",
                        "linecolor": "white",
                        "ticks": ""
                      }
                    },
                    "title": {
                      "x": 0.05
                    },
                    "xaxis": {
                      "automargin": true,
                      "gridcolor": "white",
                      "linecolor": "white",
                      "ticks": "",
                      "title": {
                        "standoff": 15
                      },
                      "zerolinecolor": "white",
                      "zerolinewidth": 2
                    },
                    "yaxis": {
                      "automargin": true,
                      "gridcolor": "white",
                      "linecolor": "white",
                      "ticks": "",
                      "title": {
                        "standoff": 15
                      },
                      "zerolinecolor": "white",
                      "zerolinewidth": 2
                    }
                  }
                }
              }
            }
          },
          "metadata": {},
          "output_type": "display_data"
        }
      ],
      "source": [
        "fig = px.scatter_3d(observations_fitted, x=0, y=1, z=2, color=labels.reshape(1500,))\n",
        "fig.show()"
      ]
    },
    {
      "cell_type": "code",
      "execution_count": 180,
      "metadata": {
        "id": "hlESEu5YToci"
      },
      "outputs": [],
      "source": [
        "X_train, X_test, y_train, y_test = train_test_split(observations_fitted, labels.reshape(1500,), test_size=0.2, random_state=42)"
      ]
    },
    {
      "cell_type": "markdown",
      "metadata": {
        "id": "FLz3yZJO2N7l"
      },
      "source": [
        "**Осуществим кластеризацию методом k-средних**"
      ]
    },
    {
      "cell_type": "code",
      "execution_count": 181,
      "metadata": {
        "colab": {
          "base_uri": "https://localhost:8080/"
        },
        "id": "x-KivM5aNHv9",
        "outputId": "197d386a-8675-4047-9995-b6f47afd444e"
      },
      "outputs": [],
      "source": [
        "kmeans = KMeans(n_clusters=5, random_state=0).fit(X_train)"
      ]
    },
    {
      "cell_type": "code",
      "execution_count": 182,
      "metadata": {
        "colab": {
          "base_uri": "https://localhost:8080/"
        },
        "id": "B_3qT0p0NHv9",
        "outputId": "5317ff3b-01ff-4d3d-dda5-bd2462d09392"
      },
      "outputs": [
        {
          "name": "stdout",
          "output_type": "stream",
          "text": [
            "          0         1         2\n",
            "0  0.703761  0.699573  0.683844\n",
            "1  0.302894  0.305021  0.299124\n",
            "2  0.101148  0.100820  0.097878\n",
            "3  0.896017  0.901356  0.882602\n",
            "4  0.498088  0.500239  0.486603\n"
          ]
        }
      ],
      "source": [
        "df_cluster_centers=pd.DataFrame(kmeans.cluster_centers_)\n",
        "print(df_cluster_centers)"
      ]
    },
    {
      "cell_type": "code",
      "execution_count": null,
      "metadata": {
        "colab": {
          "base_uri": "https://localhost:8080/"
        },
        "id": "i0QmJpb8S_nG",
        "outputId": "8f4ecc44-1c6e-43dc-9ce6-e4208e63e111"
      },
      "outputs": [
        {
          "name": "stdout",
          "output_type": "stream",
          "text": [
            "[[  0   0 244   0   0   0]\n",
            " [  0 235   0   0   0   0]\n",
            " [  0   0   0   0   0   0]\n",
            " [  0   0   0   0 251   0]\n",
            " [234   0   0   0   0   0]\n",
            " [  0   0   0 236   0   0]]\n"
          ]
        }
      ],
      "source": [
        "from sklearn.metrics import confusion_matrix\n",
        "\n",
        "\n",
        "print(confusion_matrix(y_train, kmeans.labels_))"
      ]
    },
    {
      "cell_type": "code",
      "execution_count": null,
      "metadata": {
        "id": "464krwXu_ErW"
      },
      "outputs": [
        {
          "name": "stdout",
          "output_type": "stream",
          "text": [
            "[[ 0  0 56  0  0  0]\n",
            " [ 0 65  0  0  0  0]\n",
            " [ 0  0  0  0  0  0]\n",
            " [ 0  0  0  0 49  0]\n",
            " [66  0  0  0  0  0]\n",
            " [ 0  0  0 64  0  0]]\n"
          ]
        }
      ],
      "source": [
        "print(confusion_matrix(y_test, kmeans.predict(X_test)))"
      ]
    },
    {
      "cell_type": "code",
      "execution_count": 185,
      "metadata": {
        "id": "4aISFVKO_GDZ"
      },
      "outputs": [
        {
          "name": "stdout",
          "output_type": "stream",
          "text": [
            "%pylab is deprecated, use %matplotlib inline and import the required libraries.\n",
            "Populating the interactive namespace from numpy and matplotlib\n"
          ]
        }
      ],
      "source": [
        "import matplotlib.pyplot as plt\n",
        "%pylab inline"
      ]
    },
    {
      "cell_type": "code",
      "execution_count": null,
      "metadata": {
        "id": "GPsYrO5X_WLb"
      },
      "outputs": [
        {
          "data": {
            "application/vnd.plotly.v1+json": {
              "config": {
                "plotlyServerURL": "https://plot.ly"
              },
              "data": [
                {
                  "marker": {
                    "color": {
                      "bdata": "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",
                      "dtype": "i4"
                    },
                    "size": 2
                  },
                  "mode": "markers",
                  "type": "scatter3d",
                  "x": {
                    "bdata": "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",
                    "dtype": "f8"
                  },
                  "y": {
                    "bdata": "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",
                    "dtype": "f8"
                  },
                  "z": {
                    "bdata": "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",
                    "dtype": "f8"
                  }
                },
                {
                  "marker": {
                    "color": "red",
                    "size": 4
                  },
                  "mode": "markers",
                  "type": "scatter3d",
                  "x": {
                    "bdata": "us4eIDWF5j+NgdHom2LTP8RsmCTO5Lk/HbOovCus7D/QYi4Fq+DfPw==",
                    "dtype": "f8"
                  },
                  "y": {
                    "bdata": "LuZiLuZi5j90BuT1d4XTP7jCmGpRz7k/GtBbZejX7D/TGa1P9QHgPw==",
                    "dtype": "f8"
                  },
                  "z": {
                    "bdata": "fLiM0A3i5T8iojqX2CTTPwgC2KmQDrk/cLOD9EY+7D8SdSJFfyTfPw==",
                    "dtype": "f8"
                  }
                }
              ],
              "layout": {
                "template": {
                  "data": {
                    "bar": [
                      {
                        "error_x": {
                          "color": "#2a3f5f"
                        },
                        "error_y": {
                          "color": "#2a3f5f"
                        },
                        "marker": {
                          "line": {
                            "color": "#E5ECF6",
                            "width": 0.5
                          },
                          "pattern": {
                            "fillmode": "overlay",
                            "size": 10,
                            "solidity": 0.2
                          }
                        },
                        "type": "bar"
                      }
                    ],
                    "barpolar": [
                      {
                        "marker": {
                          "line": {
                            "color": "#E5ECF6",
                            "width": 0.5
                          },
                          "pattern": {
                            "fillmode": "overlay",
                            "size": 10,
                            "solidity": 0.2
                          }
                        },
                        "type": "barpolar"
                      }
                    ],
                    "carpet": [
                      {
                        "aaxis": {
                          "endlinecolor": "#2a3f5f",
                          "gridcolor": "white",
                          "linecolor": "white",
                          "minorgridcolor": "white",
                          "startlinecolor": "#2a3f5f"
                        },
                        "baxis": {
                          "endlinecolor": "#2a3f5f",
                          "gridcolor": "white",
                          "linecolor": "white",
                          "minorgridcolor": "white",
                          "startlinecolor": "#2a3f5f"
                        },
                        "type": "carpet"
                      }
                    ],
                    "choropleth": [
                      {
                        "colorbar": {
                          "outlinewidth": 0,
                          "ticks": ""
                        },
                        "type": "choropleth"
                      }
                    ],
                    "contour": [
                      {
                        "colorbar": {
                          "outlinewidth": 0,
                          "ticks": ""
                        },
                        "colorscale": [
                          [
                            0,
                            "#0d0887"
                          ],
                          [
                            0.1111111111111111,
                            "#46039f"
                          ],
                          [
                            0.2222222222222222,
                            "#7201a8"
                          ],
                          [
                            0.3333333333333333,
                            "#9c179e"
                          ],
                          [
                            0.4444444444444444,
                            "#bd3786"
                          ],
                          [
                            0.5555555555555556,
                            "#d8576b"
                          ],
                          [
                            0.6666666666666666,
                            "#ed7953"
                          ],
                          [
                            0.7777777777777778,
                            "#fb9f3a"
                          ],
                          [
                            0.8888888888888888,
                            "#fdca26"
                          ],
                          [
                            1,
                            "#f0f921"
                          ]
                        ],
                        "type": "contour"
                      }
                    ],
                    "contourcarpet": [
                      {
                        "colorbar": {
                          "outlinewidth": 0,
                          "ticks": ""
                        },
                        "type": "contourcarpet"
                      }
                    ],
                    "heatmap": [
                      {
                        "colorbar": {
                          "outlinewidth": 0,
                          "ticks": ""
                        },
                        "colorscale": [
                          [
                            0,
                            "#0d0887"
                          ],
                          [
                            0.1111111111111111,
                            "#46039f"
                          ],
                          [
                            0.2222222222222222,
                            "#7201a8"
                          ],
                          [
                            0.3333333333333333,
                            "#9c179e"
                          ],
                          [
                            0.4444444444444444,
                            "#bd3786"
                          ],
                          [
                            0.5555555555555556,
                            "#d8576b"
                          ],
                          [
                            0.6666666666666666,
                            "#ed7953"
                          ],
                          [
                            0.7777777777777778,
                            "#fb9f3a"
                          ],
                          [
                            0.8888888888888888,
                            "#fdca26"
                          ],
                          [
                            1,
                            "#f0f921"
                          ]
                        ],
                        "type": "heatmap"
                      }
                    ],
                    "histogram": [
                      {
                        "marker": {
                          "pattern": {
                            "fillmode": "overlay",
                            "size": 10,
                            "solidity": 0.2
                          }
                        },
                        "type": "histogram"
                      }
                    ],
                    "histogram2d": [
                      {
                        "colorbar": {
                          "outlinewidth": 0,
                          "ticks": ""
                        },
                        "colorscale": [
                          [
                            0,
                            "#0d0887"
                          ],
                          [
                            0.1111111111111111,
                            "#46039f"
                          ],
                          [
                            0.2222222222222222,
                            "#7201a8"
                          ],
                          [
                            0.3333333333333333,
                            "#9c179e"
                          ],
                          [
                            0.4444444444444444,
                            "#bd3786"
                          ],
                          [
                            0.5555555555555556,
                            "#d8576b"
                          ],
                          [
                            0.6666666666666666,
                            "#ed7953"
                          ],
                          [
                            0.7777777777777778,
                            "#fb9f3a"
                          ],
                          [
                            0.8888888888888888,
                            "#fdca26"
                          ],
                          [
                            1,
                            "#f0f921"
                          ]
                        ],
                        "type": "histogram2d"
                      }
                    ],
                    "histogram2dcontour": [
                      {
                        "colorbar": {
                          "outlinewidth": 0,
                          "ticks": ""
                        },
                        "colorscale": [
                          [
                            0,
                            "#0d0887"
                          ],
                          [
                            0.1111111111111111,
                            "#46039f"
                          ],
                          [
                            0.2222222222222222,
                            "#7201a8"
                          ],
                          [
                            0.3333333333333333,
                            "#9c179e"
                          ],
                          [
                            0.4444444444444444,
                            "#bd3786"
                          ],
                          [
                            0.5555555555555556,
                            "#d8576b"
                          ],
                          [
                            0.6666666666666666,
                            "#ed7953"
                          ],
                          [
                            0.7777777777777778,
                            "#fb9f3a"
                          ],
                          [
                            0.8888888888888888,
                            "#fdca26"
                          ],
                          [
                            1,
                            "#f0f921"
                          ]
                        ],
                        "type": "histogram2dcontour"
                      }
                    ],
                    "mesh3d": [
                      {
                        "colorbar": {
                          "outlinewidth": 0,
                          "ticks": ""
                        },
                        "type": "mesh3d"
                      }
                    ],
                    "parcoords": [
                      {
                        "line": {
                          "colorbar": {
                            "outlinewidth": 0,
                            "ticks": ""
                          }
                        },
                        "type": "parcoords"
                      }
                    ],
                    "pie": [
                      {
                        "automargin": true,
                        "type": "pie"
                      }
                    ],
                    "scatter": [
                      {
                        "fillpattern": {
                          "fillmode": "overlay",
                          "size": 10,
                          "solidity": 0.2
                        },
                        "type": "scatter"
                      }
                    ],
                    "scatter3d": [
                      {
                        "line": {
                          "colorbar": {
                            "outlinewidth": 0,
                            "ticks": ""
                          }
                        },
                        "marker": {
                          "colorbar": {
                            "outlinewidth": 0,
                            "ticks": ""
                          }
                        },
                        "type": "scatter3d"
                      }
                    ],
                    "scattercarpet": [
                      {
                        "marker": {
                          "colorbar": {
                            "outlinewidth": 0,
                            "ticks": ""
                          }
                        },
                        "type": "scattercarpet"
                      }
                    ],
                    "scattergeo": [
                      {
                        "marker": {
                          "colorbar": {
                            "outlinewidth": 0,
                            "ticks": ""
                          }
                        },
                        "type": "scattergeo"
                      }
                    ],
                    "scattergl": [
                      {
                        "marker": {
                          "colorbar": {
                            "outlinewidth": 0,
                            "ticks": ""
                          }
                        },
                        "type": "scattergl"
                      }
                    ],
                    "scattermap": [
                      {
                        "marker": {
                          "colorbar": {
                            "outlinewidth": 0,
                            "ticks": ""
                          }
                        },
                        "type": "scattermap"
                      }
                    ],
                    "scattermapbox": [
                      {
                        "marker": {
                          "colorbar": {
                            "outlinewidth": 0,
                            "ticks": ""
                          }
                        },
                        "type": "scattermapbox"
                      }
                    ],
                    "scatterpolar": [
                      {
                        "marker": {
                          "colorbar": {
                            "outlinewidth": 0,
                            "ticks": ""
                          }
                        },
                        "type": "scatterpolar"
                      }
                    ],
                    "scatterpolargl": [
                      {
                        "marker": {
                          "colorbar": {
                            "outlinewidth": 0,
                            "ticks": ""
                          }
                        },
                        "type": "scatterpolargl"
                      }
                    ],
                    "scatterternary": [
                      {
                        "marker": {
                          "colorbar": {
                            "outlinewidth": 0,
                            "ticks": ""
                          }
                        },
                        "type": "scatterternary"
                      }
                    ],
                    "surface": [
                      {
                        "colorbar": {
                          "outlinewidth": 0,
                          "ticks": ""
                        },
                        "colorscale": [
                          [
                            0,
                            "#0d0887"
                          ],
                          [
                            0.1111111111111111,
                            "#46039f"
                          ],
                          [
                            0.2222222222222222,
                            "#7201a8"
                          ],
                          [
                            0.3333333333333333,
                            "#9c179e"
                          ],
                          [
                            0.4444444444444444,
                            "#bd3786"
                          ],
                          [
                            0.5555555555555556,
                            "#d8576b"
                          ],
                          [
                            0.6666666666666666,
                            "#ed7953"
                          ],
                          [
                            0.7777777777777778,
                            "#fb9f3a"
                          ],
                          [
                            0.8888888888888888,
                            "#fdca26"
                          ],
                          [
                            1,
                            "#f0f921"
                          ]
                        ],
                        "type": "surface"
                      }
                    ],
                    "table": [
                      {
                        "cells": {
                          "fill": {
                            "color": "#EBF0F8"
                          },
                          "line": {
                            "color": "white"
                          }
                        },
                        "header": {
                          "fill": {
                            "color": "#C8D4E3"
                          },
                          "line": {
                            "color": "white"
                          }
                        },
                        "type": "table"
                      }
                    ]
                  },
                  "layout": {
                    "annotationdefaults": {
                      "arrowcolor": "#2a3f5f",
                      "arrowhead": 0,
                      "arrowwidth": 1
                    },
                    "autotypenumbers": "strict",
                    "coloraxis": {
                      "colorbar": {
                        "outlinewidth": 0,
                        "ticks": ""
                      }
                    },
                    "colorscale": {
                      "diverging": [
                        [
                          0,
                          "#8e0152"
                        ],
                        [
                          0.1,
                          "#c51b7d"
                        ],
                        [
                          0.2,
                          "#de77ae"
                        ],
                        [
                          0.3,
                          "#f1b6da"
                        ],
                        [
                          0.4,
                          "#fde0ef"
                        ],
                        [
                          0.5,
                          "#f7f7f7"
                        ],
                        [
                          0.6,
                          "#e6f5d0"
                        ],
                        [
                          0.7,
                          "#b8e186"
                        ],
                        [
                          0.8,
                          "#7fbc41"
                        ],
                        [
                          0.9,
                          "#4d9221"
                        ],
                        [
                          1,
                          "#276419"
                        ]
                      ],
                      "sequential": [
                        [
                          0,
                          "#0d0887"
                        ],
                        [
                          0.1111111111111111,
                          "#46039f"
                        ],
                        [
                          0.2222222222222222,
                          "#7201a8"
                        ],
                        [
                          0.3333333333333333,
                          "#9c179e"
                        ],
                        [
                          0.4444444444444444,
                          "#bd3786"
                        ],
                        [
                          0.5555555555555556,
                          "#d8576b"
                        ],
                        [
                          0.6666666666666666,
                          "#ed7953"
                        ],
                        [
                          0.7777777777777778,
                          "#fb9f3a"
                        ],
                        [
                          0.8888888888888888,
                          "#fdca26"
                        ],
                        [
                          1,
                          "#f0f921"
                        ]
                      ],
                      "sequentialminus": [
                        [
                          0,
                          "#0d0887"
                        ],
                        [
                          0.1111111111111111,
                          "#46039f"
                        ],
                        [
                          0.2222222222222222,
                          "#7201a8"
                        ],
                        [
                          0.3333333333333333,
                          "#9c179e"
                        ],
                        [
                          0.4444444444444444,
                          "#bd3786"
                        ],
                        [
                          0.5555555555555556,
                          "#d8576b"
                        ],
                        [
                          0.6666666666666666,
                          "#ed7953"
                        ],
                        [
                          0.7777777777777778,
                          "#fb9f3a"
                        ],
                        [
                          0.8888888888888888,
                          "#fdca26"
                        ],
                        [
                          1,
                          "#f0f921"
                        ]
                      ]
                    },
                    "colorway": [
                      "#636efa",
                      "#EF553B",
                      "#00cc96",
                      "#ab63fa",
                      "#FFA15A",
                      "#19d3f3",
                      "#FF6692",
                      "#B6E880",
                      "#FF97FF",
                      "#FECB52"
                    ],
                    "font": {
                      "color": "#2a3f5f"
                    },
                    "geo": {
                      "bgcolor": "white",
                      "lakecolor": "white",
                      "landcolor": "#E5ECF6",
                      "showlakes": true,
                      "showland": true,
                      "subunitcolor": "white"
                    },
                    "hoverlabel": {
                      "align": "left"
                    },
                    "hovermode": "closest",
                    "mapbox": {
                      "style": "light"
                    },
                    "paper_bgcolor": "white",
                    "plot_bgcolor": "#E5ECF6",
                    "polar": {
                      "angularaxis": {
                        "gridcolor": "white",
                        "linecolor": "white",
                        "ticks": ""
                      },
                      "bgcolor": "#E5ECF6",
                      "radialaxis": {
                        "gridcolor": "white",
                        "linecolor": "white",
                        "ticks": ""
                      }
                    },
                    "scene": {
                      "xaxis": {
                        "backgroundcolor": "#E5ECF6",
                        "gridcolor": "white",
                        "gridwidth": 2,
                        "linecolor": "white",
                        "showbackground": true,
                        "ticks": "",
                        "zerolinecolor": "white"
                      },
                      "yaxis": {
                        "backgroundcolor": "#E5ECF6",
                        "gridcolor": "white",
                        "gridwidth": 2,
                        "linecolor": "white",
                        "showbackground": true,
                        "ticks": "",
                        "zerolinecolor": "white"
                      },
                      "zaxis": {
                        "backgroundcolor": "#E5ECF6",
                        "gridcolor": "white",
                        "gridwidth": 2,
                        "linecolor": "white",
                        "showbackground": true,
                        "ticks": "",
                        "zerolinecolor": "white"
                      }
                    },
                    "shapedefaults": {
                      "line": {
                        "color": "#2a3f5f"
                      }
                    },
                    "ternary": {
                      "aaxis": {
                        "gridcolor": "white",
                        "linecolor": "white",
                        "ticks": ""
                      },
                      "baxis": {
                        "gridcolor": "white",
                        "linecolor": "white",
                        "ticks": ""
                      },
                      "bgcolor": "#E5ECF6",
                      "caxis": {
                        "gridcolor": "white",
                        "linecolor": "white",
                        "ticks": ""
                      }
                    },
                    "title": {
                      "x": 0.05
                    },
                    "xaxis": {
                      "automargin": true,
                      "gridcolor": "white",
                      "linecolor": "white",
                      "ticks": "",
                      "title": {
                        "standoff": 15
                      },
                      "zerolinecolor": "white",
                      "zerolinewidth": 2
                    },
                    "yaxis": {
                      "automargin": true,
                      "gridcolor": "white",
                      "linecolor": "white",
                      "ticks": "",
                      "title": {
                        "standoff": 15
                      },
                      "zerolinecolor": "white",
                      "zerolinewidth": 2
                    }
                  }
                }
              }
            }
          },
          "metadata": {},
          "output_type": "display_data"
        }
      ],
      "source": [
        "import plotly.graph_objects as go\n",
        "fig = go.Figure(data=[\n",
        "\tgo.Scatter3d(\n",
        "      \tx=X_train[0], y=X_train[1], z=X_train[2], mode='markers', marker=dict(size=2, color=kmeans.labels_)\n",
        "  \t),\n",
        "\n",
        "\tgo.Scatter3d(\n",
        "  \t\tx=df_cluster_centers[0],\n",
        "  \t\ty=df_cluster_centers[1],\n",
        "  \t\tz=df_cluster_centers[2],\n",
        "  \t\tmode='markers',\n",
        "  \t\tmarker=dict(size=4,color='red')\n",
        "\t)\n",
        "])\n",
        "fig.show()"
      ]
    },
    {
      "cell_type": "markdown",
      "metadata": {},
      "source": [
        "## Перцептрон"
      ]
    },
    {
      "cell_type": "code",
      "execution_count": 187,
      "metadata": {},
      "outputs": [],
      "source": [
        "from sklearn.linear_model import Perceptron\n",
        "from sklearn.metrics import f1_score, roc_auc_score, accuracy_score, recall_score"
      ]
    },
    {
      "cell_type": "code",
      "execution_count": 188,
      "metadata": {},
      "outputs": [
        {
          "data": {
            "text/html": [
              "<style>#sk-container-id-6 {\n",
              "  /* Definition of color scheme common for light and dark mode */\n",
              "  --sklearn-color-text: #000;\n",
              "  --sklearn-color-text-muted: #666;\n",
              "  --sklearn-color-line: gray;\n",
              "  /* Definition of color scheme for unfitted estimators */\n",
              "  --sklearn-color-unfitted-level-0: #fff5e6;\n",
              "  --sklearn-color-unfitted-level-1: #f6e4d2;\n",
              "  --sklearn-color-unfitted-level-2: #ffe0b3;\n",
              "  --sklearn-color-unfitted-level-3: chocolate;\n",
              "  /* Definition of color scheme for fitted estimators */\n",
              "  --sklearn-color-fitted-level-0: #f0f8ff;\n",
              "  --sklearn-color-fitted-level-1: #d4ebff;\n",
              "  --sklearn-color-fitted-level-2: #b3dbfd;\n",
              "  --sklearn-color-fitted-level-3: cornflowerblue;\n",
              "\n",
              "  /* Specific color for light theme */\n",
              "  --sklearn-color-text-on-default-background: var(--sg-text-color, var(--theme-code-foreground, var(--jp-content-font-color1, black)));\n",
              "  --sklearn-color-background: var(--sg-background-color, var(--theme-background, var(--jp-layout-color0, white)));\n",
              "  --sklearn-color-border-box: var(--sg-text-color, var(--theme-code-foreground, var(--jp-content-font-color1, black)));\n",
              "  --sklearn-color-icon: #696969;\n",
              "\n",
              "  @media (prefers-color-scheme: dark) {\n",
              "    /* Redefinition of color scheme for dark theme */\n",
              "    --sklearn-color-text-on-default-background: var(--sg-text-color, var(--theme-code-foreground, var(--jp-content-font-color1, white)));\n",
              "    --sklearn-color-background: var(--sg-background-color, var(--theme-background, var(--jp-layout-color0, #111)));\n",
              "    --sklearn-color-border-box: var(--sg-text-color, var(--theme-code-foreground, var(--jp-content-font-color1, white)));\n",
              "    --sklearn-color-icon: #878787;\n",
              "  }\n",
              "}\n",
              "\n",
              "#sk-container-id-6 {\n",
              "  color: var(--sklearn-color-text);\n",
              "}\n",
              "\n",
              "#sk-container-id-6 pre {\n",
              "  padding: 0;\n",
              "}\n",
              "\n",
              "#sk-container-id-6 input.sk-hidden--visually {\n",
              "  border: 0;\n",
              "  clip: rect(1px 1px 1px 1px);\n",
              "  clip: rect(1px, 1px, 1px, 1px);\n",
              "  height: 1px;\n",
              "  margin: -1px;\n",
              "  overflow: hidden;\n",
              "  padding: 0;\n",
              "  position: absolute;\n",
              "  width: 1px;\n",
              "}\n",
              "\n",
              "#sk-container-id-6 div.sk-dashed-wrapped {\n",
              "  border: 1px dashed var(--sklearn-color-line);\n",
              "  margin: 0 0.4em 0.5em 0.4em;\n",
              "  box-sizing: border-box;\n",
              "  padding-bottom: 0.4em;\n",
              "  background-color: var(--sklearn-color-background);\n",
              "}\n",
              "\n",
              "#sk-container-id-6 div.sk-container {\n",
              "  /* jupyter's `normalize.less` sets `[hidden] { display: none; }`\n",
              "     but bootstrap.min.css set `[hidden] { display: none !important; }`\n",
              "     so we also need the `!important` here to be able to override the\n",
              "     default hidden behavior on the sphinx rendered scikit-learn.org.\n",
              "     See: https://github.com/scikit-learn/scikit-learn/issues/21755 */\n",
              "  display: inline-block !important;\n",
              "  position: relative;\n",
              "}\n",
              "\n",
              "#sk-container-id-6 div.sk-text-repr-fallback {\n",
              "  display: none;\n",
              "}\n",
              "\n",
              "div.sk-parallel-item,\n",
              "div.sk-serial,\n",
              "div.sk-item {\n",
              "  /* draw centered vertical line to link estimators */\n",
              "  background-image: linear-gradient(var(--sklearn-color-text-on-default-background), var(--sklearn-color-text-on-default-background));\n",
              "  background-size: 2px 100%;\n",
              "  background-repeat: no-repeat;\n",
              "  background-position: center center;\n",
              "}\n",
              "\n",
              "/* Parallel-specific style estimator block */\n",
              "\n",
              "#sk-container-id-6 div.sk-parallel-item::after {\n",
              "  content: \"\";\n",
              "  width: 100%;\n",
              "  border-bottom: 2px solid var(--sklearn-color-text-on-default-background);\n",
              "  flex-grow: 1;\n",
              "}\n",
              "\n",
              "#sk-container-id-6 div.sk-parallel {\n",
              "  display: flex;\n",
              "  align-items: stretch;\n",
              "  justify-content: center;\n",
              "  background-color: var(--sklearn-color-background);\n",
              "  position: relative;\n",
              "}\n",
              "\n",
              "#sk-container-id-6 div.sk-parallel-item {\n",
              "  display: flex;\n",
              "  flex-direction: column;\n",
              "}\n",
              "\n",
              "#sk-container-id-6 div.sk-parallel-item:first-child::after {\n",
              "  align-self: flex-end;\n",
              "  width: 50%;\n",
              "}\n",
              "\n",
              "#sk-container-id-6 div.sk-parallel-item:last-child::after {\n",
              "  align-self: flex-start;\n",
              "  width: 50%;\n",
              "}\n",
              "\n",
              "#sk-container-id-6 div.sk-parallel-item:only-child::after {\n",
              "  width: 0;\n",
              "}\n",
              "\n",
              "/* Serial-specific style estimator block */\n",
              "\n",
              "#sk-container-id-6 div.sk-serial {\n",
              "  display: flex;\n",
              "  flex-direction: column;\n",
              "  align-items: center;\n",
              "  background-color: var(--sklearn-color-background);\n",
              "  padding-right: 1em;\n",
              "  padding-left: 1em;\n",
              "}\n",
              "\n",
              "\n",
              "/* Toggleable style: style used for estimator/Pipeline/ColumnTransformer box that is\n",
              "clickable and can be expanded/collapsed.\n",
              "- Pipeline and ColumnTransformer use this feature and define the default style\n",
              "- Estimators will overwrite some part of the style using the `sk-estimator` class\n",
              "*/\n",
              "\n",
              "/* Pipeline and ColumnTransformer style (default) */\n",
              "\n",
              "#sk-container-id-6 div.sk-toggleable {\n",
              "  /* Default theme specific background. It is overwritten whether we have a\n",
              "  specific estimator or a Pipeline/ColumnTransformer */\n",
              "  background-color: var(--sklearn-color-background);\n",
              "}\n",
              "\n",
              "/* Toggleable label */\n",
              "#sk-container-id-6 label.sk-toggleable__label {\n",
              "  cursor: pointer;\n",
              "  display: flex;\n",
              "  width: 100%;\n",
              "  margin-bottom: 0;\n",
              "  padding: 0.5em;\n",
              "  box-sizing: border-box;\n",
              "  text-align: center;\n",
              "  align-items: start;\n",
              "  justify-content: space-between;\n",
              "  gap: 0.5em;\n",
              "}\n",
              "\n",
              "#sk-container-id-6 label.sk-toggleable__label .caption {\n",
              "  font-size: 0.6rem;\n",
              "  font-weight: lighter;\n",
              "  color: var(--sklearn-color-text-muted);\n",
              "}\n",
              "\n",
              "#sk-container-id-6 label.sk-toggleable__label-arrow:before {\n",
              "  /* Arrow on the left of the label */\n",
              "  content: \"▸\";\n",
              "  float: left;\n",
              "  margin-right: 0.25em;\n",
              "  color: var(--sklearn-color-icon);\n",
              "}\n",
              "\n",
              "#sk-container-id-6 label.sk-toggleable__label-arrow:hover:before {\n",
              "  color: var(--sklearn-color-text);\n",
              "}\n",
              "\n",
              "/* Toggleable content - dropdown */\n",
              "\n",
              "#sk-container-id-6 div.sk-toggleable__content {\n",
              "  max-height: 0;\n",
              "  max-width: 0;\n",
              "  overflow: hidden;\n",
              "  text-align: left;\n",
              "  /* unfitted */\n",
              "  background-color: var(--sklearn-color-unfitted-level-0);\n",
              "}\n",
              "\n",
              "#sk-container-id-6 div.sk-toggleable__content.fitted {\n",
              "  /* fitted */\n",
              "  background-color: var(--sklearn-color-fitted-level-0);\n",
              "}\n",
              "\n",
              "#sk-container-id-6 div.sk-toggleable__content pre {\n",
              "  margin: 0.2em;\n",
              "  border-radius: 0.25em;\n",
              "  color: var(--sklearn-color-text);\n",
              "  /* unfitted */\n",
              "  background-color: var(--sklearn-color-unfitted-level-0);\n",
              "}\n",
              "\n",
              "#sk-container-id-6 div.sk-toggleable__content.fitted pre {\n",
              "  /* unfitted */\n",
              "  background-color: var(--sklearn-color-fitted-level-0);\n",
              "}\n",
              "\n",
              "#sk-container-id-6 input.sk-toggleable__control:checked~div.sk-toggleable__content {\n",
              "  /* Expand drop-down */\n",
              "  max-height: 200px;\n",
              "  max-width: 100%;\n",
              "  overflow: auto;\n",
              "}\n",
              "\n",
              "#sk-container-id-6 input.sk-toggleable__control:checked~label.sk-toggleable__label-arrow:before {\n",
              "  content: \"▾\";\n",
              "}\n",
              "\n",
              "/* Pipeline/ColumnTransformer-specific style */\n",
              "\n",
              "#sk-container-id-6 div.sk-label input.sk-toggleable__control:checked~label.sk-toggleable__label {\n",
              "  color: var(--sklearn-color-text);\n",
              "  background-color: var(--sklearn-color-unfitted-level-2);\n",
              "}\n",
              "\n",
              "#sk-container-id-6 div.sk-label.fitted input.sk-toggleable__control:checked~label.sk-toggleable__label {\n",
              "  background-color: var(--sklearn-color-fitted-level-2);\n",
              "}\n",
              "\n",
              "/* Estimator-specific style */\n",
              "\n",
              "/* Colorize estimator box */\n",
              "#sk-container-id-6 div.sk-estimator input.sk-toggleable__control:checked~label.sk-toggleable__label {\n",
              "  /* unfitted */\n",
              "  background-color: var(--sklearn-color-unfitted-level-2);\n",
              "}\n",
              "\n",
              "#sk-container-id-6 div.sk-estimator.fitted input.sk-toggleable__control:checked~label.sk-toggleable__label {\n",
              "  /* fitted */\n",
              "  background-color: var(--sklearn-color-fitted-level-2);\n",
              "}\n",
              "\n",
              "#sk-container-id-6 div.sk-label label.sk-toggleable__label,\n",
              "#sk-container-id-6 div.sk-label label {\n",
              "  /* The background is the default theme color */\n",
              "  color: var(--sklearn-color-text-on-default-background);\n",
              "}\n",
              "\n",
              "/* On hover, darken the color of the background */\n",
              "#sk-container-id-6 div.sk-label:hover label.sk-toggleable__label {\n",
              "  color: var(--sklearn-color-text);\n",
              "  background-color: var(--sklearn-color-unfitted-level-2);\n",
              "}\n",
              "\n",
              "/* Label box, darken color on hover, fitted */\n",
              "#sk-container-id-6 div.sk-label.fitted:hover label.sk-toggleable__label.fitted {\n",
              "  color: var(--sklearn-color-text);\n",
              "  background-color: var(--sklearn-color-fitted-level-2);\n",
              "}\n",
              "\n",
              "/* Estimator label */\n",
              "\n",
              "#sk-container-id-6 div.sk-label label {\n",
              "  font-family: monospace;\n",
              "  font-weight: bold;\n",
              "  display: inline-block;\n",
              "  line-height: 1.2em;\n",
              "}\n",
              "\n",
              "#sk-container-id-6 div.sk-label-container {\n",
              "  text-align: center;\n",
              "}\n",
              "\n",
              "/* Estimator-specific */\n",
              "#sk-container-id-6 div.sk-estimator {\n",
              "  font-family: monospace;\n",
              "  border: 1px dotted var(--sklearn-color-border-box);\n",
              "  border-radius: 0.25em;\n",
              "  box-sizing: border-box;\n",
              "  margin-bottom: 0.5em;\n",
              "  /* unfitted */\n",
              "  background-color: var(--sklearn-color-unfitted-level-0);\n",
              "}\n",
              "\n",
              "#sk-container-id-6 div.sk-estimator.fitted {\n",
              "  /* fitted */\n",
              "  background-color: var(--sklearn-color-fitted-level-0);\n",
              "}\n",
              "\n",
              "/* on hover */\n",
              "#sk-container-id-6 div.sk-estimator:hover {\n",
              "  /* unfitted */\n",
              "  background-color: var(--sklearn-color-unfitted-level-2);\n",
              "}\n",
              "\n",
              "#sk-container-id-6 div.sk-estimator.fitted:hover {\n",
              "  /* fitted */\n",
              "  background-color: var(--sklearn-color-fitted-level-2);\n",
              "}\n",
              "\n",
              "/* Specification for estimator info (e.g. \"i\" and \"?\") */\n",
              "\n",
              "/* Common style for \"i\" and \"?\" */\n",
              "\n",
              ".sk-estimator-doc-link,\n",
              "a:link.sk-estimator-doc-link,\n",
              "a:visited.sk-estimator-doc-link {\n",
              "  float: right;\n",
              "  font-size: smaller;\n",
              "  line-height: 1em;\n",
              "  font-family: monospace;\n",
              "  background-color: var(--sklearn-color-background);\n",
              "  border-radius: 1em;\n",
              "  height: 1em;\n",
              "  width: 1em;\n",
              "  text-decoration: none !important;\n",
              "  margin-left: 0.5em;\n",
              "  text-align: center;\n",
              "  /* unfitted */\n",
              "  border: var(--sklearn-color-unfitted-level-1) 1pt solid;\n",
              "  color: var(--sklearn-color-unfitted-level-1);\n",
              "}\n",
              "\n",
              ".sk-estimator-doc-link.fitted,\n",
              "a:link.sk-estimator-doc-link.fitted,\n",
              "a:visited.sk-estimator-doc-link.fitted {\n",
              "  /* fitted */\n",
              "  border: var(--sklearn-color-fitted-level-1) 1pt solid;\n",
              "  color: var(--sklearn-color-fitted-level-1);\n",
              "}\n",
              "\n",
              "/* On hover */\n",
              "div.sk-estimator:hover .sk-estimator-doc-link:hover,\n",
              ".sk-estimator-doc-link:hover,\n",
              "div.sk-label-container:hover .sk-estimator-doc-link:hover,\n",
              ".sk-estimator-doc-link:hover {\n",
              "  /* unfitted */\n",
              "  background-color: var(--sklearn-color-unfitted-level-3);\n",
              "  color: var(--sklearn-color-background);\n",
              "  text-decoration: none;\n",
              "}\n",
              "\n",
              "div.sk-estimator.fitted:hover .sk-estimator-doc-link.fitted:hover,\n",
              ".sk-estimator-doc-link.fitted:hover,\n",
              "div.sk-label-container:hover .sk-estimator-doc-link.fitted:hover,\n",
              ".sk-estimator-doc-link.fitted:hover {\n",
              "  /* fitted */\n",
              "  background-color: var(--sklearn-color-fitted-level-3);\n",
              "  color: var(--sklearn-color-background);\n",
              "  text-decoration: none;\n",
              "}\n",
              "\n",
              "/* Span, style for the box shown on hovering the info icon */\n",
              ".sk-estimator-doc-link span {\n",
              "  display: none;\n",
              "  z-index: 9999;\n",
              "  position: relative;\n",
              "  font-weight: normal;\n",
              "  right: .2ex;\n",
              "  padding: .5ex;\n",
              "  margin: .5ex;\n",
              "  width: min-content;\n",
              "  min-width: 20ex;\n",
              "  max-width: 50ex;\n",
              "  color: var(--sklearn-color-text);\n",
              "  box-shadow: 2pt 2pt 4pt #999;\n",
              "  /* unfitted */\n",
              "  background: var(--sklearn-color-unfitted-level-0);\n",
              "  border: .5pt solid var(--sklearn-color-unfitted-level-3);\n",
              "}\n",
              "\n",
              ".sk-estimator-doc-link.fitted span {\n",
              "  /* fitted */\n",
              "  background: var(--sklearn-color-fitted-level-0);\n",
              "  border: var(--sklearn-color-fitted-level-3);\n",
              "}\n",
              "\n",
              ".sk-estimator-doc-link:hover span {\n",
              "  display: block;\n",
              "}\n",
              "\n",
              "/* \"?\"-specific style due to the `<a>` HTML tag */\n",
              "\n",
              "#sk-container-id-6 a.estimator_doc_link {\n",
              "  float: right;\n",
              "  font-size: 1rem;\n",
              "  line-height: 1em;\n",
              "  font-family: monospace;\n",
              "  background-color: var(--sklearn-color-background);\n",
              "  border-radius: 1rem;\n",
              "  height: 1rem;\n",
              "  width: 1rem;\n",
              "  text-decoration: none;\n",
              "  /* unfitted */\n",
              "  color: var(--sklearn-color-unfitted-level-1);\n",
              "  border: var(--sklearn-color-unfitted-level-1) 1pt solid;\n",
              "}\n",
              "\n",
              "#sk-container-id-6 a.estimator_doc_link.fitted {\n",
              "  /* fitted */\n",
              "  border: var(--sklearn-color-fitted-level-1) 1pt solid;\n",
              "  color: var(--sklearn-color-fitted-level-1);\n",
              "}\n",
              "\n",
              "/* On hover */\n",
              "#sk-container-id-6 a.estimator_doc_link:hover {\n",
              "  /* unfitted */\n",
              "  background-color: var(--sklearn-color-unfitted-level-3);\n",
              "  color: var(--sklearn-color-background);\n",
              "  text-decoration: none;\n",
              "}\n",
              "\n",
              "#sk-container-id-6 a.estimator_doc_link.fitted:hover {\n",
              "  /* fitted */\n",
              "  background-color: var(--sklearn-color-fitted-level-3);\n",
              "}\n",
              "</style><div id=\"sk-container-id-6\" class=\"sk-top-container\"><div class=\"sk-text-repr-fallback\"><pre>Perceptron(max_iter=10000, penalty=&#x27;l2&#x27;, random_state=42)</pre><b>In a Jupyter environment, please rerun this cell to show the HTML representation or trust the notebook. <br />On GitHub, the HTML representation is unable to render, please try loading this page with nbviewer.org.</b></div><div class=\"sk-container\" hidden><div class=\"sk-item\"><div class=\"sk-estimator fitted sk-toggleable\"><input class=\"sk-toggleable__control sk-hidden--visually\" id=\"sk-estimator-id-6\" type=\"checkbox\" checked><label for=\"sk-estimator-id-6\" class=\"sk-toggleable__label fitted sk-toggleable__label-arrow\"><div><div>Perceptron</div></div><div><a class=\"sk-estimator-doc-link fitted\" rel=\"noreferrer\" target=\"_blank\" href=\"https://scikit-learn.org/1.6/modules/generated/sklearn.linear_model.Perceptron.html\">?<span>Documentation for Perceptron</span></a><span class=\"sk-estimator-doc-link fitted\">i<span>Fitted</span></span></div></label><div class=\"sk-toggleable__content fitted\"><pre>Perceptron(max_iter=10000, penalty=&#x27;l2&#x27;, random_state=42)</pre></div> </div></div></div></div>"
            ],
            "text/plain": [
              "Perceptron(max_iter=10000, penalty='l2', random_state=42)"
            ]
          },
          "execution_count": 188,
          "metadata": {},
          "output_type": "execute_result"
        }
      ],
      "source": [
        "perceptron = Perceptron(max_iter=10000, random_state=42, penalty='l2')\n",
        "perceptron.fit(X_train, y_train)"
      ]
    },
    {
      "cell_type": "code",
      "execution_count": 189,
      "metadata": {},
      "outputs": [
        {
          "name": "stdout",
          "output_type": "stream",
          "text": [
            "accuracy: 0.3433333333333333\n",
            "recall: 0.31384615384615383\n"
          ]
        }
      ],
      "source": [
        "y_pred = perceptron.predict(X_test)\n",
        "accuracy = accuracy_score(y_test, y_pred)\n",
        "recall = recall_score(y_test, y_pred, average='macro')\n",
        "print(f'accuracy: {accuracy}')\n",
        "print(f'recall: {recall}')"
      ]
    },
    {
      "cell_type": "code",
      "execution_count": 190,
      "metadata": {},
      "outputs": [
        {
          "data": {
            "text/plain": [
              "array([4, 4, 1, 4, 4, 4, 4, 4, 4, 1, 4, 4, 4, 4, 1, 4, 4, 4, 4, 1, 4, 4,\n",
              "       4, 4, 4, 4, 4, 4, 4, 4, 4, 4, 4, 4, 1, 1, 1, 4, 4, 1, 4, 1, 4, 4,\n",
              "       4, 4, 1, 4, 4, 4, 4, 1, 4, 4, 1, 4, 1, 4, 1, 4, 4, 4, 1, 1, 4, 1,\n",
              "       1, 4, 4, 1, 1, 4, 4, 1, 4, 4, 4, 1, 1, 4, 4, 1, 1, 4, 4, 1, 4, 4,\n",
              "       4, 4, 4, 1, 1, 4, 4, 1, 4, 1, 4, 1, 4, 4, 4, 4, 1, 1, 1, 4, 1, 4,\n",
              "       4, 4, 4, 1, 1, 4, 4, 1, 1, 4, 4, 4, 4, 1, 1, 4, 4, 4, 4, 1, 4, 1,\n",
              "       4, 4, 4, 1, 1, 4, 4, 1, 4, 1, 4, 1, 1, 4, 4, 4, 1, 4, 4, 4, 4, 4,\n",
              "       1, 4, 4, 1, 4, 1, 1, 1, 4, 4, 1, 1, 4, 4, 4, 1, 1, 4, 4, 4, 1, 1,\n",
              "       4, 4, 4, 4, 1, 1, 1, 1, 4, 4, 4, 4, 4, 4, 4, 4, 4, 4, 4, 1, 4, 1,\n",
              "       4, 1, 4, 4, 1, 4, 4, 4, 1, 4, 4, 4, 1, 4, 4, 4, 1, 1, 4, 1, 4, 1,\n",
              "       4, 4, 4, 1, 1, 4, 1, 1, 4, 4, 4, 1, 4, 4, 4, 4, 4, 4, 4, 4, 4, 4,\n",
              "       4, 1, 1, 4, 4, 4, 4, 4, 4, 1, 4, 4, 4, 4, 4, 4, 4, 4, 4, 1, 1, 4,\n",
              "       4, 4, 1, 1, 4, 4, 4, 1, 4, 4, 4, 4, 4, 4, 4, 4, 4, 4, 4, 4, 1, 4,\n",
              "       1, 4, 1, 4, 1, 4, 1, 4, 4, 4, 4, 4, 4, 4])"
            ]
          },
          "execution_count": 190,
          "metadata": {},
          "output_type": "execute_result"
        }
      ],
      "source": [
        "y_pred"
      ]
    },
    {
      "cell_type": "code",
      "execution_count": null,
      "metadata": {},
      "outputs": [],
      "source": [
        "loss_history_train = []\n",
        "loss_history_test = []\n",
        "\n",
        "n_epochs = 10"
      ]
    },
    {
      "cell_type": "code",
      "execution_count": null,
      "metadata": {},
      "outputs": [],
      "source": [
        "class RosenblattPerceptron:\n",
        "    def __init__(self, learning_rate=0.01, n_iters=1000):\n",
        "        self.lr = learning_rate\n",
        "        self.n_iters = n_iters\n",
        "        self.aclivation_func = self._relu\n",
        "        self.weights = None\n",
        "        self.bias = None\n",
        "\n",
        "    def fit(self, X, y):\n",
        "        n_samples, n_features = X.shape\n",
        "\n",
        "        self.weights = np.zeros(n_features)\n",
        "        self.bias = 0\n",
        "\n",
        "        y_ = np.array([1 if i > 0 else 0 for i in y])\n",
        "\n",
        "        for _ in range(self.n_iters):\n",
        "            for idx, x_i in enumerate(X):\n",
        "                linear_output = np.dot(x_i, self.weights) + self.bias\n",
        "                y_predicted = self.aclivation_func(linear_output)\n",
        "\n",
        "                update = self.lr * (y_[idx] - y_predicted)\n",
        "                self.weights += update * x_i\n",
        "                self.bias += update\n",
        "\n",
        "    def predict(self, X):\n",
        "        linear_output = np.dot(X, self.weights) + self.bias\n",
        "        y_predicted = self.aclivation_func(linear_output)\n",
        "        return y_predicted\n",
        "\n",
        "\t#функция активации (если результат сумматора >= 0, то результат = 1)\n",
        "    def _unit_step_func(self, x):\n",
        "        return np.where(x>=0, 1, 0)"
      ]
    },
    {
      "cell_type": "code",
      "execution_count": null,
      "metadata": {},
      "outputs": [],
      "source": [
        "perceptron = RosenblattPerceptron(max_iter=10000, random_state=42, penalty='l2')\n",
        "perceptron.fit(X_train, y_train)"
      ]
    }
  ],
  "metadata": {
    "colab": {
      "provenance": []
    },
    "kernelspec": {
      "display_name": "ml_venv",
      "language": "python",
      "name": "python3"
    },
    "language_info": {
      "codemirror_mode": {
        "name": "ipython",
        "version": 3
      },
      "file_extension": ".py",
      "mimetype": "text/x-python",
      "name": "python",
      "nbconvert_exporter": "python",
      "pygments_lexer": "ipython3",
      "version": "3.10.12"
    }
  },
  "nbformat": 4,
  "nbformat_minor": 0
}
