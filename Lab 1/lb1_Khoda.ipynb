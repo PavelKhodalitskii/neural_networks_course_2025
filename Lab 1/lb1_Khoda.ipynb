{
  "cells": [
    {
      "cell_type": "code",
      "execution_count": 44,
      "metadata": {},
      "outputs": [],
      "source": [
        "#z = 3 Гипергеометрическое пространство\n",
        "#p = 3 - три признака\n",
        "#n = 5 - пять классов"
      ]
    },
    {
      "cell_type": "code",
      "execution_count": 3,
      "metadata": {
        "id": "gLF9_wTIrOe7"
      },
      "outputs": [],
      "source": [
        "from sklearn.model_selection import train_test_split"
      ]
    },
    {
      "cell_type": "code",
      "execution_count": 4,
      "metadata": {},
      "outputs": [],
      "source": [
        "dimensions = 3\n",
        "observations_amount = 1500"
      ]
    },
    {
      "cell_type": "code",
      "execution_count": 5,
      "metadata": {
        "id": "JenUUuQNNHv6"
      },
      "outputs": [],
      "source": [
        "import numpy as np\n",
        "from sklearn.cluster import KMeans\n",
        "\n",
        "observations_1 = np.random.hypergeometric(60, 20, 40, (observations_amount // 5, dimensions))\n",
        "observations_2 = np.random.hypergeometric(60, 20, 40, (observations_amount // 5, dimensions)) + 10\n",
        "observations_3 = np.random.hypergeometric(60, 20, 40, (observations_amount // 5, dimensions)) + 20\n",
        "observations_4 = np.random.hypergeometric(60, 20, 40, (observations_amount // 5, dimensions)) + 30\n",
        "observations_5 = np.random.hypergeometric(60, 20, 40, (observations_amount // 5, dimensions)) + 40"
      ]
    },
    {
      "cell_type": "code",
      "execution_count": 6,
      "metadata": {},
      "outputs": [
        {
          "data": {
            "text/plain": [
              "(300, 3)"
            ]
          },
          "execution_count": 6,
          "metadata": {},
          "output_type": "execute_result"
        }
      ],
      "source": [
        "observations_1.shape"
      ]
    },
    {
      "cell_type": "code",
      "execution_count": 7,
      "metadata": {},
      "outputs": [
        {
          "data": {
            "text/plain": [
              "array([[31, 31, 29],\n",
              "       [30, 30, 28],\n",
              "       [30, 29, 27],\n",
              "       [31, 31, 31],\n",
              "       [30, 29, 32],\n",
              "       [31, 29, 27],\n",
              "       [33, 32, 29],\n",
              "       [31, 33, 29],\n",
              "       [30, 31, 27],\n",
              "       [30, 27, 26],\n",
              "       [27, 29, 29],\n",
              "       [35, 29, 29],\n",
              "       [29, 31, 32],\n",
              "       [29, 30, 32],\n",
              "       [33, 32, 28],\n",
              "       [31, 28, 31],\n",
              "       [33, 28, 30],\n",
              "       [30, 31, 30],\n",
              "       [32, 31, 29],\n",
              "       [28, 33, 30],\n",
              "       [30, 29, 28],\n",
              "       [29, 31, 31],\n",
              "       [32, 32, 28],\n",
              "       [30, 28, 31],\n",
              "       [31, 31, 29],\n",
              "       [30, 32, 32],\n",
              "       [30, 28, 26],\n",
              "       [28, 28, 29],\n",
              "       [31, 33, 29],\n",
              "       [31, 30, 28],\n",
              "       [30, 29, 28],\n",
              "       [29, 31, 25],\n",
              "       [30, 30, 32],\n",
              "       [30, 31, 33],\n",
              "       [27, 31, 29],\n",
              "       [30, 32, 32],\n",
              "       [31, 27, 31],\n",
              "       [29, 28, 30],\n",
              "       [30, 28, 32],\n",
              "       [30, 35, 30],\n",
              "       [32, 27, 28],\n",
              "       [34, 32, 29],\n",
              "       [28, 32, 28],\n",
              "       [30, 27, 30],\n",
              "       [29, 29, 28],\n",
              "       [29, 30, 27],\n",
              "       [28, 32, 30],\n",
              "       [31, 30, 27],\n",
              "       [28, 31, 30],\n",
              "       [30, 28, 32],\n",
              "       [30, 33, 29],\n",
              "       [32, 33, 32],\n",
              "       [25, 32, 30],\n",
              "       [30, 28, 29],\n",
              "       [26, 33, 31],\n",
              "       [30, 32, 31],\n",
              "       [32, 28, 29],\n",
              "       [28, 26, 32],\n",
              "       [27, 28, 28],\n",
              "       [29, 34, 33],\n",
              "       [29, 30, 30],\n",
              "       [27, 29, 29],\n",
              "       [27, 31, 24],\n",
              "       [30, 28, 30],\n",
              "       [30, 26, 30],\n",
              "       [29, 33, 27],\n",
              "       [30, 30, 33],\n",
              "       [34, 31, 31],\n",
              "       [30, 30, 31],\n",
              "       [30, 31, 27],\n",
              "       [30, 30, 31],\n",
              "       [33, 31, 30],\n",
              "       [30, 33, 29],\n",
              "       [29, 31, 29],\n",
              "       [29, 29, 30],\n",
              "       [30, 34, 31],\n",
              "       [28, 32, 31],\n",
              "       [32, 30, 28],\n",
              "       [29, 32, 32],\n",
              "       [32, 31, 33],\n",
              "       [33, 30, 30],\n",
              "       [33, 29, 28],\n",
              "       [29, 30, 31],\n",
              "       [27, 34, 33],\n",
              "       [32, 27, 29],\n",
              "       [29, 30, 32],\n",
              "       [31, 27, 30],\n",
              "       [24, 30, 30],\n",
              "       [30, 32, 30],\n",
              "       [30, 28, 32],\n",
              "       [34, 30, 29],\n",
              "       [33, 32, 27],\n",
              "       [31, 30, 32],\n",
              "       [31, 28, 30],\n",
              "       [27, 32, 30],\n",
              "       [29, 33, 31],\n",
              "       [33, 28, 29],\n",
              "       [33, 30, 28],\n",
              "       [27, 31, 33],\n",
              "       [27, 29, 31],\n",
              "       [31, 32, 33],\n",
              "       [30, 29, 26],\n",
              "       [31, 30, 32],\n",
              "       [33, 28, 29],\n",
              "       [32, 32, 29],\n",
              "       [29, 29, 30],\n",
              "       [30, 29, 29],\n",
              "       [32, 31, 31],\n",
              "       [33, 32, 28],\n",
              "       [31, 33, 35],\n",
              "       [29, 29, 31],\n",
              "       [29, 30, 31],\n",
              "       [30, 29, 28],\n",
              "       [30, 32, 31],\n",
              "       [33, 35, 31],\n",
              "       [30, 27, 31],\n",
              "       [34, 31, 30],\n",
              "       [29, 30, 32],\n",
              "       [29, 29, 33],\n",
              "       [28, 30, 30],\n",
              "       [30, 31, 33],\n",
              "       [28, 33, 33],\n",
              "       [33, 33, 28],\n",
              "       [29, 29, 30],\n",
              "       [28, 26, 26],\n",
              "       [31, 27, 30],\n",
              "       [27, 29, 33],\n",
              "       [29, 29, 27],\n",
              "       [32, 30, 30],\n",
              "       [29, 30, 33],\n",
              "       [26, 31, 30],\n",
              "       [32, 31, 29],\n",
              "       [31, 28, 28],\n",
              "       [30, 31, 31],\n",
              "       [28, 35, 30],\n",
              "       [34, 35, 29],\n",
              "       [32, 30, 27],\n",
              "       [31, 30, 31],\n",
              "       [29, 34, 29],\n",
              "       [31, 28, 32],\n",
              "       [27, 31, 27],\n",
              "       [30, 31, 31],\n",
              "       [27, 33, 29],\n",
              "       [34, 31, 31],\n",
              "       [32, 34, 28],\n",
              "       [32, 34, 32],\n",
              "       [33, 29, 31],\n",
              "       [29, 27, 27],\n",
              "       [30, 29, 33],\n",
              "       [26, 30, 32],\n",
              "       [31, 25, 34],\n",
              "       [33, 29, 33],\n",
              "       [27, 31, 35],\n",
              "       [30, 30, 28],\n",
              "       [31, 31, 35],\n",
              "       [28, 31, 31],\n",
              "       [28, 31, 30],\n",
              "       [31, 32, 30],\n",
              "       [28, 31, 29],\n",
              "       [28, 33, 28],\n",
              "       [31, 33, 29],\n",
              "       [32, 28, 26],\n",
              "       [26, 32, 31],\n",
              "       [32, 28, 33],\n",
              "       [29, 30, 31],\n",
              "       [28, 30, 31],\n",
              "       [29, 28, 30],\n",
              "       [29, 31, 30],\n",
              "       [29, 31, 32],\n",
              "       [30, 28, 29],\n",
              "       [30, 29, 28],\n",
              "       [29, 30, 32],\n",
              "       [33, 28, 31],\n",
              "       [29, 26, 30],\n",
              "       [29, 29, 31],\n",
              "       [30, 32, 29],\n",
              "       [30, 27, 30],\n",
              "       [29, 29, 31],\n",
              "       [35, 34, 29],\n",
              "       [27, 27, 30],\n",
              "       [32, 32, 28],\n",
              "       [28, 28, 30],\n",
              "       [29, 33, 32],\n",
              "       [27, 27, 33],\n",
              "       [29, 29, 30],\n",
              "       [32, 29, 33],\n",
              "       [29, 31, 29],\n",
              "       [29, 32, 30],\n",
              "       [31, 30, 29],\n",
              "       [31, 25, 25],\n",
              "       [29, 29, 30],\n",
              "       [31, 32, 30],\n",
              "       [32, 29, 30],\n",
              "       [29, 29, 32],\n",
              "       [31, 32, 27],\n",
              "       [29, 28, 28],\n",
              "       [26, 30, 28],\n",
              "       [28, 30, 30],\n",
              "       [35, 28, 28],\n",
              "       [27, 29, 26],\n",
              "       [30, 28, 27],\n",
              "       [28, 33, 30],\n",
              "       [28, 29, 27],\n",
              "       [29, 27, 29],\n",
              "       [28, 28, 33],\n",
              "       [30, 31, 33],\n",
              "       [31, 32, 27],\n",
              "       [32, 32, 30],\n",
              "       [31, 29, 29],\n",
              "       [34, 30, 29],\n",
              "       [31, 30, 32],\n",
              "       [30, 29, 30],\n",
              "       [32, 28, 32],\n",
              "       [32, 29, 31],\n",
              "       [31, 32, 31],\n",
              "       [28, 29, 31],\n",
              "       [29, 32, 33],\n",
              "       [30, 29, 27],\n",
              "       [31, 31, 30],\n",
              "       [33, 30, 27],\n",
              "       [32, 28, 33],\n",
              "       [31, 28, 28],\n",
              "       [30, 27, 30],\n",
              "       [30, 31, 30],\n",
              "       [31, 28, 31],\n",
              "       [30, 27, 27],\n",
              "       [28, 28, 28],\n",
              "       [29, 29, 30],\n",
              "       [32, 30, 28],\n",
              "       [30, 30, 29],\n",
              "       [29, 29, 29],\n",
              "       [27, 28, 30],\n",
              "       [32, 31, 34],\n",
              "       [31, 28, 33],\n",
              "       [29, 27, 32],\n",
              "       [30, 30, 33],\n",
              "       [27, 29, 29],\n",
              "       [29, 31, 32],\n",
              "       [30, 30, 30],\n",
              "       [31, 29, 29],\n",
              "       [32, 31, 31],\n",
              "       [31, 33, 29],\n",
              "       [27, 27, 30],\n",
              "       [27, 28, 31],\n",
              "       [31, 29, 28],\n",
              "       [29, 29, 32],\n",
              "       [30, 29, 29],\n",
              "       [29, 30, 32],\n",
              "       [30, 30, 33],\n",
              "       [28, 34, 30],\n",
              "       [27, 32, 29],\n",
              "       [32, 31, 31],\n",
              "       [30, 33, 35],\n",
              "       [29, 29, 30],\n",
              "       [31, 32, 33],\n",
              "       [29, 30, 30],\n",
              "       [28, 29, 33],\n",
              "       [31, 33, 33],\n",
              "       [33, 29, 31],\n",
              "       [30, 29, 28],\n",
              "       [26, 31, 32],\n",
              "       [31, 29, 32],\n",
              "       [32, 28, 30],\n",
              "       [30, 32, 27],\n",
              "       [30, 28, 31],\n",
              "       [26, 31, 27],\n",
              "       [32, 28, 30],\n",
              "       [28, 28, 32],\n",
              "       [27, 28, 28],\n",
              "       [30, 31, 34],\n",
              "       [31, 27, 27],\n",
              "       [27, 31, 31],\n",
              "       [31, 31, 27],\n",
              "       [31, 28, 33],\n",
              "       [30, 28, 28],\n",
              "       [29, 26, 28],\n",
              "       [31, 33, 28],\n",
              "       [26, 29, 31],\n",
              "       [29, 28, 28],\n",
              "       [33, 29, 29],\n",
              "       [30, 31, 34],\n",
              "       [30, 34, 29],\n",
              "       [29, 28, 33],\n",
              "       [30, 31, 30],\n",
              "       [29, 29, 30],\n",
              "       [26, 32, 30],\n",
              "       [28, 32, 34],\n",
              "       [29, 29, 32],\n",
              "       [29, 30, 31],\n",
              "       [27, 30, 29],\n",
              "       [32, 31, 29],\n",
              "       [30, 29, 31],\n",
              "       [29, 29, 33],\n",
              "       [33, 29, 30],\n",
              "       [30, 30, 30],\n",
              "       [29, 32, 28],\n",
              "       [34, 32, 32],\n",
              "       [27, 28, 33],\n",
              "       [31, 32, 28],\n",
              "       [29, 33, 29]])"
            ]
          },
          "execution_count": 7,
          "metadata": {},
          "output_type": "execute_result"
        }
      ],
      "source": [
        "observations_1"
      ]
    },
    {
      "cell_type": "code",
      "execution_count": 8,
      "metadata": {},
      "outputs": [
        {
          "data": {
            "text/plain": [
              "(1500, 3)"
            ]
          },
          "execution_count": 8,
          "metadata": {},
          "output_type": "execute_result"
        }
      ],
      "source": [
        "observations = np.concatenate([observations_1, observations_2, observations_3, observations_4, observations_5], axis=0)\n",
        "observations.shape"
      ]
    },
    {
      "cell_type": "code",
      "execution_count": 9,
      "metadata": {},
      "outputs": [],
      "source": [
        "from sklearn.preprocessing import minmax_scale, normalize\n",
        "\n",
        "normalized_observation = minmax_scale(observations, axis=0)"
      ]
    },
    {
      "cell_type": "code",
      "execution_count": 10,
      "metadata": {},
      "outputs": [],
      "source": [
        "observations = normalized_observation"
      ]
    },
    {
      "cell_type": "code",
      "execution_count": 11,
      "metadata": {
        "id": "UpHc5PwS3nk6"
      },
      "outputs": [],
      "source": [
        "labels_0 = np.array([0 for i in range(300)]).reshape(300, 1)\n",
        "labels_1 = np.array([1 for i in range(300)]).reshape(300, 1)\n",
        "labels_2 = np.array([2 for i in range(300)]).reshape(300, 1)\n",
        "labels_3 = np.array([3 for i in range(300)]).reshape(300, 1)\n",
        "labels_4 = np.array([4 for i in range(300)]).reshape(300, 1)\n",
        "\n",
        "labels = np.concatenate([labels_0, labels_1, labels_2, labels_3, labels_4], axis=0)"
      ]
    },
    {
      "cell_type": "code",
      "execution_count": 12,
      "metadata": {},
      "outputs": [
        {
          "data": {
            "text/plain": [
              "(300, 1)"
            ]
          },
          "execution_count": 12,
          "metadata": {},
          "output_type": "execute_result"
        }
      ],
      "source": [
        "labels_0.shape"
      ]
    },
    {
      "cell_type": "code",
      "execution_count": 13,
      "metadata": {},
      "outputs": [
        {
          "data": {
            "text/plain": [
              "(1500, 1)"
            ]
          },
          "execution_count": 13,
          "metadata": {},
          "output_type": "execute_result"
        }
      ],
      "source": [
        "labels.shape"
      ]
    },
    {
      "cell_type": "code",
      "execution_count": 14,
      "metadata": {},
      "outputs": [
        {
          "data": {
            "text/plain": [
              "array([[0],\n",
              "       [0],\n",
              "       [0],\n",
              "       ...,\n",
              "       [4],\n",
              "       [4],\n",
              "       [4]], shape=(1500, 1))"
            ]
          },
          "execution_count": 14,
          "metadata": {},
          "output_type": "execute_result"
        }
      ],
      "source": [
        "labels"
      ]
    },
    {
      "cell_type": "code",
      "execution_count": 15,
      "metadata": {
        "colab": {
          "base_uri": "https://localhost:8080/",
          "height": 424
        },
        "id": "qV7ea3IuxOJ0",
        "outputId": "7c100b5e-ae2f-4e8b-d93a-10a3513713a4"
      },
      "outputs": [
        {
          "data": {
            "text/plain": [
              "<mpl_toolkits.mplot3d.art3d.Path3DCollection at 0x7fca0a3d3640>"
            ]
          },
          "execution_count": 15,
          "metadata": {},
          "output_type": "execute_result"
        },
        {
          "data": {
            "image/png": "[encoded data removed]",
            "text/plain": [
              "<Figure size 640x480 with 1 Axes>"
            ]
          },
          "metadata": {},
          "output_type": "display_data"
        }
      ],
      "source": [
        "import matplotlib.pyplot as plt\n",
        "\n",
        "fig = plt.figure()\n",
        "ax = fig.add_subplot(projection='3d')\n",
        "ax.scatter(observations[:,0] , observations[:,1] , observations [:,2], marker='^')"
      ]
    },
    {
      "cell_type": "code",
      "execution_count": 16,
      "metadata": {
        "colab": {
          "base_uri": "https://localhost:8080/",
          "height": 424
        },
        "id": "L0IECSQiyaAG",
        "outputId": "6c9696ad-18cb-42e0-a536-b082f84f619a"
      },
      "outputs": [
        {
          "data": {
            "text/plain": [
              "<mpl_toolkits.mplot3d.art3d.Path3DCollection at 0x7fca06903730>"
            ]
          },
          "execution_count": 16,
          "metadata": {},
          "output_type": "execute_result"
        },
        {
          "data": {
            "image/png": "[encoded data removed]",
            "text/plain": [
              "<Figure size 640x480 with 1 Axes>"
            ]
          },
          "metadata": {},
          "output_type": "display_data"
        }
      ],
      "source": [
        "fig = plt.figure()\n",
        "ax = fig.add_subplot(projection='3d')\n",
        "ax.scatter(observations[:,0], observations[:,1], observations[:,2], marker='o', c=labels)"
      ]
    },
    {
      "cell_type": "code",
      "execution_count": 17,
      "metadata": {
        "colab": {
          "base_uri": "https://localhost:8080/",
          "height": 542
        },
        "id": "CkwNWxxaiBFx",
        "outputId": "ac83cbb6-9515-4e08-85e8-755b13018800"
      },
      "outputs": [
        {
          "data": {
            "application/vnd.plotly.v1+json": {
              "config": {
                "plotlyServerURL": "https://plot.ly"
              },
              "data": [
                {
                  "hovertemplate": "0=%{x}<br>1=%{y}<br>2=%{z}<extra></extra>",
                  "legendgroup": "",
                  "marker": {
                    "color": "#636efa",
                    "symbol": "circle"
                  },
                  "mode": "markers",
                  "name": "",
                  "scene": "scene",
                  "showlegend": false,
                  "type": "scatter3d",
                  "x": {
                    "bdata": "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",
                    "dtype": "f8"
                  },
                  "y": {
                    "bdata": "uB6F61G4vj+YmZmZmZm5P3gUrkfherQ/uB6F61G4vj94FK5H4Xq0P3gUrkfherQ/7FG4HoXrwT98FK5H4XrEP7gehetRuL4/gBSuR+F6pD94FK5H4Xq0P3gUrkfherQ/uB6F61G4vj+YmZmZmZm5P+xRuB6F68E/wB6F61G4rj/AHoXrUbiuP7gehetRuL4/uB6F61G4vj98FK5H4XrEP3gUrkfherQ/uB6F61G4vj/sUbgehevBP8AehetRuK4/uB6F61G4vj/sUbgehevBP8AehetRuK4/wB6F61G4rj98FK5H4XrEP5iZmZmZmbk/eBSuR+F6tD+4HoXrUbi+P5iZmZmZmbk/uB6F61G4vj+4HoXrUbi+P+xRuB6F68E/gBSuR+F6pD/AHoXrUbiuP8AehetRuK4/nJmZmZmZyT+AFK5H4XqkP+xRuB6F68E/7FG4HoXrwT+AFK5H4XqkP3gUrkfherQ/mJmZmZmZuT/sUbgehevBP5iZmZmZmbk/uB6F61G4vj/AHoXrUbiuP3wUrkfhesQ/fBSuR+F6xD/sUbgehevBP8AehetRuK4/fBSuR+F6xD/sUbgehevBP8AehetRuK4/gBSuR+F6lD/AHoXrUbiuPwzXo3A9Csc/mJmZmZmZuT94FK5H4Xq0P7gehetRuL4/wB6F61G4rj+AFK5H4XqUP3wUrkfhesQ/mJmZmZmZuT+4HoXrUbi+P5iZmZmZmbk/uB6F61G4vj+YmZmZmZm5P7gehetRuL4/fBSuR+F6xD+4HoXrUbi+P3gUrkfherQ/DNejcD0Kxz/sUbgehevBP5iZmZmZmbk/7FG4HoXrwT+4HoXrUbi+P5iZmZmZmbk/eBSuR+F6tD+YmZmZmZm5PwzXo3A9Csc/gBSuR+F6pD+YmZmZmZm5P4AUrkfheqQ/mJmZmZmZuT/sUbgehevBP8AehetRuK4/mJmZmZmZuT/sUbgehevBP5iZmZmZmbk/wB6F61G4rj/sUbgehevBP3wUrkfhesQ/wB6F61G4rj+YmZmZmZm5P7gehetRuL4/eBSuR+F6tD/sUbgehevBP3gUrkfherQ/mJmZmZmZuT/AHoXrUbiuP+xRuB6F68E/eBSuR+F6tD94FK5H4Xq0P7gehetRuL4/7FG4HoXrwT98FK5H4XrEP3gUrkfherQ/mJmZmZmZuT94FK5H4Xq0P+xRuB6F68E/nJmZmZmZyT+AFK5H4XqkP7gehetRuL4/mJmZmZmZuT94FK5H4Xq0P5iZmZmZmbk/uB6F61G4vj98FK5H4XrEP3wUrkfhesQ/eBSuR+F6tD+AFK5H4XqUP4AUrkfheqQ/eBSuR+F6tD94FK5H4Xq0P5iZmZmZmbk/mJmZmZmZuT+4HoXrUbi+P7gehetRuL4/wB6F61G4rj+4HoXrUbi+P5yZmZmZmck/nJmZmZmZyT+YmZmZmZm5P5iZmZmZmbk/DNejcD0Kxz/AHoXrUbiuP7gehetRuL4/uB6F61G4vj98FK5H4XrEP7gehetRuL4/DNejcD0Kxz8M16NwPQrHP3gUrkfherQ/gBSuR+F6pD94FK5H4Xq0P5iZmZmZmbk/AAAAAAAAAAB4FK5H4Xq0P7gehetRuL4/mJmZmZmZuT+4HoXrUbi+P7gehetRuL4/uB6F61G4vj/sUbgehevBP7gehetRuL4/fBSuR+F6xD98FK5H4XrEP8AehetRuK4/7FG4HoXrwT/AHoXrUbiuP5iZmZmZmbk/mJmZmZmZuT/AHoXrUbiuP7gehetRuL4/uB6F61G4vj/AHoXrUbiuP3gUrkfherQ/mJmZmZmZuT/AHoXrUbiuP4AUrkfhepQ/eBSuR+F6tD/sUbgehevBP4AUrkfheqQ/eBSuR+F6tD8M16NwPQrHP4AUrkfheqQ/7FG4HoXrwT/AHoXrUbiuP3wUrkfhesQ/gBSuR+F6pD94FK5H4Xq0P3gUrkfherQ/uB6F61G4vj/sUbgehevBP5iZmZmZmbk/AAAAAAAAAAB4FK5H4Xq0P+xRuB6F68E/eBSuR+F6tD94FK5H4Xq0P+xRuB6F68E/wB6F61G4rj+YmZmZmZm5P5iZmZmZmbk/wB6F61G4rj94FK5H4Xq0P8AehetRuK4/fBSuR+F6xD94FK5H4Xq0P4AUrkfheqQ/wB6F61G4rj+4HoXrUbi+P+xRuB6F68E/7FG4HoXrwT94FK5H4Xq0P5iZmZmZmbk/mJmZmZmZuT94FK5H4Xq0P8AehetRuK4/eBSuR+F6tD/sUbgehevBP3gUrkfherQ/7FG4HoXrwT94FK5H4Xq0P7gehetRuL4/mJmZmZmZuT/AHoXrUbiuP8AehetRuK4/gBSuR+F6pD+4HoXrUbi+P8AehetRuK4/gBSuR+F6pD/AHoXrUbiuP3gUrkfherQ/mJmZmZmZuT+YmZmZmZm5P3gUrkfherQ/wB6F61G4rj+4HoXrUbi+P8AehetRuK4/gBSuR+F6pD+YmZmZmZm5P3gUrkfherQ/uB6F61G4vj+YmZmZmZm5P3gUrkfherQ/uB6F61G4vj98FK5H4XrEP4AUrkfheqQ/wB6F61G4rj94FK5H4Xq0P3gUrkfherQ/eBSuR+F6tD+YmZmZmZm5P5iZmZmZmbk/DNejcD0Kxz/sUbgehevBP7gehetRuL4/fBSuR+F6xD94FK5H4Xq0P+xRuB6F68E/mJmZmZmZuT94FK5H4Xq0P3wUrkfhesQ/eBSuR+F6tD94FK5H4Xq0P7gehetRuL4/eBSuR+F6tD/AHoXrUbiuP+xRuB6F68E/wB6F61G4rj+4HoXrUbi+P8AehetRuK4/wB6F61G4rj/AHoXrUbiuP7gehetRuL4/gBSuR+F6pD+4HoXrUbi+P7gehetRuL4/wB6F61G4rj/AHoXrUbiuP4AUrkfhepQ/fBSuR+F6xD94FK5H4Xq0P8AehetRuK4/eBSuR+F6tD+4HoXrUbi+PwzXo3A9Csc/wB6F61G4rj+4HoXrUbi+P3gUrkfherQ/7FG4HoXrwT/sUbgehevBP3gUrkfherQ/mJmZmZmZuT+YmZmZmZm5P7gehetRuL4/eBSuR+F6tD94FK5H4Xq0P3gUrkfherQ/mJmZmZmZuT/sUbgehevBP+xRuB6F68E/wB6F61G4rj/sUbgehevBP3wUrkfhesQ/NDMzMzMz0z8K16NwPQrXP8L1KFyPwtU/7FG4HoXr0T80MzMzMzPTP5yZmZmZmck/UrgehetR2D+kcD0K16PQPzQzMzMzM9M/7FG4HoXr0T/sUbgehevRP8L1KFyPwtU/NDMzMzMz0z98FK5H4XrUPzQzMzMzM9M/7FG4HoXr0T/sUbgehevRPzQzMzMzM9M/NDMzMzMz0z+4HoXrUbjOP3wUrkfhetQ/7FG4HoXr0T+4HoXrUbjOPyhcj8L1KMw/NDMzMzMz0z80MzMzMzPTP3wUrkfhetQ/UrgehetR2D8K16NwPQrXPzQzMzMzM9M/pHA9Ctej0D+4HoXrUbjOPyhcj8L1KMw/7FG4HoXr0T80MzMzMzPTP6RwPQrXo9A/pHA9Ctej0D/C9Shcj8LVP6RwPQrXo9A/wvUoXI/C1T80MzMzMzPTPwrXo3A9Ctc/fBSuR+F61D/C9Shcj8LVPzQzMzMzM9M/NDMzMzMz0z+kcD0K16PQP8L1KFyPwtU/CtejcD0K1z+kcD0K16PQP3wUrkfhetQ/NDMzMzMz0z98FK5H4XrUP1K4HoXrUdg/wvUoXI/C1T80MzMzMzPTP+xRuB6F69E/wvUoXI/C1T80MzMzMzPTP3wUrkfhetQ/CtejcD0K1z98FK5H4XrUP8L1KFyPwtU/KFyPwvUozD/sUbgehevRPzQzMzMzM9M/fBSuR+F61D80MzMzMzPTP8L1KFyPwtU/NDMzMzMz0z80MzMzMzPTP3wUrkfhetQ/7FG4HoXr0T+kcD0K16PQPwrXo3A9Ctc/pHA9Ctej0D80MzMzMzPTPwrXo3A9Ctc/NDMzMzMz0z/sUbgehevRP5yZmZmZmck/NDMzMzMz0z98FK5H4XrUP3wUrkfhetQ/uB6F61G4zj+4HoXrUbjOP6RwPQrXo9A/NDMzMzMz0z80MzMzMzPTP+xRuB6F69E/fBSuR+F61D/sUbgehevRPwrXo3A9Ctc/wvUoXI/C1T80MzMzMzPTP+xRuB6F69E/fBSuR+F61D98FK5H4XrUPzQzMzMzM9M/wvUoXI/C1T98FK5H4XrUP8L1KFyPwtU/pHA9Ctej0D80MzMzMzPTPzQzMzMzM9M/fBSuR+F61D/sUbgehevRP7gehetRuM4/fBSuR+F61D98FK5H4XrUP3wUrkfhetQ/NDMzMzMz0z/sUbgehevRP8L1KFyPwtU/7FG4HoXr0T8K16NwPQrXPzQzMzMzM9M/fBSuR+F61D+4HoXrUbjOPzQzMzMzM9M/wvUoXI/C1T/sUbgehevRP7gehetRuM4/pHA9Ctej0D98FK5H4XrUPzQzMzMzM9M/NDMzMzMz0z98FK5H4XrUPzQzMzMzM9M/CtejcD0K1z8K16NwPQrXP8L1KFyPwtU/CtejcD0K1z98FK5H4XrUP5yZmZmZmck/NDMzMzMz0z98FK5H4XrUP8L1KFyPwtU/4noUrkfh2j98FK5H4XrUP+xRuB6F69E/CtejcD0K1z+amZmZmZnZP8L1KFyPwtU/uB6F61G4zj/sUbgehevRP8L1KFyPwtU/wvUoXI/C1T/sUbgehevRP6RwPQrXo9A/CtejcD0K1z98FK5H4XrUP5yZmZmZmck/7FG4HoXr0T/sUbgehevRP3wUrkfhetQ/NDMzMzMz0z80MzMzMzPTP+xRuB6F69E/NDMzMzMz0z80MzMzMzPTPzQzMzMzM9M/wvUoXI/C1T80MzMzMzPTPzQzMzMzM9M/7FG4HoXr0T80MzMzMzPTP+xRuB6F69E/NDMzMzMz0z8K16NwPQrXP3wUrkfhetQ/pHA9Ctej0D98FK5H4XrUP8L1KFyPwtU/NDMzMzMz0z/sUbgehevRPzQzMzMzM9M/pHA9Ctej0D/sUbgehevRP8L1KFyPwtU/KFyPwvUozD/C9Shcj8LVP3wUrkfhetQ/fBSuR+F61D+kcD0K16PQP6RwPQrXo9A/pHA9Ctej0D80MzMzMzPTP3wUrkfhetQ/fBSuR+F61D80MzMzMzPTP+xRuB6F69E/uB6F61G4zj/C9Shcj8LVPwrXo3A9Ctc/uB6F61G4zj80MzMzMzPTP+xRuB6F69E/fBSuR+F61D80MzMzMzPTP8L1KFyPwtU/NDMzMzMz0z98FK5H4XrUP3wUrkfhetQ/NDMzMzMz0z/sUbgehevRP6RwPQrXo9A/wvUoXI/C1T+amZmZmZnZPwrXo3A9Ctc/fBSuR+F61D98FK5H4XrUPyhcj8L1KMw/7FG4HoXr0T+4HoXrUbjOP3wUrkfhetQ/wvUoXI/C1T8K16NwPQrXPzQzMzMzM9M/NDMzMzMz0z8oXI/C9SjMPzQzMzMzM9M/7FG4HoXr0T+kcD0K16PQPzQzMzMzM9M/NDMzMzMz0z+kcD0K16PQPwrXo3A9Ctc/fBSuR+F61D/C9Shcj8LVPwrXo3A9Ctc/pHA9Ctej0D80MzMzMzPTPzQzMzMzM9M/NDMzMzMz0z80MzMzMzPTPzQzMzMzM9M/wvUoXI/C1T80MzMzMzPTP6RwPQrXo9A/fBSuR+F61D98FK5H4XrUP8L1KFyPwtU/fBSuR+F61D8oXI/C9SjMP6RwPQrXo9A/pHA9Ctej0D98FK5H4XrUP+xRuB6F69E/fBSuR+F61D9SuB6F61HYPwrXo3A9Ctc/NDMzMzMz0z80MzMzMzPTPzQzMzMzM9M/pHA9Ctej0D98FK5H4XrUPzQzMzMzM9M/pHA9Ctej0D/C9Shcj8LVP3wUrkfhetQ/NDMzMzMz0z+kcD0K16PQP3wUrkfhetQ/7FG4HoXr0T80MzMzMzPTP3wUrkfhetQ/fBSuR+F61D80MzMzMzPTPzQzMzMzM9M/CtejcD0K1z98FK5H4XrUP1K4HoXrUdg/pHA9Ctej0D/C9Shcj8LVP3wUrkfhetQ/wvUoXI/C1T/sUbgehevRPzQzMzMzM9M/pHA9Ctej0D8K16NwPQrXP1K4HoXrUdg/7FG4HoXr0T80MzMzMzPTP6RwPQrXo9A/pHA9Ctej0D80MzMzMzPTP6RwPQrXo9A/pHA9Ctej0D+kcD0K16PQP6RwPQrXo9A/NDMzMzMz0z80MzMzMzPTP3wUrkfhetQ/fBSuR+F61D8K16NwPQrXP6RwPQrXo9A/NDMzMzMz0z98FK5H4XrUPzQzMzMzM9M/SOF6FK5H4T+4HoXrUbjePwAAAAAAAOA/4noUrkfh2j9wPQrXo3DdPwAAAAAAAOA/AAAAAAAA4D+4HoXrUbjeP6RwPQrXo+A/AAAAAAAA4D8AAAAAAADgP7gehetRuN4/cD0K16Nw3T9I4XoUrkfhPypcj8L1KNw/kML1KFyP4j+kcD0K16PgPwAAAAAAAOA/cD0K16Nw3T9wPQrXo3DdP6RwPQrXo+A/pHA9Ctej4D8AAAAAAADgP3A9CtejcN0/AAAAAAAA4D9wPQrXo3DdPwAAAAAAAOA/cD0K16Nw3T8K16NwPQrXPypcj8L1KNw/cD0K16Nw3T9wPQrXo3DdP3A9CtejcN0/AAAAAAAA4D8qXI/C9SjcPwAAAAAAAOA/uB6F61G43j8AAAAAAADgP7gehetRuN4/uB6F61G43j+kcD0K16PgPypcj8L1KNw/kML1KFyP4j8AAAAAAADgP3A9CtejcN0/AAAAAAAA4D8AAAAAAADgPwAAAAAAAOA/pHA9Ctej4D9I4XoUrkfhP6RwPQrXo+A/cD0K16Nw3T9wPQrXo3DdPwrXo3A9Ctc/AAAAAAAA4D+4HoXrUbjeP0jhehSuR+E/pHA9Ctej4D9wPQrXo3DdPwAAAAAAAOA/pHA9Ctej4D9wPQrXo3DdP7gehetRuN4/pHA9Ctej4D9I4XoUrkfhPwAAAAAAAOA/SOF6FK5H4T+amZmZmZnZP7gehetRuN4/uB6F61G43j+kcD0K16PgP6RwPQrXo+A/cD0K16Nw3T8AAAAAAADgP6RwPQrXo+A/AAAAAAAA4D9wPQrXo3DdPwAAAAAAAOA/cD0K16Nw3T+kcD0K16PgP6RwPQrXo+A/SOF6FK5H4T+kcD0K16PgPwAAAAAAAOA/pHA9Ctej4D8AAAAAAADgP0jhehSuR+E/uB6F61G43j+4HoXrUbjeP0jhehSuR+E/SOF6FK5H4T9I4XoUrkfhPwAAAAAAAOA/pHA9Ctej4D9I4XoUrkfhP7gehetRuN4/uB6F61G43j+4HoXrUbjePwAAAAAAAOA/uB6F61G43j/iehSuR+HaP7gehetRuN4/pHA9Ctej4D8AAAAAAADgP3A9CtejcN0/uB6F61G43j9wPQrXo3DdP7gehetRuN4/pHA9Ctej4D+4HoXrUbjeP6RwPQrXo+A/cD0K16Nw3T+4HoXrUbjeP5DC9Shcj+I/SOF6FK5H4T+kcD0K16PgP7gehetRuN4/uB6F61G43j9wPQrXo3DdP3A9CtejcN0/cD0K16Nw3T9I4XoUrkfhPypcj8L1KNw/SOF6FK5H4T9I4XoUrkfhP0jhehSuR+E/AAAAAAAA4D+kcD0K16PgPzQzMzMzM+M/uB6F61G43j80MzMzMzPjP3A9CtejcN0/cD0K16Nw3T+4HoXrUbjeP6RwPQrXo+A/uB6F61G43j9wPQrXo3DdP+xRuB6F6+E/cD0K16Nw3T9wPQrXo3DdPwAAAAAAAOA/uB6F61G43j8AAAAAAADgPwAAAAAAAOA/KlyPwvUo3D+kcD0K16PgPwAAAAAAAOA/cD0K16Nw3T9I4XoUrkfhP+xRuB6F6+E/uB6F61G43j+kcD0K16PgPwAAAAAAAOA/SOF6FK5H4T9wPQrXo3DdP6RwPQrXo+A/AAAAAAAA4D+kcD0K16PgP7gehetRuN4/pHA9Ctej4D8AAAAAAADgPwAAAAAAAOA/cD0K16Nw3T8AAAAAAADgP7gehetRuN4/uB6F61G43j+4HoXrUbjeP0jhehSuR+E/SOF6FK5H4T9wPQrXo3DdPwAAAAAAAOA/SOF6FK5H4T+4HoXrUbjeP5qZmZmZmdk/uB6F61G43j+kcD0K16PgP7gehetRuN4/AAAAAAAA4D8AAAAAAADgPwAAAAAAAOA/AAAAAAAA4D9I4XoUrkfhP3A9CtejcN0/AAAAAAAA4D+4HoXrUbjeP6RwPQrXo+A/uB6F61G43j9wPQrXo3DdP7gehetRuN4/KlyPwvUo3D9I4XoUrkfhPypcj8L1KNw/pHA9Ctej4D+kcD0K16PgPypcj8L1KNw/7FG4HoXr4T8AAAAAAADgP0jhehSuR+E/cD0K16Nw3T9I4XoUrkfhPwAAAAAAAOA/SOF6FK5H4T+4HoXrUbjePwAAAAAAAOA/uB6F61G43j+kcD0K16PgP6RwPQrXo+A/AAAAAAAA4D8qXI/C9SjcPwAAAAAAAOA/SOF6FK5H4T9I4XoUrkfhP6RwPQrXo+A/cD0K16Nw3T+kcD0K16PgPwAAAAAAAOA/7FG4HoXr4T9I4XoUrkfhP7gehetRuN4/cD0K16Nw3T8AAAAAAADgP3A9CtejcN0/4noUrkfh2j+4HoXrUbjeP6RwPQrXo+A/KlyPwvUo3D9wPQrXo3DdP0jhehSuR+E/cD0K16Nw3T+kcD0K16PgPypcj8L1KNw/uB6F61G43j9I4XoUrkfhP7gehetRuN4/SOF6FK5H4T+4HoXrUbjeP3A9CtejcN0/AAAAAAAA4D8AAAAAAADgPypcj8L1KNw/pHA9Ctej4D+kcD0K16PgPwAAAAAAAOA/uB6F61G43j9wPQrXo3DdPwAAAAAAAOA/AAAAAAAA4D8qXI/C9SjcP7gehetRuN4/pHA9Ctej4D8qXI/C9SjcP+xRuB6F6+E/cD0K16Nw3T80MzMzMzPjP3A9CtejcN0/uB6F61G43j8AAAAAAADgPwAAAAAAAOA/AAAAAAAA4D/sUbgehevhP3A9CtejcN0/KlyPwvUo3D+4HoXrUbjePwAAAAAAAOA/AAAAAAAA4D+4HoXrUbjeP0jhehSuR+E/uB6F61G43j+4HoXrUbjePwAAAAAAAOA/cD0K16Nw3T+kcD0K16PgP3A9CtejcN0/SOF6FK5H4T+4HoXrUbjePwAAAAAAAOA/uB6F61G43j+kcD0K16PgP5DC9Shcj+I/4noUrkfh2j+kcD0K16PgP6RwPQrXo+A/AAAAAAAA4D9wPQrXo3DdP0jhehSuR+E/uB6F61G43j8AAAAAAADgP6RwPQrXo+A/AAAAAAAA4D9wPQrXo3DdP7gehetRuN4/uB6F61G43j9wPQrXo3DdP6RwPQrXo+A/pHA9Ctej4D8AAAAAAADgP7gehetRuN4/pHA9Ctej4D+4HoXrUbjeP6RwPQrXo+A/HoXrUbge5T/Yo3A9CtfjP1K4HoXrUeg/9ihcj8L16D+uR+F6FK7nP1K4HoXrUeg/CtejcD0K5z8K16NwPQrnP3wUrkfheuQ/ZmZmZmZm5j98FK5H4XrkPwrXo3A9Cuc/rkfhehSu5z/Yo3A9CtfjPwrXo3A9Cuc/UrgehetR6D8K16NwPQrnPx6F61G4HuU/ZmZmZmZm5j98FK5H4XrkP9ijcD0K1+M/HoXrUbge5T9mZmZmZmbmP2ZmZmZmZuY/9ihcj8L16D9mZmZmZmbmPwrXo3A9Cuc/ZmZmZmZm5j9SuB6F61HoP65H4XoUruc/ZmZmZmZm5j8K16NwPQrnP8L1KFyPwuU/UrgehetR6D+uR+F6FK7nP2ZmZmZmZuY/CtejcD0K5z/C9Shcj8LlP8L1KFyPwuU/CtejcD0K5z/C9Shcj8LlP2ZmZmZmZuY/ZmZmZmZm5j8K16NwPQrnP8L1KFyPwuU/UrgehetR6D8ehetRuB7lP8L1KFyPwuU/wvUoXI/C5T+uR+F6FK7nPwrXo3A9Cuc/UrgehetR6D8K16NwPQrnP8L1KFyPwuU/UrgehetR6D8ehetRuB7lP8L1KFyPwuU/ZmZmZmZm5j/C9Shcj8LlP2ZmZmZmZuY/CtejcD0K5z/C9Shcj8LlP8L1KFyPwuU/UrgehetR6D/C9Shcj8LlP8L1KFyPwuU/wvUoXI/C5T9mZmZmZmbmP65H4XoUruc/wvUoXI/C5T98FK5H4XrkPwrXo3A9Cuc/9ihcj8L16D+uR+F6FK7nP65H4XoUruc/wvUoXI/C5T9mZmZmZmbmP2ZmZmZmZuY/wvUoXI/C5T98FK5H4XrkP2ZmZmZmZuY/ZmZmZmZm5j9mZmZmZmbmP65H4XoUruc/ZmZmZmZm5j8ehetRuB7lP8L1KFyPwuU/CtejcD0K5z98FK5H4XrkPwrXo3A9Cuc/fBSuR+F65D8ehetRuB7lP3wUrkfheuQ/CtejcD0K5z/C9Shcj8LlP2ZmZmZmZuY/wvUoXI/C5T/C9Shcj8LlPwrXo3A9Cuc/rkfhehSu5z8ehetRuB7lPx6F61G4HuU/ZmZmZmZm5j/C9Shcj8LlP3wUrkfheuQ/rkfhehSu5z8ehetRuB7lPx6F61G4HuU/CtejcD0K5z+uR+F6FK7nP2ZmZmZmZuY/ZmZmZmZm5j/2KFyPwvXoP8L1KFyPwuU/fBSuR+F65D8K16NwPQrnP2ZmZmZmZuY/CtejcD0K5z/C9Shcj8LlP2ZmZmZmZuY/ZmZmZmZm5j+uR+F6FK7nP9ijcD0K1+M/NDMzMzMz4z9mZmZmZmbmP8L1KFyPwuU/rkfhehSu5z8ehetRuB7lP9ijcD0K1+M/ZmZmZmZm5j8K16NwPQrnPwrXo3A9Cuc/ZmZmZmZm5j8K16NwPQrnP3wUrkfheuQ/2KNwPQrX4z9mZmZmZmbmP3wUrkfheuQ/rkfhehSu5z8K16NwPQrnP8L1KFyPwuU/ZmZmZmZm5j8ehetRuB7lPwrXo3A9Cuc/wvUoXI/C5T/C9Shcj8LlP65H4XoUruc/HoXrUbge5T8K16NwPQrnP2ZmZmZmZuY/wvUoXI/C5T8ehetRuB7lPwrXo3A9Cuc/UrgehetR6D/C9Shcj8LlPwrXo3A9Cuc/wvUoXI/C5T8ehetRuB7lP2ZmZmZmZuY/ZmZmZmZm5j/C9Shcj8LlPx6F61G4HuU/wvUoXI/C5T9mZmZmZmbmP8L1KFyPwuU/CtejcD0K5z9SuB6F61HoP8L1KFyPwuU/CtejcD0K5z8K16NwPQrnP8L1KFyPwuU/HoXrUbge5T9SuB6F61HoP65H4XoUruc/fBSuR+F65D/2KFyPwvXoP2ZmZmZmZuY/ZmZmZmZm5j9mZmZmZmbmP8L1KFyPwuU/ZmZmZmZm5j9mZmZmZmbmP65H4XoUruc/CtejcD0K5z8K16NwPQrnP2ZmZmZmZuY/UrgehetR6D8K16NwPQrnP9ijcD0K1+M/CtejcD0K5z/C9Shcj8LlP65H4XoUruc/fBSuR+F65D8K16NwPQrnP65H4XoUruc/wvUoXI/C5T9mZmZmZmbmPx6F61G4HuU/fBSuR+F65D9SuB6F61HoP9ijcD0K1+M/wvUoXI/C5T+uR+F6FK7nPwrXo3A9Cuc/wvUoXI/C5T9mZmZmZmbmP8L1KFyPwuU/HoXrUbge5T8K16NwPQrnP65H4XoUruc/HoXrUbge5T8K16NwPQrnP2ZmZmZmZuY/ZmZmZmZm5j/C9Shcj8LlP65H4XoUruc/wvUoXI/C5T8K16NwPQrnP65H4XoUruc/rkfhehSu5z8ehetRuB7lPx6F61G4HuU/fBSuR+F65D+uR+F6FK7nPx6F61G4HuU/rkfhehSu5z8ehetRuB7lP2ZmZmZmZuY/fBSuR+F65D/C9Shcj8LlP3wUrkfheuQ/CtejcD0K5z8K16NwPQrnP/YoXI/C9eg/rkfhehSu5z98FK5H4XrkP65H4XoUruc/fBSuR+F65D9mZmZmZmbmPx6F61G4HuU/CtejcD0K5z9mZmZmZmbmP2ZmZmZmZuY/CtejcD0K5z/C9Shcj8LlPx6F61G4HuU/HoXrUbge5T/Yo3A9CtfjP65H4XoUruc/wvUoXI/C5T8K16NwPQrnP2ZmZmZmZuY/ZmZmZmZm5j9mZmZmZmbmP65H4XoUruc/fBSuR+F65D9mZmZmZmbmPx6F61G4HuU/ZmZmZmZm5j/C9Shcj8LlPwrXo3A9Cuc/wvUoXI/C5T+uR+F6FK7nP65H4XoUruc/2KNwPQrX4z9mZmZmZmbmP9ijcD0K1+M/ZmZmZmZm5j/Yo3A9CtfjP8L1KFyPwuU/fBSuR+F65D98FK5H4XrkPwrXo3A9Cuc/CtejcD0K5z/C9Shcj8LlPzQzMzMzM+M/HoXrUbge5T9mZmZmZmbmP2ZmZmZmZuY/rkfhehSu5z/2KFyPwvXoP65H4XoUruc/wvUoXI/C5T8K16NwPQrnP2ZmZmZmZuY/wvUoXI/C5T+uR+F6FK7nPx6F61G4HuU/rkfhehSu5z9mZmZmZmbmPwrXo3A9Cuc/CtejcD0K5z8ehetRuB7lP2ZmZmZmZuY/rkfhehSu5z/C9Shcj8LlP2ZmZmZmZuY/CtejcD0K5z/C9Shcj8LlP3wUrkfheuQ/KlyPwvUo7D+G61G4HoXrPxSuR+F6FO4/hutRuB6F6z+G61G4HoXrP3A9CtejcO0/hutRuB6F6z8qXI/C9SjsP+J6FK5H4eo/uB6F61G47j+G61G4HoXrP4brUbgehes/zszMzMzM7D9cj8L1KFzvP87MzMzMzOw/zszMzMzM7D8qXI/C9SjsP3A9CtejcO0/cD0K16Nw7T9wPQrXo3DtP3A9CtejcO0/zszMzMzM7D/OzMzMzMzsP7gehetRuO4/KlyPwvUo7D/iehSuR+HqP7gehetRuO4/KlyPwvUo7D8UrkfhehTuPxSuR+F6FO4/KlyPwvUo7D9wPQrXo3DtP3A9CtejcO0/KlyPwvUo7D8qXI/C9SjsP3A9CtejcO0/FK5H4XoU7j/OzMzMzMzsP7gehetRuO4/zszMzMzM7D+G61G4HoXrPxSuR+F6FO4/PgrXo3A96j8qXI/C9SjsPypcj8L1KOw/cD0K16Nw7T/OzMzMzMzsP87MzMzMzOw/KlyPwvUo7D/OzMzMzMzsPxSuR+F6FO4/FK5H4XoU7j8qXI/C9SjsP3A9CtejcO0/zszMzMzM7D/OzMzMzMzsP3A9CtejcO0/KlyPwvUo7D+G61G4HoXrP4brUbgehes/uB6F61G47j/iehSuR+HqP87MzMzMzOw/cD0K16Nw7T8AAAAAAADwP3A9CtejcO0/cD0K16Nw7T/OzMzMzMzsPxSuR+F6FO4/cD0K16Nw7T8qXI/C9SjsP4brUbgehes/cD0K16Nw7T+G61G4HoXrP87MzMzMzOw/cD0K16Nw7T9wPQrXo3DtP4brUbgehes/hutRuB6F6z/OzMzMzMzsP4brUbgehes/uB6F61G47j8qXI/C9SjsP87MzMzMzOw/zszMzMzM7D+G61G4HoXrP4brUbgehes/cD0K16Nw7T9wPQrXo3DtP+J6FK5H4eo/uB6F61G47j8UrkfhehTuP4brUbgehes/uB6F61G47j8qXI/C9SjsP87MzMzMzOw/KlyPwvUo7D+4HoXrUbjuP87MzMzMzOw/cD0K16Nw7T+G61G4HoXrP+J6FK5H4eo/hutRuB6F6z/OzMzMzMzsPxSuR+F6FO4/KlyPwvUo7D/OzMzMzMzsP3A9CtejcO0/FK5H4XoU7j9wPQrXo3DtP4brUbgehes/uB6F61G47j9wPQrXo3DtP3A9CtejcO0/uB6F61G47j/iehSuR+HqPz4K16NwPeo/zszMzMzM7D9wPQrXo3DtP87MzMzMzOw/zszMzMzM7D9wPQrXo3DtPypcj8L1KOw/zszMzMzM7D+4HoXrUbjuP4brUbgehes/cD0K16Nw7T/OzMzMzMzsP87MzMzMzOw/FK5H4XoU7j8qXI/C9SjsP4brUbgehes/KlyPwvUo7D/OzMzMzMzsPz4K16NwPeo/zszMzMzM7D+G61G4HoXrPxSuR+F6FO4/cD0K16Nw7T/OzMzMzMzsP4brUbgehes/zszMzMzM7D8qXI/C9SjsPz4K16NwPeo/cD0K16Nw7T9wPQrXo3DtPypcj8L1KOw/cD0K16Nw7T/iehSuR+HqP3A9CtejcO0/zszMzMzM7D+G61G4HoXrP87MzMzMzOw/zszMzMzM7D+G61G4HoXrPz4K16NwPeo/zszMzMzM7D+G61G4HoXrP3A9CtejcO0/zszMzMzM7D/OzMzMzMzsPxSuR+F6FO4/KlyPwvUo7D8UrkfhehTuPxSuR+F6FO4/cD0K16Nw7T/OzMzMzMzsP3A9CtejcO0/4noUrkfh6j+4HoXrUbjuP3A9CtejcO0/KlyPwvUo7D8qXI/C9SjsPypcj8L1KOw/zszMzMzM7D/iehSuR+HqP4brUbgehes/FK5H4XoU7j9wPQrXo3DtP3A9CtejcO0/cD0K16Nw7T/OzMzMzMzsPypcj8L1KOw/FK5H4XoU7j/iehSuR+HqP87MzMzMzOw/FK5H4XoU7j8qXI/C9SjsPxSuR+F6FO4/KlyPwvUo7D8+CtejcD3qP87MzMzMzOw/4noUrkfh6j9wPQrXo3DtP87MzMzMzOw/zszMzMzM7D8qXI/C9SjsP+J6FK5H4eo/KlyPwvUo7D8qXI/C9SjsP3A9CtejcO0/FK5H4XoU7j9wPQrXo3DtP+J6FK5H4eo/cD0K16Nw7T9wPQrXo3DtP3A9CtejcO0/mpmZmZmZ6T9wPQrXo3DtP3A9CtejcO0/uB6F61G47j8UrkfhehTuP87MzMzMzOw/hutRuB6F6z/OzMzMzMzsPypcj8L1KOw/KlyPwvUo7D9wPQrXo3DtP87MzMzMzOw/cD0K16Nw7T/iehSuR+HqPypcj8L1KOw/FK5H4XoU7j/OzMzMzMzsP87MzMzMzOw/KlyPwvUo7D/OzMzMzMzsPypcj8L1KOw/cD0K16Nw7T/iehSuR+HqP+J6FK5H4eo/KlyPwvUo7D+G61G4HoXrP3A9CtejcO0/KlyPwvUo7D/OzMzMzMzsP87MzMzMzOw/FK5H4XoU7j+4HoXrUbjuP4brUbgehes/4noUrkfh6j9wPQrXo3DtP3A9CtejcO0/hutRuB6F6z8UrkfhehTuPypcj8L1KOw/zszMzMzM7D8qXI/C9SjsPz4K16NwPeo/KlyPwvUo7D+G61G4HoXrP87MzMzMzOw/4noUrkfh6j+G61G4HoXrP4brUbgehes/4noUrkfh6j8UrkfhehTuP87MzMzMzOw/zszMzMzM7D8AAAAAAADwP7gehetRuO4/hutRuB6F6z8UrkfhehTuP87MzMzMzOw/FK5H4XoU7j/OzMzMzMzsPypcj8L1KOw/PgrXo3A96j8UrkfhehTuP87MzMzMzOw/hutRuB6F6z8UrkfhehTuPypcj8L1KOw/FK5H4XoU7j/OzMzMzMzsP7gehetRuO4/KlyPwvUo7D8qXI/C9SjsP4brUbgehes/KlyPwvUo7D8UrkfhehTuP+J6FK5H4eo/zszMzMzM7D8qXI/C9SjsP87MzMzMzOw/KlyPwvUo7D/OzMzMzMzsPypcj8L1KOw/cD0K16Nw7T+4HoXrUbjuP3A9CtejcO0/KlyPwvUo7D/iehSuR+HqP3A9CtejcO0/FK5H4XoU7j/OzMzMzMzsPypcj8L1KOw/KlyPwvUo7D/OzMzMzMzsPypcj8L1KOw/",
                    "dtype": "f8"
                  },
                  "z": {
                    "bdata": "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",
                    "dtype": "f8"
                  }
                }
              ],
              "layout": {
                "legend": {
                  "tracegroupgap": 0
                },
                "margin": {
                  "t": 60
                },
                "scene": {
                  "domain": {
                    "x": [
                      0,
                      1
                    ],
                    "y": [
                      0,
                      1
                    ]
                  },
                  "xaxis": {
                    "title": {
                      "text": "0"
                    }
                  },
                  "yaxis": {
                    "title": {
                      "text": "1"
                    }
                  },
                  "zaxis": {
                    "title": {
                      "text": "2"
                    }
                  }
                },
                "template": {
                  "data": {
                    "bar": [
                      {
                        "error_x": {
                          "color": "#2a3f5f"
                        },
                        "error_y": {
                          "color": "#2a3f5f"
                        },
                        "marker": {
                          "line": {
                            "color": "#E5ECF6",
                            "width": 0.5
                          },
                          "pattern": {
                            "fillmode": "overlay",
                            "size": 10,
                            "solidity": 0.2
                          }
                        },
                        "type": "bar"
                      }
                    ],
                    "barpolar": [
                      {
                        "marker": {
                          "line": {
                            "color": "#E5ECF6",
                            "width": 0.5
                          },
                          "pattern": {
                            "fillmode": "overlay",
                            "size": 10,
                            "solidity": 0.2
                          }
                        },
                        "type": "barpolar"
                      }
                    ],
                    "carpet": [
                      {
                        "aaxis": {
                          "endlinecolor": "#2a3f5f",
                          "gridcolor": "white",
                          "linecolor": "white",
                          "minorgridcolor": "white",
                          "startlinecolor": "#2a3f5f"
                        },
                        "baxis": {
                          "endlinecolor": "#2a3f5f",
                          "gridcolor": "white",
                          "linecolor": "white",
                          "minorgridcolor": "white",
                          "startlinecolor": "#2a3f5f"
                        },
                        "type": "carpet"
                      }
                    ],
                    "choropleth": [
                      {
                        "colorbar": {
                          "outlinewidth": 0,
                          "ticks": ""
                        },
                        "type": "choropleth"
                      }
                    ],
                    "contour": [
                      {
                        "colorbar": {
                          "outlinewidth": 0,
                          "ticks": ""
                        },
                        "colorscale": [
                          [
                            0,
                            "#0d0887"
                          ],
                          [
                            0.1111111111111111,
                            "#46039f"
                          ],
                          [
                            0.2222222222222222,
                            "#7201a8"
                          ],
                          [
                            0.3333333333333333,
                            "#9c179e"
                          ],
                          [
                            0.4444444444444444,
                            "#bd3786"
                          ],
                          [
                            0.5555555555555556,
                            "#d8576b"
                          ],
                          [
                            0.6666666666666666,
                            "#ed7953"
                          ],
                          [
                            0.7777777777777778,
                            "#fb9f3a"
                          ],
                          [
                            0.8888888888888888,
                            "#fdca26"
                          ],
                          [
                            1,
                            "#f0f921"
                          ]
                        ],
                        "type": "contour"
                      }
                    ],
                    "contourcarpet": [
                      {
                        "colorbar": {
                          "outlinewidth": 0,
                          "ticks": ""
                        },
                        "type": "contourcarpet"
                      }
                    ],
                    "heatmap": [
                      {
                        "colorbar": {
                          "outlinewidth": 0,
                          "ticks": ""
                        },
                        "colorscale": [
                          [
                            0,
                            "#0d0887"
                          ],
                          [
                            0.1111111111111111,
                            "#46039f"
                          ],
                          [
                            0.2222222222222222,
                            "#7201a8"
                          ],
                          [
                            0.3333333333333333,
                            "#9c179e"
                          ],
                          [
                            0.4444444444444444,
                            "#bd3786"
                          ],
                          [
                            0.5555555555555556,
                            "#d8576b"
                          ],
                          [
                            0.6666666666666666,
                            "#ed7953"
                          ],
                          [
                            0.7777777777777778,
                            "#fb9f3a"
                          ],
                          [
                            0.8888888888888888,
                            "#fdca26"
                          ],
                          [
                            1,
                            "#f0f921"
                          ]
                        ],
                        "type": "heatmap"
                      }
                    ],
                    "histogram": [
                      {
                        "marker": {
                          "pattern": {
                            "fillmode": "overlay",
                            "size": 10,
                            "solidity": 0.2
                          }
                        },
                        "type": "histogram"
                      }
                    ],
                    "histogram2d": [
                      {
                        "colorbar": {
                          "outlinewidth": 0,
                          "ticks": ""
                        },
                        "colorscale": [
                          [
                            0,
                            "#0d0887"
                          ],
                          [
                            0.1111111111111111,
                            "#46039f"
                          ],
                          [
                            0.2222222222222222,
                            "#7201a8"
                          ],
                          [
                            0.3333333333333333,
                            "#9c179e"
                          ],
                          [
                            0.4444444444444444,
                            "#bd3786"
                          ],
                          [
                            0.5555555555555556,
                            "#d8576b"
                          ],
                          [
                            0.6666666666666666,
                            "#ed7953"
                          ],
                          [
                            0.7777777777777778,
                            "#fb9f3a"
                          ],
                          [
                            0.8888888888888888,
                            "#fdca26"
                          ],
                          [
                            1,
                            "#f0f921"
                          ]
                        ],
                        "type": "histogram2d"
                      }
                    ],
                    "histogram2dcontour": [
                      {
                        "colorbar": {
                          "outlinewidth": 0,
                          "ticks": ""
                        },
                        "colorscale": [
                          [
                            0,
                            "#0d0887"
                          ],
                          [
                            0.1111111111111111,
                            "#46039f"
                          ],
                          [
                            0.2222222222222222,
                            "#7201a8"
                          ],
                          [
                            0.3333333333333333,
                            "#9c179e"
                          ],
                          [
                            0.4444444444444444,
                            "#bd3786"
                          ],
                          [
                            0.5555555555555556,
                            "#d8576b"
                          ],
                          [
                            0.6666666666666666,
                            "#ed7953"
                          ],
                          [
                            0.7777777777777778,
                            "#fb9f3a"
                          ],
                          [
                            0.8888888888888888,
                            "#fdca26"
                          ],
                          [
                            1,
                            "#f0f921"
                          ]
                        ],
                        "type": "histogram2dcontour"
                      }
                    ],
                    "mesh3d": [
                      {
                        "colorbar": {
                          "outlinewidth": 0,
                          "ticks": ""
                        },
                        "type": "mesh3d"
                      }
                    ],
                    "parcoords": [
                      {
                        "line": {
                          "colorbar": {
                            "outlinewidth": 0,
                            "ticks": ""
                          }
                        },
                        "type": "parcoords"
                      }
                    ],
                    "pie": [
                      {
                        "automargin": true,
                        "type": "pie"
                      }
                    ],
                    "scatter": [
                      {
                        "fillpattern": {
                          "fillmode": "overlay",
                          "size": 10,
                          "solidity": 0.2
                        },
                        "type": "scatter"
                      }
                    ],
                    "scatter3d": [
                      {
                        "line": {
                          "colorbar": {
                            "outlinewidth": 0,
                            "ticks": ""
                          }
                        },
                        "marker": {
                          "colorbar": {
                            "outlinewidth": 0,
                            "ticks": ""
                          }
                        },
                        "type": "scatter3d"
                      }
                    ],
                    "scattercarpet": [
                      {
                        "marker": {
                          "colorbar": {
                            "outlinewidth": 0,
                            "ticks": ""
                          }
                        },
                        "type": "scattercarpet"
                      }
                    ],
                    "scattergeo": [
                      {
                        "marker": {
                          "colorbar": {
                            "outlinewidth": 0,
                            "ticks": ""
                          }
                        },
                        "type": "scattergeo"
                      }
                    ],
                    "scattergl": [
                      {
                        "marker": {
                          "colorbar": {
                            "outlinewidth": 0,
                            "ticks": ""
                          }
                        },
                        "type": "scattergl"
                      }
                    ],
                    "scattermap": [
                      {
                        "marker": {
                          "colorbar": {
                            "outlinewidth": 0,
                            "ticks": ""
                          }
                        },
                        "type": "scattermap"
                      }
                    ],
                    "scattermapbox": [
                      {
                        "marker": {
                          "colorbar": {
                            "outlinewidth": 0,
                            "ticks": ""
                          }
                        },
                        "type": "scattermapbox"
                      }
                    ],
                    "scatterpolar": [
                      {
                        "marker": {
                          "colorbar": {
                            "outlinewidth": 0,
                            "ticks": ""
                          }
                        },
                        "type": "scatterpolar"
                      }
                    ],
                    "scatterpolargl": [
                      {
                        "marker": {
                          "colorbar": {
                            "outlinewidth": 0,
                            "ticks": ""
                          }
                        },
                        "type": "scatterpolargl"
                      }
                    ],
                    "scatterternary": [
                      {
                        "marker": {
                          "colorbar": {
                            "outlinewidth": 0,
                            "ticks": ""
                          }
                        },
                        "type": "scatterternary"
                      }
                    ],
                    "surface": [
                      {
                        "colorbar": {
                          "outlinewidth": 0,
                          "ticks": ""
                        },
                        "colorscale": [
                          [
                            0,
                            "#0d0887"
                          ],
                          [
                            0.1111111111111111,
                            "#46039f"
                          ],
                          [
                            0.2222222222222222,
                            "#7201a8"
                          ],
                          [
                            0.3333333333333333,
                            "#9c179e"
                          ],
                          [
                            0.4444444444444444,
                            "#bd3786"
                          ],
                          [
                            0.5555555555555556,
                            "#d8576b"
                          ],
                          [
                            0.6666666666666666,
                            "#ed7953"
                          ],
                          [
                            0.7777777777777778,
                            "#fb9f3a"
                          ],
                          [
                            0.8888888888888888,
                            "#fdca26"
                          ],
                          [
                            1,
                            "#f0f921"
                          ]
                        ],
                        "type": "surface"
                      }
                    ],
                    "table": [
                      {
                        "cells": {
                          "fill": {
                            "color": "#EBF0F8"
                          },
                          "line": {
                            "color": "white"
                          }
                        },
                        "header": {
                          "fill": {
                            "color": "#C8D4E3"
                          },
                          "line": {
                            "color": "white"
                          }
                        },
                        "type": "table"
                      }
                    ]
                  },
                  "layout": {
                    "annotationdefaults": {
                      "arrowcolor": "#2a3f5f",
                      "arrowhead": 0,
                      "arrowwidth": 1
                    },
                    "autotypenumbers": "strict",
                    "coloraxis": {
                      "colorbar": {
                        "outlinewidth": 0,
                        "ticks": ""
                      }
                    },
                    "colorscale": {
                      "diverging": [
                        [
                          0,
                          "#8e0152"
                        ],
                        [
                          0.1,
                          "#c51b7d"
                        ],
                        [
                          0.2,
                          "#de77ae"
                        ],
                        [
                          0.3,
                          "#f1b6da"
                        ],
                        [
                          0.4,
                          "#fde0ef"
                        ],
                        [
                          0.5,
                          "#f7f7f7"
                        ],
                        [
                          0.6,
                          "#e6f5d0"
                        ],
                        [
                          0.7,
                          "#b8e186"
                        ],
                        [
                          0.8,
                          "#7fbc41"
                        ],
                        [
                          0.9,
                          "#4d9221"
                        ],
                        [
                          1,
                          "#276419"
                        ]
                      ],
                      "sequential": [
                        [
                          0,
                          "#0d0887"
                        ],
                        [
                          0.1111111111111111,
                          "#46039f"
                        ],
                        [
                          0.2222222222222222,
                          "#7201a8"
                        ],
                        [
                          0.3333333333333333,
                          "#9c179e"
                        ],
                        [
                          0.4444444444444444,
                          "#bd3786"
                        ],
                        [
                          0.5555555555555556,
                          "#d8576b"
                        ],
                        [
                          0.6666666666666666,
                          "#ed7953"
                        ],
                        [
                          0.7777777777777778,
                          "#fb9f3a"
                        ],
                        [
                          0.8888888888888888,
                          "#fdca26"
                        ],
                        [
                          1,
                          "#f0f921"
                        ]
                      ],
                      "sequentialminus": [
                        [
                          0,
                          "#0d0887"
                        ],
                        [
                          0.1111111111111111,
                          "#46039f"
                        ],
                        [
                          0.2222222222222222,
                          "#7201a8"
                        ],
                        [
                          0.3333333333333333,
                          "#9c179e"
                        ],
                        [
                          0.4444444444444444,
                          "#bd3786"
                        ],
                        [
                          0.5555555555555556,
                          "#d8576b"
                        ],
                        [
                          0.6666666666666666,
                          "#ed7953"
                        ],
                        [
                          0.7777777777777778,
                          "#fb9f3a"
                        ],
                        [
                          0.8888888888888888,
                          "#fdca26"
                        ],
                        [
                          1,
                          "#f0f921"
                        ]
                      ]
                    },
                    "colorway": [
                      "#636efa",
                      "#EF553B",
                      "#00cc96",
                      "#ab63fa",
                      "#FFA15A",
                      "#19d3f3",
                      "#FF6692",
                      "#B6E880",
                      "#FF97FF",
                      "#FECB52"
                    ],
                    "font": {
                      "color": "#2a3f5f"
                    },
                    "geo": {
                      "bgcolor": "white",
                      "lakecolor": "white",
                      "landcolor": "#E5ECF6",
                      "showlakes": true,
                      "showland": true,
                      "subunitcolor": "white"
                    },
                    "hoverlabel": {
                      "align": "left"
                    },
                    "hovermode": "closest",
                    "mapbox": {
                      "style": "light"
                    },
                    "paper_bgcolor": "white",
                    "plot_bgcolor": "#E5ECF6",
                    "polar": {
                      "angularaxis": {
                        "gridcolor": "white",
                        "linecolor": "white",
                        "ticks": ""
                      },
                      "bgcolor": "#E5ECF6",
                      "radialaxis": {
                        "gridcolor": "white",
                        "linecolor": "white",
                        "ticks": ""
                      }
                    },
                    "scene": {
                      "xaxis": {
                        "backgroundcolor": "#E5ECF6",
                        "gridcolor": "white",
                        "gridwidth": 2,
                        "linecolor": "white",
                        "showbackground": true,
                        "ticks": "",
                        "zerolinecolor": "white"
                      },
                      "yaxis": {
                        "backgroundcolor": "#E5ECF6",
                        "gridcolor": "white",
                        "gridwidth": 2,
                        "linecolor": "white",
                        "showbackground": true,
                        "ticks": "",
                        "zerolinecolor": "white"
                      },
                      "zaxis": {
                        "backgroundcolor": "#E5ECF6",
                        "gridcolor": "white",
                        "gridwidth": 2,
                        "linecolor": "white",
                        "showbackground": true,
                        "ticks": "",
                        "zerolinecolor": "white"
                      }
                    },
                    "shapedefaults": {
                      "line": {
                        "color": "#2a3f5f"
                      }
                    },
                    "ternary": {
                      "aaxis": {
                        "gridcolor": "white",
                        "linecolor": "white",
                        "ticks": ""
                      },
                      "baxis": {
                        "gridcolor": "white",
                        "linecolor": "white",
                        "ticks": ""
                      },
                      "bgcolor": "#E5ECF6",
                      "caxis": {
                        "gridcolor": "white",
                        "linecolor": "white",
                        "ticks": ""
                      }
                    },
                    "title": {
                      "x": 0.05
                    },
                    "xaxis": {
                      "automargin": true,
                      "gridcolor": "white",
                      "linecolor": "white",
                      "ticks": "",
                      "title": {
                        "standoff": 15
                      },
                      "zerolinecolor": "white",
                      "zerolinewidth": 2
                    },
                    "yaxis": {
                      "automargin": true,
                      "gridcolor": "white",
                      "linecolor": "white",
                      "ticks": "",
                      "title": {
                        "standoff": 15
                      },
                      "zerolinecolor": "white",
                      "zerolinewidth": 2
                    }
                  }
                }
              }
            }
          },
          "metadata": {},
          "output_type": "display_data"
        }
      ],
      "source": [
        "import matplotlib.pyplot as plt\n",
        "import pandas as pd\n",
        "\n",
        "import plotly.express as px\n",
        "import plotly.io as pio\n",
        "\n",
        "res_df = pd.DataFrame(observations)\n",
        "fig = px.scatter_3d(res_df, x=0, y=1, z=2)\n",
        "\n",
        "pio.renderers.default = \"vscode\"\n",
        "fig.show()"
      ]
    },
    {
      "cell_type": "code",
      "execution_count": 18,
      "metadata": {
        "colab": {
          "base_uri": "https://localhost:8080/",
          "height": 542
        },
        "id": "Dq7wHuwzNdCT",
        "outputId": "c8d78a2b-fc01-4901-b501-a5ce8cda74e0"
      },
      "outputs": [
        {
          "data": {
            "application/vnd.plotly.v1+json": {
              "config": {
                "plotlyServerURL": "https://plot.ly"
              },
              "data": [
                {
                  "hovertemplate": "0=%{x}<br>1=%{y}<br>2=%{z}<br>color=%{marker.color}<extra></extra>",
                  "legendgroup": "",
                  "marker": {
                    "color": {
                      "bdata": "AAAAAAAAAAAAAAAAAAAAAAAAAAAAAAAAAAAAAAAAAAAAAAAAAAAAAAAAAAAAAAAAAAAAAAAAAAAAAAAAAAAAAAAAAAAAAAAAAAAAAAAAAAAAAAAAAAAAAAAAAAAAAAAAAAAAAAAAAAAAAAAAAAAAAAAAAAAAAAAAAAAAAAAAAAAAAAAAAAAAAAAAAAAAAAAAAAAAAAAAAAAAAAAAAAAAAAAAAAAAAAAAAAAAAAAAAAAAAAAAAAAAAAAAAAAAAAAAAAAAAAAAAAAAAAAAAAAAAAAAAAAAAAAAAAAAAAAAAAAAAAAAAAAAAAAAAAAAAAAAAAAAAAAAAAAAAAAAAAAAAAAAAAAAAAAAAAAAAAAAAAAAAAAAAAAAAAAAAAAAAAAAAAAAAAAAAAAAAAAAAQEBAQEBAQEBAQEBAQEBAQEBAQEBAQEBAQEBAQEBAQEBAQEBAQEBAQEBAQEBAQEBAQEBAQEBAQEBAQEBAQEBAQEBAQEBAQEBAQEBAQEBAQEBAQEBAQEBAQEBAQEBAQEBAQEBAQEBAQEBAQEBAQEBAQEBAQEBAQEBAQEBAQEBAQEBAQEBAQEBAQEBAQEBAQEBAQEBAQEBAQEBAQEBAQEBAQEBAQEBAQEBAQEBAQEBAQEBAQEBAQEBAQEBAQEBAQEBAQEBAQEBAQEBAQEBAQEBAQEBAQEBAQEBAQEBAQEBAQEBAQEBAQEBAQEBAQEBAQEBAQEBAQEBAQEBAQEBAQEBAQEBAQEBAQEBAQEBAQEBAQEBAQEBAQEBAQEBAQEBAQEBAQEBAQEBAQEBAQEBAgICAgICAgICAgICAgICAgICAgICAgICAgICAgICAgICAgICAgICAgICAgICAgICAgICAgICAgICAgICAgICAgICAgICAgICAgICAgICAgICAgICAgICAgICAgICAgICAgICAgICAgICAgICAgICAgICAgICAgICAgICAgICAgICAgICAgICAgICAgICAgICAgICAgICAgICAgICAgICAgICAgICAgICAgICAgICAgICAgICAgICAgICAgICAgICAgICAgICAgICAgICAgICAgICAgICAgICAgICAgICAgICAgICAgICAgICAgICAgICAgICAgICAgICAgICAgICAgICAgICAgICAgICAgICAgICAgICAgICAgICAgICAgICAgICAgICAgICAgICAwMDAwMDAwMDAwMDAwMDAwMDAwMDAwMDAwMDAwMDAwMDAwMDAwMDAwMDAwMDAwMDAwMDAwMDAwMDAwMDAwMDAwMDAwMDAwMDAwMDAwMDAwMDAwMDAwMDAwMDAwMDAwMDAwMDAwMDAwMDAwMDAwMDAwMDAwMDAwMDAwMDAwMDAwMDAwMDAwMDAwMDAwMDAwMDAwMDAwMDAwMDAwMDAwMDAwMDAwMDAwMDAwMDAwMDAwMDAwMDAwMDAwMDAwMDAwMDAwMDAwMDAwMDAwMDAwMDAwMDAwMDAwMDAwMDAwMDAwMDAwMDAwMDAwMDAwMDAwMDAwMDAwMDAwMDAwMDAwMDAwMDAwMDAwMDAwMDAwMDAwMDAwMDAwMDAwMDAwMDAwMDAwMDAwMDAwMDAwMDBAQEBAQEBAQEBAQEBAQEBAQEBAQEBAQEBAQEBAQEBAQEBAQEBAQEBAQEBAQEBAQEBAQEBAQEBAQEBAQEBAQEBAQEBAQEBAQEBAQEBAQEBAQEBAQEBAQEBAQEBAQEBAQEBAQEBAQEBAQEBAQEBAQEBAQEBAQEBAQEBAQEBAQEBAQEBAQEBAQEBAQEBAQEBAQEBAQEBAQEBAQEBAQEBAQEBAQEBAQEBAQEBAQEBAQEBAQEBAQEBAQEBAQEBAQEBAQEBAQEBAQEBAQEBAQEBAQEBAQEBAQEBAQEBAQEBAQEBAQEBAQEBAQEBAQEBAQEBAQEBAQEBAQEBAQEBAQEBAQEBAQEBAQEBAQEBAQEBAQEBAQEBAQEBAQEBAQEBAQEBAQEBAQEBAQEBAQEBAQE",
                      "dtype": "i1"
                    },
                    "coloraxis": "coloraxis",
                    "symbol": "circle"
                  },
                  "mode": "markers",
                  "name": "",
                  "scene": "scene",
                  "showlegend": false,
                  "type": "scatter3d",
                  "x": {
                    "bdata": "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",
                    "dtype": "f8"
                  },
                  "y": {
                    "bdata": "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",
                    "dtype": "f8"
                  },
                  "z": {
                    "bdata": "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",
                    "dtype": "f8"
                  }
                }
              ],
              "layout": {
                "coloraxis": {
                  "colorbar": {
                    "title": {
                      "text": "color"
                    }
                  },
                  "colorscale": [
                    [
                      0,
                      "#0d0887"
                    ],
                    [
                      0.1111111111111111,
                      "#46039f"
                    ],
                    [
                      0.2222222222222222,
                      "#7201a8"
                    ],
                    [
                      0.3333333333333333,
                      "#9c179e"
                    ],
                    [
                      0.4444444444444444,
                      "#bd3786"
                    ],
                    [
                      0.5555555555555556,
                      "#d8576b"
                    ],
                    [
                      0.6666666666666666,
                      "#ed7953"
                    ],
                    [
                      0.7777777777777778,
                      "#fb9f3a"
                    ],
                    [
                      0.8888888888888888,
                      "#fdca26"
                    ],
                    [
                      1,
                      "#f0f921"
                    ]
                  ]
                },
                "legend": {
                  "tracegroupgap": 0
                },
                "margin": {
                  "t": 60
                },
                "scene": {
                  "domain": {
                    "x": [
                      0,
                      1
                    ],
                    "y": [
                      0,
                      1
                    ]
                  },
                  "xaxis": {
                    "title": {
                      "text": "0"
                    }
                  },
                  "yaxis": {
                    "title": {
                      "text": "1"
                    }
                  },
                  "zaxis": {
                    "title": {
                      "text": "2"
                    }
                  }
                },
                "template": {
                  "data": {
                    "bar": [
                      {
                        "error_x": {
                          "color": "#2a3f5f"
                        },
                        "error_y": {
                          "color": "#2a3f5f"
                        },
                        "marker": {
                          "line": {
                            "color": "#E5ECF6",
                            "width": 0.5
                          },
                          "pattern": {
                            "fillmode": "overlay",
                            "size": 10,
                            "solidity": 0.2
                          }
                        },
                        "type": "bar"
                      }
                    ],
                    "barpolar": [
                      {
                        "marker": {
                          "line": {
                            "color": "#E5ECF6",
                            "width": 0.5
                          },
                          "pattern": {
                            "fillmode": "overlay",
                            "size": 10,
                            "solidity": 0.2
                          }
                        },
                        "type": "barpolar"
                      }
                    ],
                    "carpet": [
                      {
                        "aaxis": {
                          "endlinecolor": "#2a3f5f",
                          "gridcolor": "white",
                          "linecolor": "white",
                          "minorgridcolor": "white",
                          "startlinecolor": "#2a3f5f"
                        },
                        "baxis": {
                          "endlinecolor": "#2a3f5f",
                          "gridcolor": "white",
                          "linecolor": "white",
                          "minorgridcolor": "white",
                          "startlinecolor": "#2a3f5f"
                        },
                        "type": "carpet"
                      }
                    ],
                    "choropleth": [
                      {
                        "colorbar": {
                          "outlinewidth": 0,
                          "ticks": ""
                        },
                        "type": "choropleth"
                      }
                    ],
                    "contour": [
                      {
                        "colorbar": {
                          "outlinewidth": 0,
                          "ticks": ""
                        },
                        "colorscale": [
                          [
                            0,
                            "#0d0887"
                          ],
                          [
                            0.1111111111111111,
                            "#46039f"
                          ],
                          [
                            0.2222222222222222,
                            "#7201a8"
                          ],
                          [
                            0.3333333333333333,
                            "#9c179e"
                          ],
                          [
                            0.4444444444444444,
                            "#bd3786"
                          ],
                          [
                            0.5555555555555556,
                            "#d8576b"
                          ],
                          [
                            0.6666666666666666,
                            "#ed7953"
                          ],
                          [
                            0.7777777777777778,
                            "#fb9f3a"
                          ],
                          [
                            0.8888888888888888,
                            "#fdca26"
                          ],
                          [
                            1,
                            "#f0f921"
                          ]
                        ],
                        "type": "contour"
                      }
                    ],
                    "contourcarpet": [
                      {
                        "colorbar": {
                          "outlinewidth": 0,
                          "ticks": ""
                        },
                        "type": "contourcarpet"
                      }
                    ],
                    "heatmap": [
                      {
                        "colorbar": {
                          "outlinewidth": 0,
                          "ticks": ""
                        },
                        "colorscale": [
                          [
                            0,
                            "#0d0887"
                          ],
                          [
                            0.1111111111111111,
                            "#46039f"
                          ],
                          [
                            0.2222222222222222,
                            "#7201a8"
                          ],
                          [
                            0.3333333333333333,
                            "#9c179e"
                          ],
                          [
                            0.4444444444444444,
                            "#bd3786"
                          ],
                          [
                            0.5555555555555556,
                            "#d8576b"
                          ],
                          [
                            0.6666666666666666,
                            "#ed7953"
                          ],
                          [
                            0.7777777777777778,
                            "#fb9f3a"
                          ],
                          [
                            0.8888888888888888,
                            "#fdca26"
                          ],
                          [
                            1,
                            "#f0f921"
                          ]
                        ],
                        "type": "heatmap"
                      }
                    ],
                    "histogram": [
                      {
                        "marker": {
                          "pattern": {
                            "fillmode": "overlay",
                            "size": 10,
                            "solidity": 0.2
                          }
                        },
                        "type": "histogram"
                      }
                    ],
                    "histogram2d": [
                      {
                        "colorbar": {
                          "outlinewidth": 0,
                          "ticks": ""
                        },
                        "colorscale": [
                          [
                            0,
                            "#0d0887"
                          ],
                          [
                            0.1111111111111111,
                            "#46039f"
                          ],
                          [
                            0.2222222222222222,
                            "#7201a8"
                          ],
                          [
                            0.3333333333333333,
                            "#9c179e"
                          ],
                          [
                            0.4444444444444444,
                            "#bd3786"
                          ],
                          [
                            0.5555555555555556,
                            "#d8576b"
                          ],
                          [
                            0.6666666666666666,
                            "#ed7953"
                          ],
                          [
                            0.7777777777777778,
                            "#fb9f3a"
                          ],
                          [
                            0.8888888888888888,
                            "#fdca26"
                          ],
                          [
                            1,
                            "#f0f921"
                          ]
                        ],
                        "type": "histogram2d"
                      }
                    ],
                    "histogram2dcontour": [
                      {
                        "colorbar": {
                          "outlinewidth": 0,
                          "ticks": ""
                        },
                        "colorscale": [
                          [
                            0,
                            "#0d0887"
                          ],
                          [
                            0.1111111111111111,
                            "#46039f"
                          ],
                          [
                            0.2222222222222222,
                            "#7201a8"
                          ],
                          [
                            0.3333333333333333,
                            "#9c179e"
                          ],
                          [
                            0.4444444444444444,
                            "#bd3786"
                          ],
                          [
                            0.5555555555555556,
                            "#d8576b"
                          ],
                          [
                            0.6666666666666666,
                            "#ed7953"
                          ],
                          [
                            0.7777777777777778,
                            "#fb9f3a"
                          ],
                          [
                            0.8888888888888888,
                            "#fdca26"
                          ],
                          [
                            1,
                            "#f0f921"
                          ]
                        ],
                        "type": "histogram2dcontour"
                      }
                    ],
                    "mesh3d": [
                      {
                        "colorbar": {
                          "outlinewidth": 0,
                          "ticks": ""
                        },
                        "type": "mesh3d"
                      }
                    ],
                    "parcoords": [
                      {
                        "line": {
                          "colorbar": {
                            "outlinewidth": 0,
                            "ticks": ""
                          }
                        },
                        "type": "parcoords"
                      }
                    ],
                    "pie": [
                      {
                        "automargin": true,
                        "type": "pie"
                      }
                    ],
                    "scatter": [
                      {
                        "fillpattern": {
                          "fillmode": "overlay",
                          "size": 10,
                          "solidity": 0.2
                        },
                        "type": "scatter"
                      }
                    ],
                    "scatter3d": [
                      {
                        "line": {
                          "colorbar": {
                            "outlinewidth": 0,
                            "ticks": ""
                          }
                        },
                        "marker": {
                          "colorbar": {
                            "outlinewidth": 0,
                            "ticks": ""
                          }
                        },
                        "type": "scatter3d"
                      }
                    ],
                    "scattercarpet": [
                      {
                        "marker": {
                          "colorbar": {
                            "outlinewidth": 0,
                            "ticks": ""
                          }
                        },
                        "type": "scattercarpet"
                      }
                    ],
                    "scattergeo": [
                      {
                        "marker": {
                          "colorbar": {
                            "outlinewidth": 0,
                            "ticks": ""
                          }
                        },
                        "type": "scattergeo"
                      }
                    ],
                    "scattergl": [
                      {
                        "marker": {
                          "colorbar": {
                            "outlinewidth": 0,
                            "ticks": ""
                          }
                        },
                        "type": "scattergl"
                      }
                    ],
                    "scattermap": [
                      {
                        "marker": {
                          "colorbar": {
                            "outlinewidth": 0,
                            "ticks": ""
                          }
                        },
                        "type": "scattermap"
                      }
                    ],
                    "scattermapbox": [
                      {
                        "marker": {
                          "colorbar": {
                            "outlinewidth": 0,
                            "ticks": ""
                          }
                        },
                        "type": "scattermapbox"
                      }
                    ],
                    "scatterpolar": [
                      {
                        "marker": {
                          "colorbar": {
                            "outlinewidth": 0,
                            "ticks": ""
                          }
                        },
                        "type": "scatterpolar"
                      }
                    ],
                    "scatterpolargl": [
                      {
                        "marker": {
                          "colorbar": {
                            "outlinewidth": 0,
                            "ticks": ""
                          }
                        },
                        "type": "scatterpolargl"
                      }
                    ],
                    "scatterternary": [
                      {
                        "marker": {
                          "colorbar": {
                            "outlinewidth": 0,
                            "ticks": ""
                          }
                        },
                        "type": "scatterternary"
                      }
                    ],
                    "surface": [
                      {
                        "colorbar": {
                          "outlinewidth": 0,
                          "ticks": ""
                        },
                        "colorscale": [
                          [
                            0,
                            "#0d0887"
                          ],
                          [
                            0.1111111111111111,
                            "#46039f"
                          ],
                          [
                            0.2222222222222222,
                            "#7201a8"
                          ],
                          [
                            0.3333333333333333,
                            "#9c179e"
                          ],
                          [
                            0.4444444444444444,
                            "#bd3786"
                          ],
                          [
                            0.5555555555555556,
                            "#d8576b"
                          ],
                          [
                            0.6666666666666666,
                            "#ed7953"
                          ],
                          [
                            0.7777777777777778,
                            "#fb9f3a"
                          ],
                          [
                            0.8888888888888888,
                            "#fdca26"
                          ],
                          [
                            1,
                            "#f0f921"
                          ]
                        ],
                        "type": "surface"
                      }
                    ],
                    "table": [
                      {
                        "cells": {
                          "fill": {
                            "color": "#EBF0F8"
                          },
                          "line": {
                            "color": "white"
                          }
                        },
                        "header": {
                          "fill": {
                            "color": "#C8D4E3"
                          },
                          "line": {
                            "color": "white"
                          }
                        },
                        "type": "table"
                      }
                    ]
                  },
                  "layout": {
                    "annotationdefaults": {
                      "arrowcolor": "#2a3f5f",
                      "arrowhead": 0,
                      "arrowwidth": 1
                    },
                    "autotypenumbers": "strict",
                    "coloraxis": {
                      "colorbar": {
                        "outlinewidth": 0,
                        "ticks": ""
                      }
                    },
                    "colorscale": {
                      "diverging": [
                        [
                          0,
                          "#8e0152"
                        ],
                        [
                          0.1,
                          "#c51b7d"
                        ],
                        [
                          0.2,
                          "#de77ae"
                        ],
                        [
                          0.3,
                          "#f1b6da"
                        ],
                        [
                          0.4,
                          "#fde0ef"
                        ],
                        [
                          0.5,
                          "#f7f7f7"
                        ],
                        [
                          0.6,
                          "#e6f5d0"
                        ],
                        [
                          0.7,
                          "#b8e186"
                        ],
                        [
                          0.8,
                          "#7fbc41"
                        ],
                        [
                          0.9,
                          "#4d9221"
                        ],
                        [
                          1,
                          "#276419"
                        ]
                      ],
                      "sequential": [
                        [
                          0,
                          "#0d0887"
                        ],
                        [
                          0.1111111111111111,
                          "#46039f"
                        ],
                        [
                          0.2222222222222222,
                          "#7201a8"
                        ],
                        [
                          0.3333333333333333,
                          "#9c179e"
                        ],
                        [
                          0.4444444444444444,
                          "#bd3786"
                        ],
                        [
                          0.5555555555555556,
                          "#d8576b"
                        ],
                        [
                          0.6666666666666666,
                          "#ed7953"
                        ],
                        [
                          0.7777777777777778,
                          "#fb9f3a"
                        ],
                        [
                          0.8888888888888888,
                          "#fdca26"
                        ],
                        [
                          1,
                          "#f0f921"
                        ]
                      ],
                      "sequentialminus": [
                        [
                          0,
                          "#0d0887"
                        ],
                        [
                          0.1111111111111111,
                          "#46039f"
                        ],
                        [
                          0.2222222222222222,
                          "#7201a8"
                        ],
                        [
                          0.3333333333333333,
                          "#9c179e"
                        ],
                        [
                          0.4444444444444444,
                          "#bd3786"
                        ],
                        [
                          0.5555555555555556,
                          "#d8576b"
                        ],
                        [
                          0.6666666666666666,
                          "#ed7953"
                        ],
                        [
                          0.7777777777777778,
                          "#fb9f3a"
                        ],
                        [
                          0.8888888888888888,
                          "#fdca26"
                        ],
                        [
                          1,
                          "#f0f921"
                        ]
                      ]
                    },
                    "colorway": [
                      "#636efa",
                      "#EF553B",
                      "#00cc96",
                      "#ab63fa",
                      "#FFA15A",
                      "#19d3f3",
                      "#FF6692",
                      "#B6E880",
                      "#FF97FF",
                      "#FECB52"
                    ],
                    "font": {
                      "color": "#2a3f5f"
                    },
                    "geo": {
                      "bgcolor": "white",
                      "lakecolor": "white",
                      "landcolor": "#E5ECF6",
                      "showlakes": true,
                      "showland": true,
                      "subunitcolor": "white"
                    },
                    "hoverlabel": {
                      "align": "left"
                    },
                    "hovermode": "closest",
                    "mapbox": {
                      "style": "light"
                    },
                    "paper_bgcolor": "white",
                    "plot_bgcolor": "#E5ECF6",
                    "polar": {
                      "angularaxis": {
                        "gridcolor": "white",
                        "linecolor": "white",
                        "ticks": ""
                      },
                      "bgcolor": "#E5ECF6",
                      "radialaxis": {
                        "gridcolor": "white",
                        "linecolor": "white",
                        "ticks": ""
                      }
                    },
                    "scene": {
                      "xaxis": {
                        "backgroundcolor": "#E5ECF6",
                        "gridcolor": "white",
                        "gridwidth": 2,
                        "linecolor": "white",
                        "showbackground": true,
                        "ticks": "",
                        "zerolinecolor": "white"
                      },
                      "yaxis": {
                        "backgroundcolor": "#E5ECF6",
                        "gridcolor": "white",
                        "gridwidth": 2,
                        "linecolor": "white",
                        "showbackground": true,
                        "ticks": "",
                        "zerolinecolor": "white"
                      },
                      "zaxis": {
                        "backgroundcolor": "#E5ECF6",
                        "gridcolor": "white",
                        "gridwidth": 2,
                        "linecolor": "white",
                        "showbackground": true,
                        "ticks": "",
                        "zerolinecolor": "white"
                      }
                    },
                    "shapedefaults": {
                      "line": {
                        "color": "#2a3f5f"
                      }
                    },
                    "ternary": {
                      "aaxis": {
                        "gridcolor": "white",
                        "linecolor": "white",
                        "ticks": ""
                      },
                      "baxis": {
                        "gridcolor": "white",
                        "linecolor": "white",
                        "ticks": ""
                      },
                      "bgcolor": "#E5ECF6",
                      "caxis": {
                        "gridcolor": "white",
                        "linecolor": "white",
                        "ticks": ""
                      }
                    },
                    "title": {
                      "x": 0.05
                    },
                    "xaxis": {
                      "automargin": true,
                      "gridcolor": "white",
                      "linecolor": "white",
                      "ticks": "",
                      "title": {
                        "standoff": 15
                      },
                      "zerolinecolor": "white",
                      "zerolinewidth": 2
                    },
                    "yaxis": {
                      "automargin": true,
                      "gridcolor": "white",
                      "linecolor": "white",
                      "ticks": "",
                      "title": {
                        "standoff": 15
                      },
                      "zerolinecolor": "white",
                      "zerolinewidth": 2
                    }
                  }
                }
              }
            }
          },
          "metadata": {},
          "output_type": "display_data"
        }
      ],
      "source": [
        "fig = px.scatter_3d(res_df, x=0, y=1, z=2, color=labels.reshape(1500,))\n",
        "fig.show()"
      ]
    },
    {
      "cell_type": "code",
      "execution_count": 19,
      "metadata": {
        "colab": {
          "base_uri": "https://localhost:8080/",
          "height": 542
        },
        "id": "8RrtMdMJs0_A",
        "outputId": "49538475-2073-49c9-b110-38d8d8db58b7"
      },
      "outputs": [
        {
          "data": {
            "application/vnd.plotly.v1+json": {
              "config": {
                "plotlyServerURL": "https://plot.ly"
              },
              "data": [
                {
                  "hovertemplate": "0=%{x}<br>1=%{y}<br>2=%{z}<br>color=%{marker.color}<extra></extra>",
                  "legendgroup": "",
                  "marker": {
                    "color": {
                      "bdata": "AAAAAAAAAAAAAAAAAAAAAAAAAAAAAAAAAAAAAAAAAAAAAAAAAAAAAAAAAAAAAAAAAAAAAAAAAAAAAAAAAAAAAAAAAAAAAAAAAAAAAAAAAAAAAAAAAAAAAAAAAAAAAAAAAAAAAAAAAAAAAAAAAAAAAAAAAAAAAAAAAAAAAAAAAAAAAAAAAAAAAAAAAAAAAAAAAAAAAAAAAAAAAAAAAAAAAAAAAAAAAAAAAAAAAAAAAAAAAAAAAAAAAAAAAAAAAAAAAAAAAAAAAAAAAAAAAAAAAAAAAAAAAAAAAAAAAAAAAAAAAAAAAAAAAAAAAAAAAAAAAAAAAAAAAAAAAAAAAAAAAAAAAAAAAAAAAAAAAAAAAAAAAAAAAAAAAAAAAAAAAAAAAAAAAAAAAAAAAAAAAQEBAQEBAQEBAQEBAQEBAQEBAQEBAQEBAQEBAQEBAQEBAQEBAQEBAQEBAQEBAQEBAQEBAQEBAQEBAQEBAQEBAQEBAQEBAQEBAQEBAQEBAQEBAQEBAQEBAQEBAQEBAQEBAQEBAQEBAQEBAQEBAQEBAQEBAQEBAQEBAQEBAQEBAQEBAQEBAQEBAQEBAQEBAQEBAQEBAQEBAQEBAQEBAQEBAQEBAQEBAQEBAQEBAQEBAQEBAQEBAQEBAQEBAQEBAQEBAQEBAQEBAQEBAQEBAQEBAQEBAQEBAQEBAQEBAQEBAQEBAQEBAQEBAQEBAQEBAQEBAQEBAQEBAQEBAQEBAQEBAQEBAQEBAQEBAQEBAQEBAQEBAQEBAQEBAQEBAQEBAQEBAQEBAQEBAQEBAQEBAgICAgICAgICAgICAgICAgICAgICAgICAgICAgICAgICAgICAgICAgICAgICAgICAgICAgICAgICAgICAgICAgICAgICAgICAgICAgICAgICAgICAgICAgICAgICAgICAgICAgICAgICAgICAgICAgICAgICAgICAgICAgICAgICAgICAgICAgICAgICAgICAgICAgICAgICAgICAgICAgICAgICAgICAgICAgICAgICAgICAgICAgICAgICAgICAgICAgICAgICAgICAgICAgICAgICAgICAgICAgICAgICAgICAgICAgICAgICAgICAgICAgICAgICAgICAgICAgICAgICAgICAgICAgICAgICAgICAgICAgICAgICAgICAgICAgICAgICAgICAwMDAwMDAwMDAwMDAwMDAwMDAwMDAwMDAwMDAwMDAwMDAwMDAwMDAwMDAwMDAwMDAwMDAwMDAwMDAwMDAwMDAwMDAwMDAwMDAwMDAwMDAwMDAwMDAwMDAwMDAwMDAwMDAwMDAwMDAwMDAwMDAwMDAwMDAwMDAwMDAwMDAwMDAwMDAwMDAwMDAwMDAwMDAwMDAwMDAwMDAwMDAwMDAwMDAwMDAwMDAwMDAwMDAwMDAwMDAwMDAwMDAwMDAwMDAwMDAwMDAwMDAwMDAwMDAwMDAwMDAwMDAwMDAwMDAwMDAwMDAwMDAwMDAwMDAwMDAwMDAwMDAwMDAwMDAwMDAwMDAwMDAwMDAwMDAwMDAwMDAwMDAwMDAwMDAwMDAwMDAwMDAwMDAwMDAwMDAwMDBAQEBAQEBAQEBAQEBAQEBAQEBAQEBAQEBAQEBAQEBAQEBAQEBAQEBAQEBAQEBAQEBAQEBAQEBAQEBAQEBAQEBAQEBAQEBAQEBAQEBAQEBAQEBAQEBAQEBAQEBAQEBAQEBAQEBAQEBAQEBAQEBAQEBAQEBAQEBAQEBAQEBAQEBAQEBAQEBAQEBAQEBAQEBAQEBAQEBAQEBAQEBAQEBAQEBAQEBAQEBAQEBAQEBAQEBAQEBAQEBAQEBAQEBAQEBAQEBAQEBAQEBAQEBAQEBAQEBAQEBAQEBAQEBAQEBAQEBAQEBAQEBAQEBAQEBAQEBAQEBAQEBAQEBAQEBAQEBAQEBAQEBAQEBAQEBAQEBAQEBAQEBAQEBAQEBAQEBAQEBAQEBAQEBAQEBAQEBAQE",
                      "dtype": "i1"
                    },
                    "coloraxis": "coloraxis",
                    "symbol": "circle"
                  },
                  "mode": "markers",
                  "name": "",
                  "scene": "scene",
                  "showlegend": false,
                  "type": "scatter3d",
                  "x": {
                    "bdata": "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",
                    "dtype": "f8"
                  },
                  "y": {
                    "bdata": "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",
                    "dtype": "f8"
                  },
                  "z": {
                    "bdata": "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",
                    "dtype": "f8"
                  }
                }
              ],
              "layout": {
                "coloraxis": {
                  "colorbar": {
                    "title": {
                      "text": "color"
                    }
                  },
                  "colorscale": [
                    [
                      0,
                      "#0d0887"
                    ],
                    [
                      0.1111111111111111,
                      "#46039f"
                    ],
                    [
                      0.2222222222222222,
                      "#7201a8"
                    ],
                    [
                      0.3333333333333333,
                      "#9c179e"
                    ],
                    [
                      0.4444444444444444,
                      "#bd3786"
                    ],
                    [
                      0.5555555555555556,
                      "#d8576b"
                    ],
                    [
                      0.6666666666666666,
                      "#ed7953"
                    ],
                    [
                      0.7777777777777778,
                      "#fb9f3a"
                    ],
                    [
                      0.8888888888888888,
                      "#fdca26"
                    ],
                    [
                      1,
                      "#f0f921"
                    ]
                  ]
                },
                "legend": {
                  "tracegroupgap": 0
                },
                "margin": {
                  "t": 60
                },
                "scene": {
                  "domain": {
                    "x": [
                      0,
                      1
                    ],
                    "y": [
                      0,
                      1
                    ]
                  },
                  "xaxis": {
                    "title": {
                      "text": "0"
                    }
                  },
                  "yaxis": {
                    "title": {
                      "text": "1"
                    }
                  },
                  "zaxis": {
                    "title": {
                      "text": "2"
                    }
                  }
                },
                "template": {
                  "data": {
                    "bar": [
                      {
                        "error_x": {
                          "color": "#2a3f5f"
                        },
                        "error_y": {
                          "color": "#2a3f5f"
                        },
                        "marker": {
                          "line": {
                            "color": "#E5ECF6",
                            "width": 0.5
                          },
                          "pattern": {
                            "fillmode": "overlay",
                            "size": 10,
                            "solidity": 0.2
                          }
                        },
                        "type": "bar"
                      }
                    ],
                    "barpolar": [
                      {
                        "marker": {
                          "line": {
                            "color": "#E5ECF6",
                            "width": 0.5
                          },
                          "pattern": {
                            "fillmode": "overlay",
                            "size": 10,
                            "solidity": 0.2
                          }
                        },
                        "type": "barpolar"
                      }
                    ],
                    "carpet": [
                      {
                        "aaxis": {
                          "endlinecolor": "#2a3f5f",
                          "gridcolor": "white",
                          "linecolor": "white",
                          "minorgridcolor": "white",
                          "startlinecolor": "#2a3f5f"
                        },
                        "baxis": {
                          "endlinecolor": "#2a3f5f",
                          "gridcolor": "white",
                          "linecolor": "white",
                          "minorgridcolor": "white",
                          "startlinecolor": "#2a3f5f"
                        },
                        "type": "carpet"
                      }
                    ],
                    "choropleth": [
                      {
                        "colorbar": {
                          "outlinewidth": 0,
                          "ticks": ""
                        },
                        "type": "choropleth"
                      }
                    ],
                    "contour": [
                      {
                        "colorbar": {
                          "outlinewidth": 0,
                          "ticks": ""
                        },
                        "colorscale": [
                          [
                            0,
                            "#0d0887"
                          ],
                          [
                            0.1111111111111111,
                            "#46039f"
                          ],
                          [
                            0.2222222222222222,
                            "#7201a8"
                          ],
                          [
                            0.3333333333333333,
                            "#9c179e"
                          ],
                          [
                            0.4444444444444444,
                            "#bd3786"
                          ],
                          [
                            0.5555555555555556,
                            "#d8576b"
                          ],
                          [
                            0.6666666666666666,
                            "#ed7953"
                          ],
                          [
                            0.7777777777777778,
                            "#fb9f3a"
                          ],
                          [
                            0.8888888888888888,
                            "#fdca26"
                          ],
                          [
                            1,
                            "#f0f921"
                          ]
                        ],
                        "type": "contour"
                      }
                    ],
                    "contourcarpet": [
                      {
                        "colorbar": {
                          "outlinewidth": 0,
                          "ticks": ""
                        },
                        "type": "contourcarpet"
                      }
                    ],
                    "heatmap": [
                      {
                        "colorbar": {
                          "outlinewidth": 0,
                          "ticks": ""
                        },
                        "colorscale": [
                          [
                            0,
                            "#0d0887"
                          ],
                          [
                            0.1111111111111111,
                            "#46039f"
                          ],
                          [
                            0.2222222222222222,
                            "#7201a8"
                          ],
                          [
                            0.3333333333333333,
                            "#9c179e"
                          ],
                          [
                            0.4444444444444444,
                            "#bd3786"
                          ],
                          [
                            0.5555555555555556,
                            "#d8576b"
                          ],
                          [
                            0.6666666666666666,
                            "#ed7953"
                          ],
                          [
                            0.7777777777777778,
                            "#fb9f3a"
                          ],
                          [
                            0.8888888888888888,
                            "#fdca26"
                          ],
                          [
                            1,
                            "#f0f921"
                          ]
                        ],
                        "type": "heatmap"
                      }
                    ],
                    "histogram": [
                      {
                        "marker": {
                          "pattern": {
                            "fillmode": "overlay",
                            "size": 10,
                            "solidity": 0.2
                          }
                        },
                        "type": "histogram"
                      }
                    ],
                    "histogram2d": [
                      {
                        "colorbar": {
                          "outlinewidth": 0,
                          "ticks": ""
                        },
                        "colorscale": [
                          [
                            0,
                            "#0d0887"
                          ],
                          [
                            0.1111111111111111,
                            "#46039f"
                          ],
                          [
                            0.2222222222222222,
                            "#7201a8"
                          ],
                          [
                            0.3333333333333333,
                            "#9c179e"
                          ],
                          [
                            0.4444444444444444,
                            "#bd3786"
                          ],
                          [
                            0.5555555555555556,
                            "#d8576b"
                          ],
                          [
                            0.6666666666666666,
                            "#ed7953"
                          ],
                          [
                            0.7777777777777778,
                            "#fb9f3a"
                          ],
                          [
                            0.8888888888888888,
                            "#fdca26"
                          ],
                          [
                            1,
                            "#f0f921"
                          ]
                        ],
                        "type": "histogram2d"
                      }
                    ],
                    "histogram2dcontour": [
                      {
                        "colorbar": {
                          "outlinewidth": 0,
                          "ticks": ""
                        },
                        "colorscale": [
                          [
                            0,
                            "#0d0887"
                          ],
                          [
                            0.1111111111111111,
                            "#46039f"
                          ],
                          [
                            0.2222222222222222,
                            "#7201a8"
                          ],
                          [
                            0.3333333333333333,
                            "#9c179e"
                          ],
                          [
                            0.4444444444444444,
                            "#bd3786"
                          ],
                          [
                            0.5555555555555556,
                            "#d8576b"
                          ],
                          [
                            0.6666666666666666,
                            "#ed7953"
                          ],
                          [
                            0.7777777777777778,
                            "#fb9f3a"
                          ],
                          [
                            0.8888888888888888,
                            "#fdca26"
                          ],
                          [
                            1,
                            "#f0f921"
                          ]
                        ],
                        "type": "histogram2dcontour"
                      }
                    ],
                    "mesh3d": [
                      {
                        "colorbar": {
                          "outlinewidth": 0,
                          "ticks": ""
                        },
                        "type": "mesh3d"
                      }
                    ],
                    "parcoords": [
                      {
                        "line": {
                          "colorbar": {
                            "outlinewidth": 0,
                            "ticks": ""
                          }
                        },
                        "type": "parcoords"
                      }
                    ],
                    "pie": [
                      {
                        "automargin": true,
                        "type": "pie"
                      }
                    ],
                    "scatter": [
                      {
                        "fillpattern": {
                          "fillmode": "overlay",
                          "size": 10,
                          "solidity": 0.2
                        },
                        "type": "scatter"
                      }
                    ],
                    "scatter3d": [
                      {
                        "line": {
                          "colorbar": {
                            "outlinewidth": 0,
                            "ticks": ""
                          }
                        },
                        "marker": {
                          "colorbar": {
                            "outlinewidth": 0,
                            "ticks": ""
                          }
                        },
                        "type": "scatter3d"
                      }
                    ],
                    "scattercarpet": [
                      {
                        "marker": {
                          "colorbar": {
                            "outlinewidth": 0,
                            "ticks": ""
                          }
                        },
                        "type": "scattercarpet"
                      }
                    ],
                    "scattergeo": [
                      {
                        "marker": {
                          "colorbar": {
                            "outlinewidth": 0,
                            "ticks": ""
                          }
                        },
                        "type": "scattergeo"
                      }
                    ],
                    "scattergl": [
                      {
                        "marker": {
                          "colorbar": {
                            "outlinewidth": 0,
                            "ticks": ""
                          }
                        },
                        "type": "scattergl"
                      }
                    ],
                    "scattermap": [
                      {
                        "marker": {
                          "colorbar": {
                            "outlinewidth": 0,
                            "ticks": ""
                          }
                        },
                        "type": "scattermap"
                      }
                    ],
                    "scattermapbox": [
                      {
                        "marker": {
                          "colorbar": {
                            "outlinewidth": 0,
                            "ticks": ""
                          }
                        },
                        "type": "scattermapbox"
                      }
                    ],
                    "scatterpolar": [
                      {
                        "marker": {
                          "colorbar": {
                            "outlinewidth": 0,
                            "ticks": ""
                          }
                        },
                        "type": "scatterpolar"
                      }
                    ],
                    "scatterpolargl": [
                      {
                        "marker": {
                          "colorbar": {
                            "outlinewidth": 0,
                            "ticks": ""
                          }
                        },
                        "type": "scatterpolargl"
                      }
                    ],
                    "scatterternary": [
                      {
                        "marker": {
                          "colorbar": {
                            "outlinewidth": 0,
                            "ticks": ""
                          }
                        },
                        "type": "scatterternary"
                      }
                    ],
                    "surface": [
                      {
                        "colorbar": {
                          "outlinewidth": 0,
                          "ticks": ""
                        },
                        "colorscale": [
                          [
                            0,
                            "#0d0887"
                          ],
                          [
                            0.1111111111111111,
                            "#46039f"
                          ],
                          [
                            0.2222222222222222,
                            "#7201a8"
                          ],
                          [
                            0.3333333333333333,
                            "#9c179e"
                          ],
                          [
                            0.4444444444444444,
                            "#bd3786"
                          ],
                          [
                            0.5555555555555556,
                            "#d8576b"
                          ],
                          [
                            0.6666666666666666,
                            "#ed7953"
                          ],
                          [
                            0.7777777777777778,
                            "#fb9f3a"
                          ],
                          [
                            0.8888888888888888,
                            "#fdca26"
                          ],
                          [
                            1,
                            "#f0f921"
                          ]
                        ],
                        "type": "surface"
                      }
                    ],
                    "table": [
                      {
                        "cells": {
                          "fill": {
                            "color": "#EBF0F8"
                          },
                          "line": {
                            "color": "white"
                          }
                        },
                        "header": {
                          "fill": {
                            "color": "#C8D4E3"
                          },
                          "line": {
                            "color": "white"
                          }
                        },
                        "type": "table"
                      }
                    ]
                  },
                  "layout": {
                    "annotationdefaults": {
                      "arrowcolor": "#2a3f5f",
                      "arrowhead": 0,
                      "arrowwidth": 1
                    },
                    "autotypenumbers": "strict",
                    "coloraxis": {
                      "colorbar": {
                        "outlinewidth": 0,
                        "ticks": ""
                      }
                    },
                    "colorscale": {
                      "diverging": [
                        [
                          0,
                          "#8e0152"
                        ],
                        [
                          0.1,
                          "#c51b7d"
                        ],
                        [
                          0.2,
                          "#de77ae"
                        ],
                        [
                          0.3,
                          "#f1b6da"
                        ],
                        [
                          0.4,
                          "#fde0ef"
                        ],
                        [
                          0.5,
                          "#f7f7f7"
                        ],
                        [
                          0.6,
                          "#e6f5d0"
                        ],
                        [
                          0.7,
                          "#b8e186"
                        ],
                        [
                          0.8,
                          "#7fbc41"
                        ],
                        [
                          0.9,
                          "#4d9221"
                        ],
                        [
                          1,
                          "#276419"
                        ]
                      ],
                      "sequential": [
                        [
                          0,
                          "#0d0887"
                        ],
                        [
                          0.1111111111111111,
                          "#46039f"
                        ],
                        [
                          0.2222222222222222,
                          "#7201a8"
                        ],
                        [
                          0.3333333333333333,
                          "#9c179e"
                        ],
                        [
                          0.4444444444444444,
                          "#bd3786"
                        ],
                        [
                          0.5555555555555556,
                          "#d8576b"
                        ],
                        [
                          0.6666666666666666,
                          "#ed7953"
                        ],
                        [
                          0.7777777777777778,
                          "#fb9f3a"
                        ],
                        [
                          0.8888888888888888,
                          "#fdca26"
                        ],
                        [
                          1,
                          "#f0f921"
                        ]
                      ],
                      "sequentialminus": [
                        [
                          0,
                          "#0d0887"
                        ],
                        [
                          0.1111111111111111,
                          "#46039f"
                        ],
                        [
                          0.2222222222222222,
                          "#7201a8"
                        ],
                        [
                          0.3333333333333333,
                          "#9c179e"
                        ],
                        [
                          0.4444444444444444,
                          "#bd3786"
                        ],
                        [
                          0.5555555555555556,
                          "#d8576b"
                        ],
                        [
                          0.6666666666666666,
                          "#ed7953"
                        ],
                        [
                          0.7777777777777778,
                          "#fb9f3a"
                        ],
                        [
                          0.8888888888888888,
                          "#fdca26"
                        ],
                        [
                          1,
                          "#f0f921"
                        ]
                      ]
                    },
                    "colorway": [
                      "#636efa",
                      "#EF553B",
                      "#00cc96",
                      "#ab63fa",
                      "#FFA15A",
                      "#19d3f3",
                      "#FF6692",
                      "#B6E880",
                      "#FF97FF",
                      "#FECB52"
                    ],
                    "font": {
                      "color": "#2a3f5f"
                    },
                    "geo": {
                      "bgcolor": "white",
                      "lakecolor": "white",
                      "landcolor": "#E5ECF6",
                      "showlakes": true,
                      "showland": true,
                      "subunitcolor": "white"
                    },
                    "hoverlabel": {
                      "align": "left"
                    },
                    "hovermode": "closest",
                    "mapbox": {
                      "style": "light"
                    },
                    "paper_bgcolor": "white",
                    "plot_bgcolor": "#E5ECF6",
                    "polar": {
                      "angularaxis": {
                        "gridcolor": "white",
                        "linecolor": "white",
                        "ticks": ""
                      },
                      "bgcolor": "#E5ECF6",
                      "radialaxis": {
                        "gridcolor": "white",
                        "linecolor": "white",
                        "ticks": ""
                      }
                    },
                    "scene": {
                      "xaxis": {
                        "backgroundcolor": "#E5ECF6",
                        "gridcolor": "white",
                        "gridwidth": 2,
                        "linecolor": "white",
                        "showbackground": true,
                        "ticks": "",
                        "zerolinecolor": "white"
                      },
                      "yaxis": {
                        "backgroundcolor": "#E5ECF6",
                        "gridcolor": "white",
                        "gridwidth": 2,
                        "linecolor": "white",
                        "showbackground": true,
                        "ticks": "",
                        "zerolinecolor": "white"
                      },
                      "zaxis": {
                        "backgroundcolor": "#E5ECF6",
                        "gridcolor": "white",
                        "gridwidth": 2,
                        "linecolor": "white",
                        "showbackground": true,
                        "ticks": "",
                        "zerolinecolor": "white"
                      }
                    },
                    "shapedefaults": {
                      "line": {
                        "color": "#2a3f5f"
                      }
                    },
                    "ternary": {
                      "aaxis": {
                        "gridcolor": "white",
                        "linecolor": "white",
                        "ticks": ""
                      },
                      "baxis": {
                        "gridcolor": "white",
                        "linecolor": "white",
                        "ticks": ""
                      },
                      "bgcolor": "#E5ECF6",
                      "caxis": {
                        "gridcolor": "white",
                        "linecolor": "white",
                        "ticks": ""
                      }
                    },
                    "title": {
                      "x": 0.05
                    },
                    "xaxis": {
                      "automargin": true,
                      "gridcolor": "white",
                      "linecolor": "white",
                      "ticks": "",
                      "title": {
                        "standoff": 15
                      },
                      "zerolinecolor": "white",
                      "zerolinewidth": 2
                    },
                    "yaxis": {
                      "automargin": true,
                      "gridcolor": "white",
                      "linecolor": "white",
                      "ticks": "",
                      "title": {
                        "standoff": 15
                      },
                      "zerolinecolor": "white",
                      "zerolinewidth": 2
                    }
                  }
                }
              }
            }
          },
          "metadata": {},
          "output_type": "display_data"
        }
      ],
      "source": [
        "fig = px.scatter_3d(observations, x=0, y=1, z=2, color=labels.reshape(1500,))\n",
        "fig.show()"
      ]
    },
    {
      "cell_type": "code",
      "execution_count": 20,
      "metadata": {
        "id": "hlESEu5YToci"
      },
      "outputs": [],
      "source": [
        "X_train, X_test, y_train, y_test = train_test_split(observations, labels.reshape(1500,), test_size=0.2, random_state=42)"
      ]
    },
    {
      "cell_type": "markdown",
      "metadata": {
        "id": "FLz3yZJO2N7l"
      },
      "source": [
        "**Осуществим кластеризацию методом k-средних**"
      ]
    },
    {
      "cell_type": "code",
      "execution_count": 21,
      "metadata": {
        "colab": {
          "base_uri": "https://localhost:8080/"
        },
        "id": "x-KivM5aNHv9",
        "outputId": "197d386a-8675-4047-9995-b6f47afd444e"
      },
      "outputs": [],
      "source": [
        "kmeans = KMeans(n_clusters=5, random_state=0).fit(X_train)"
      ]
    },
    {
      "cell_type": "code",
      "execution_count": 22,
      "metadata": {
        "colab": {
          "base_uri": "https://localhost:8080/"
        },
        "id": "B_3qT0p0NHv9",
        "outputId": "5317ff3b-01ff-4d3d-dda5-bd2462d09392"
      },
      "outputs": [
        {
          "name": "stdout",
          "output_type": "stream",
          "text": [
            "          0         1         2\n",
            "0  0.703033  0.696496  0.690664\n",
            "1  0.314143  0.301872  0.312930\n",
            "2  0.116683  0.104262  0.116488\n",
            "3  0.507538  0.495219  0.500536\n",
            "4  0.899551  0.897797  0.879237\n"
          ]
        }
      ],
      "source": [
        "df_cluster_centers=pd.DataFrame(kmeans.cluster_centers_)\n",
        "print(df_cluster_centers)"
      ]
    },
    {
      "cell_type": "code",
      "execution_count": 23,
      "metadata": {
        "colab": {
          "base_uri": "https://localhost:8080/"
        },
        "id": "i0QmJpb8S_nG",
        "outputId": "8f4ecc44-1c6e-43dc-9ce6-e4208e63e111"
      },
      "outputs": [
        {
          "name": "stdout",
          "output_type": "stream",
          "text": [
            "[[  0   0 244   0   0]\n",
            " [  0 235   0   0   0]\n",
            " [  0   0   0 251   0]\n",
            " [234   0   0   0   0]\n",
            " [  0   0   0   0 236]]\n"
          ]
        }
      ],
      "source": [
        "from sklearn.metrics import confusion_matrix\n",
        "\n",
        "print(confusion_matrix(y_train, kmeans.labels_))"
      ]
    },
    {
      "cell_type": "code",
      "execution_count": 24,
      "metadata": {
        "id": "464krwXu_ErW"
      },
      "outputs": [
        {
          "name": "stdout",
          "output_type": "stream",
          "text": [
            "[[ 0  0 56  0  0]\n",
            " [ 0 65  0  0  0]\n",
            " [ 0  0  0 49  0]\n",
            " [66  0  0  0  0]\n",
            " [ 0  0  0  0 64]]\n"
          ]
        }
      ],
      "source": [
        "print(confusion_matrix(y_test, kmeans.predict(X_test)))"
      ]
    },
    {
      "cell_type": "code",
      "execution_count": 25,
      "metadata": {
        "id": "4aISFVKO_GDZ"
      },
      "outputs": [
        {
          "name": "stdout",
          "output_type": "stream",
          "text": [
            "%pylab is deprecated, use %matplotlib inline and import the required libraries.\n",
            "Populating the interactive namespace from numpy and matplotlib\n"
          ]
        }
      ],
      "source": [
        "import matplotlib.pyplot as plt\n",
        "%pylab inline"
      ]
    },
    {
      "cell_type": "code",
      "execution_count": 26,
      "metadata": {
        "id": "GPsYrO5X_WLb"
      },
      "outputs": [
        {
          "data": {
            "application/vnd.plotly.v1+json": {
              "config": {
                "plotlyServerURL": "https://plot.ly"
              },
              "data": [
                {
                  "marker": {
                    "color": {
                      "bdata": "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",
                      "dtype": "i4"
                    },
                    "size": 2
                  },
                  "mode": "markers",
                  "type": "scatter3d",
                  "x": {
                    "bdata": "lpaWlpaW1j98FK5H4XrUP2IndmIndtI/",
                    "dtype": "f8"
                  },
                  "y": {
                    "bdata": "lpaWlpaW1j80MzMzMzPTP7ITO7ETO9E/",
                    "dtype": "f8"
                  },
                  "z": {
                    "bdata": "3dzc3Nzc7D9wPQrXo3DtP3diJ3ZiJ+4/",
                    "dtype": "f8"
                  }
                },
                {
                  "marker": {
                    "color": "red",
                    "size": 4
                  },
                  "mode": "markers",
                  "type": "scatter3d",
                  "x": {
                    "bdata": "IZXUyz9/5j8CEHLk6RrUP1iTl4Lr3r0/omosU8E94D+kXH/nH8nsPw==",
                    "dtype": "f8"
                  },
                  "y": {
                    "bdata": "AkvjZ7FJ5j/1dGxd4FHTP0Q8lQvvsLo/BvfzjKux3z9yZ+T0v7rsPw==",
                    "dtype": "f8"
                  },
                  "z": {
                    "bdata": "KP9Ud+sZ5j/DH8v4CQfUP1y3CK0o0r0/e1ebvGQE4D9O6r48tiLsPw==",
                    "dtype": "f8"
                  }
                }
              ],
              "layout": {
                "template": {
                  "data": {
                    "bar": [
                      {
                        "error_x": {
                          "color": "#2a3f5f"
                        },
                        "error_y": {
                          "color": "#2a3f5f"
                        },
                        "marker": {
                          "line": {
                            "color": "#E5ECF6",
                            "width": 0.5
                          },
                          "pattern": {
                            "fillmode": "overlay",
                            "size": 10,
                            "solidity": 0.2
                          }
                        },
                        "type": "bar"
                      }
                    ],
                    "barpolar": [
                      {
                        "marker": {
                          "line": {
                            "color": "#E5ECF6",
                            "width": 0.5
                          },
                          "pattern": {
                            "fillmode": "overlay",
                            "size": 10,
                            "solidity": 0.2
                          }
                        },
                        "type": "barpolar"
                      }
                    ],
                    "carpet": [
                      {
                        "aaxis": {
                          "endlinecolor": "#2a3f5f",
                          "gridcolor": "white",
                          "linecolor": "white",
                          "minorgridcolor": "white",
                          "startlinecolor": "#2a3f5f"
                        },
                        "baxis": {
                          "endlinecolor": "#2a3f5f",
                          "gridcolor": "white",
                          "linecolor": "white",
                          "minorgridcolor": "white",
                          "startlinecolor": "#2a3f5f"
                        },
                        "type": "carpet"
                      }
                    ],
                    "choropleth": [
                      {
                        "colorbar": {
                          "outlinewidth": 0,
                          "ticks": ""
                        },
                        "type": "choropleth"
                      }
                    ],
                    "contour": [
                      {
                        "colorbar": {
                          "outlinewidth": 0,
                          "ticks": ""
                        },
                        "colorscale": [
                          [
                            0,
                            "#0d0887"
                          ],
                          [
                            0.1111111111111111,
                            "#46039f"
                          ],
                          [
                            0.2222222222222222,
                            "#7201a8"
                          ],
                          [
                            0.3333333333333333,
                            "#9c179e"
                          ],
                          [
                            0.4444444444444444,
                            "#bd3786"
                          ],
                          [
                            0.5555555555555556,
                            "#d8576b"
                          ],
                          [
                            0.6666666666666666,
                            "#ed7953"
                          ],
                          [
                            0.7777777777777778,
                            "#fb9f3a"
                          ],
                          [
                            0.8888888888888888,
                            "#fdca26"
                          ],
                          [
                            1,
                            "#f0f921"
                          ]
                        ],
                        "type": "contour"
                      }
                    ],
                    "contourcarpet": [
                      {
                        "colorbar": {
                          "outlinewidth": 0,
                          "ticks": ""
                        },
                        "type": "contourcarpet"
                      }
                    ],
                    "heatmap": [
                      {
                        "colorbar": {
                          "outlinewidth": 0,
                          "ticks": ""
                        },
                        "colorscale": [
                          [
                            0,
                            "#0d0887"
                          ],
                          [
                            0.1111111111111111,
                            "#46039f"
                          ],
                          [
                            0.2222222222222222,
                            "#7201a8"
                          ],
                          [
                            0.3333333333333333,
                            "#9c179e"
                          ],
                          [
                            0.4444444444444444,
                            "#bd3786"
                          ],
                          [
                            0.5555555555555556,
                            "#d8576b"
                          ],
                          [
                            0.6666666666666666,
                            "#ed7953"
                          ],
                          [
                            0.7777777777777778,
                            "#fb9f3a"
                          ],
                          [
                            0.8888888888888888,
                            "#fdca26"
                          ],
                          [
                            1,
                            "#f0f921"
                          ]
                        ],
                        "type": "heatmap"
                      }
                    ],
                    "histogram": [
                      {
                        "marker": {
                          "pattern": {
                            "fillmode": "overlay",
                            "size": 10,
                            "solidity": 0.2
                          }
                        },
                        "type": "histogram"
                      }
                    ],
                    "histogram2d": [
                      {
                        "colorbar": {
                          "outlinewidth": 0,
                          "ticks": ""
                        },
                        "colorscale": [
                          [
                            0,
                            "#0d0887"
                          ],
                          [
                            0.1111111111111111,
                            "#46039f"
                          ],
                          [
                            0.2222222222222222,
                            "#7201a8"
                          ],
                          [
                            0.3333333333333333,
                            "#9c179e"
                          ],
                          [
                            0.4444444444444444,
                            "#bd3786"
                          ],
                          [
                            0.5555555555555556,
                            "#d8576b"
                          ],
                          [
                            0.6666666666666666,
                            "#ed7953"
                          ],
                          [
                            0.7777777777777778,
                            "#fb9f3a"
                          ],
                          [
                            0.8888888888888888,
                            "#fdca26"
                          ],
                          [
                            1,
                            "#f0f921"
                          ]
                        ],
                        "type": "histogram2d"
                      }
                    ],
                    "histogram2dcontour": [
                      {
                        "colorbar": {
                          "outlinewidth": 0,
                          "ticks": ""
                        },
                        "colorscale": [
                          [
                            0,
                            "#0d0887"
                          ],
                          [
                            0.1111111111111111,
                            "#46039f"
                          ],
                          [
                            0.2222222222222222,
                            "#7201a8"
                          ],
                          [
                            0.3333333333333333,
                            "#9c179e"
                          ],
                          [
                            0.4444444444444444,
                            "#bd3786"
                          ],
                          [
                            0.5555555555555556,
                            "#d8576b"
                          ],
                          [
                            0.6666666666666666,
                            "#ed7953"
                          ],
                          [
                            0.7777777777777778,
                            "#fb9f3a"
                          ],
                          [
                            0.8888888888888888,
                            "#fdca26"
                          ],
                          [
                            1,
                            "#f0f921"
                          ]
                        ],
                        "type": "histogram2dcontour"
                      }
                    ],
                    "mesh3d": [
                      {
                        "colorbar": {
                          "outlinewidth": 0,
                          "ticks": ""
                        },
                        "type": "mesh3d"
                      }
                    ],
                    "parcoords": [
                      {
                        "line": {
                          "colorbar": {
                            "outlinewidth": 0,
                            "ticks": ""
                          }
                        },
                        "type": "parcoords"
                      }
                    ],
                    "pie": [
                      {
                        "automargin": true,
                        "type": "pie"
                      }
                    ],
                    "scatter": [
                      {
                        "fillpattern": {
                          "fillmode": "overlay",
                          "size": 10,
                          "solidity": 0.2
                        },
                        "type": "scatter"
                      }
                    ],
                    "scatter3d": [
                      {
                        "line": {
                          "colorbar": {
                            "outlinewidth": 0,
                            "ticks": ""
                          }
                        },
                        "marker": {
                          "colorbar": {
                            "outlinewidth": 0,
                            "ticks": ""
                          }
                        },
                        "type": "scatter3d"
                      }
                    ],
                    "scattercarpet": [
                      {
                        "marker": {
                          "colorbar": {
                            "outlinewidth": 0,
                            "ticks": ""
                          }
                        },
                        "type": "scattercarpet"
                      }
                    ],
                    "scattergeo": [
                      {
                        "marker": {
                          "colorbar": {
                            "outlinewidth": 0,
                            "ticks": ""
                          }
                        },
                        "type": "scattergeo"
                      }
                    ],
                    "scattergl": [
                      {
                        "marker": {
                          "colorbar": {
                            "outlinewidth": 0,
                            "ticks": ""
                          }
                        },
                        "type": "scattergl"
                      }
                    ],
                    "scattermap": [
                      {
                        "marker": {
                          "colorbar": {
                            "outlinewidth": 0,
                            "ticks": ""
                          }
                        },
                        "type": "scattermap"
                      }
                    ],
                    "scattermapbox": [
                      {
                        "marker": {
                          "colorbar": {
                            "outlinewidth": 0,
                            "ticks": ""
                          }
                        },
                        "type": "scattermapbox"
                      }
                    ],
                    "scatterpolar": [
                      {
                        "marker": {
                          "colorbar": {
                            "outlinewidth": 0,
                            "ticks": ""
                          }
                        },
                        "type": "scatterpolar"
                      }
                    ],
                    "scatterpolargl": [
                      {
                        "marker": {
                          "colorbar": {
                            "outlinewidth": 0,
                            "ticks": ""
                          }
                        },
                        "type": "scatterpolargl"
                      }
                    ],
                    "scatterternary": [
                      {
                        "marker": {
                          "colorbar": {
                            "outlinewidth": 0,
                            "ticks": ""
                          }
                        },
                        "type": "scatterternary"
                      }
                    ],
                    "surface": [
                      {
                        "colorbar": {
                          "outlinewidth": 0,
                          "ticks": ""
                        },
                        "colorscale": [
                          [
                            0,
                            "#0d0887"
                          ],
                          [
                            0.1111111111111111,
                            "#46039f"
                          ],
                          [
                            0.2222222222222222,
                            "#7201a8"
                          ],
                          [
                            0.3333333333333333,
                            "#9c179e"
                          ],
                          [
                            0.4444444444444444,
                            "#bd3786"
                          ],
                          [
                            0.5555555555555556,
                            "#d8576b"
                          ],
                          [
                            0.6666666666666666,
                            "#ed7953"
                          ],
                          [
                            0.7777777777777778,
                            "#fb9f3a"
                          ],
                          [
                            0.8888888888888888,
                            "#fdca26"
                          ],
                          [
                            1,
                            "#f0f921"
                          ]
                        ],
                        "type": "surface"
                      }
                    ],
                    "table": [
                      {
                        "cells": {
                          "fill": {
                            "color": "#EBF0F8"
                          },
                          "line": {
                            "color": "white"
                          }
                        },
                        "header": {
                          "fill": {
                            "color": "#C8D4E3"
                          },
                          "line": {
                            "color": "white"
                          }
                        },
                        "type": "table"
                      }
                    ]
                  },
                  "layout": {
                    "annotationdefaults": {
                      "arrowcolor": "#2a3f5f",
                      "arrowhead": 0,
                      "arrowwidth": 1
                    },
                    "autotypenumbers": "strict",
                    "coloraxis": {
                      "colorbar": {
                        "outlinewidth": 0,
                        "ticks": ""
                      }
                    },
                    "colorscale": {
                      "diverging": [
                        [
                          0,
                          "#8e0152"
                        ],
                        [
                          0.1,
                          "#c51b7d"
                        ],
                        [
                          0.2,
                          "#de77ae"
                        ],
                        [
                          0.3,
                          "#f1b6da"
                        ],
                        [
                          0.4,
                          "#fde0ef"
                        ],
                        [
                          0.5,
                          "#f7f7f7"
                        ],
                        [
                          0.6,
                          "#e6f5d0"
                        ],
                        [
                          0.7,
                          "#b8e186"
                        ],
                        [
                          0.8,
                          "#7fbc41"
                        ],
                        [
                          0.9,
                          "#4d9221"
                        ],
                        [
                          1,
                          "#276419"
                        ]
                      ],
                      "sequential": [
                        [
                          0,
                          "#0d0887"
                        ],
                        [
                          0.1111111111111111,
                          "#46039f"
                        ],
                        [
                          0.2222222222222222,
                          "#7201a8"
                        ],
                        [
                          0.3333333333333333,
                          "#9c179e"
                        ],
                        [
                          0.4444444444444444,
                          "#bd3786"
                        ],
                        [
                          0.5555555555555556,
                          "#d8576b"
                        ],
                        [
                          0.6666666666666666,
                          "#ed7953"
                        ],
                        [
                          0.7777777777777778,
                          "#fb9f3a"
                        ],
                        [
                          0.8888888888888888,
                          "#fdca26"
                        ],
                        [
                          1,
                          "#f0f921"
                        ]
                      ],
                      "sequentialminus": [
                        [
                          0,
                          "#0d0887"
                        ],
                        [
                          0.1111111111111111,
                          "#46039f"
                        ],
                        [
                          0.2222222222222222,
                          "#7201a8"
                        ],
                        [
                          0.3333333333333333,
                          "#9c179e"
                        ],
                        [
                          0.4444444444444444,
                          "#bd3786"
                        ],
                        [
                          0.5555555555555556,
                          "#d8576b"
                        ],
                        [
                          0.6666666666666666,
                          "#ed7953"
                        ],
                        [
                          0.7777777777777778,
                          "#fb9f3a"
                        ],
                        [
                          0.8888888888888888,
                          "#fdca26"
                        ],
                        [
                          1,
                          "#f0f921"
                        ]
                      ]
                    },
                    "colorway": [
                      "#636efa",
                      "#EF553B",
                      "#00cc96",
                      "#ab63fa",
                      "#FFA15A",
                      "#19d3f3",
                      "#FF6692",
                      "#B6E880",
                      "#FF97FF",
                      "#FECB52"
                    ],
                    "font": {
                      "color": "#2a3f5f"
                    },
                    "geo": {
                      "bgcolor": "white",
                      "lakecolor": "white",
                      "landcolor": "#E5ECF6",
                      "showlakes": true,
                      "showland": true,
                      "subunitcolor": "white"
                    },
                    "hoverlabel": {
                      "align": "left"
                    },
                    "hovermode": "closest",
                    "mapbox": {
                      "style": "light"
                    },
                    "paper_bgcolor": "white",
                    "plot_bgcolor": "#E5ECF6",
                    "polar": {
                      "angularaxis": {
                        "gridcolor": "white",
                        "linecolor": "white",
                        "ticks": ""
                      },
                      "bgcolor": "#E5ECF6",
                      "radialaxis": {
                        "gridcolor": "white",
                        "linecolor": "white",
                        "ticks": ""
                      }
                    },
                    "scene": {
                      "xaxis": {
                        "backgroundcolor": "#E5ECF6",
                        "gridcolor": "white",
                        "gridwidth": 2,
                        "linecolor": "white",
                        "showbackground": true,
                        "ticks": "",
                        "zerolinecolor": "white"
                      },
                      "yaxis": {
                        "backgroundcolor": "#E5ECF6",
                        "gridcolor": "white",
                        "gridwidth": 2,
                        "linecolor": "white",
                        "showbackground": true,
                        "ticks": "",
                        "zerolinecolor": "white"
                      },
                      "zaxis": {
                        "backgroundcolor": "#E5ECF6",
                        "gridcolor": "white",
                        "gridwidth": 2,
                        "linecolor": "white",
                        "showbackground": true,
                        "ticks": "",
                        "zerolinecolor": "white"
                      }
                    },
                    "shapedefaults": {
                      "line": {
                        "color": "#2a3f5f"
                      }
                    },
                    "ternary": {
                      "aaxis": {
                        "gridcolor": "white",
                        "linecolor": "white",
                        "ticks": ""
                      },
                      "baxis": {
                        "gridcolor": "white",
                        "linecolor": "white",
                        "ticks": ""
                      },
                      "bgcolor": "#E5ECF6",
                      "caxis": {
                        "gridcolor": "white",
                        "linecolor": "white",
                        "ticks": ""
                      }
                    },
                    "title": {
                      "x": 0.05
                    },
                    "xaxis": {
                      "automargin": true,
                      "gridcolor": "white",
                      "linecolor": "white",
                      "ticks": "",
                      "title": {
                        "standoff": 15
                      },
                      "zerolinecolor": "white",
                      "zerolinewidth": 2
                    },
                    "yaxis": {
                      "automargin": true,
                      "gridcolor": "white",
                      "linecolor": "white",
                      "ticks": "",
                      "title": {
                        "standoff": 15
                      },
                      "zerolinecolor": "white",
                      "zerolinewidth": 2
                    }
                  }
                }
              }
            }
          },
          "metadata": {},
          "output_type": "display_data"
        }
      ],
      "source": [
        "import plotly.graph_objects as go\n",
        "fig = go.Figure(data=[\n",
        "\tgo.Scatter3d(\n",
        "      \tx=X_train[0], y=X_train[1], z=X_train[2], mode='markers', marker=dict(size=2, color=kmeans.labels_)\n",
        "  \t),\n",
        "\n",
        "\tgo.Scatter3d(\n",
        "  \t\tx=df_cluster_centers[0],\n",
        "  \t\ty=df_cluster_centers[1],\n",
        "  \t\tz=df_cluster_centers[2],\n",
        "  \t\tmode='markers',\n",
        "  \t\tmarker=dict(size=4,color='red')\n",
        "\t)\n",
        "])\n",
        "fig.show()"
      ]
    },
    {
      "cell_type": "markdown",
      "metadata": {},
      "source": [
        "## Перцептрон"
      ]
    },
    {
      "cell_type": "code",
      "execution_count": 27,
      "metadata": {},
      "outputs": [],
      "source": [
        "from sklearn.linear_model import Perceptron\n",
        "from sklearn.metrics import f1_score, roc_auc_score, accuracy_score, recall_score"
      ]
    },
    {
      "cell_type": "code",
      "execution_count": 28,
      "metadata": {},
      "outputs": [],
      "source": [
        "class PerceptronMulticlassClassification:\n",
        "    def __init__(self, learning_rate=0.01, n_labels: int = 5, n_iters=1000):\n",
        "        self.lr = learning_rate\n",
        "        self.n_iters = n_iters\n",
        "        self.aclivation_func = self._sigmoid\n",
        "        self.n_labels = n_labels\n",
        "        self.weights = None\n",
        "        self.bias = None\n",
        "\n",
        "    def fit(self, X: pd.DataFrame, y: pd.DataFrame):\n",
        "        n_samples, n_features = X.shape\n",
        "\n",
        "        self.weights = np.zeros((n_features, self.n_labels))\n",
        "        print(self.weights)\n",
        "        self.bias = 0\n",
        "\n",
        "        for _ in range(self.n_iters):\n",
        "            for index, item in X.iterrows():\n",
        "                linear_output = np.dot(np.array(item), self.weights) + self.bias\n",
        "                y_predicted = self.aclivation_func(linear_output)\n",
        "\n",
        "                update = self.lr * (y[index] - y_predicted)\n",
        "                self.weights += update * item\n",
        "                self.bias += update\n",
        "    \n",
        "    def predict(self, X):\n",
        "        linear_output = np.dot(X, self.weights) + self.bias\n",
        "        y_predicted = self.aclivation_func(linear_output)\n",
        "        return y_predicted\n",
        "    \n",
        "    def _sigmoid(self, x):\n",
        "        vectorized_sigmoid = np.vectorize(lambda x: 1 / (1 + np.exp(-x)))\n",
        "        return vectorized_sigmoid(x)\n",
        "\n",
        "    def _relu(self, x):\n",
        "        return np.where(x>=0, x, 0)\n",
        "\n",
        "    def _unit_step_func(self, x):\n",
        "        return np.where(x>=0, 1, 0)"
      ]
    },
    {
      "cell_type": "code",
      "execution_count": 29,
      "metadata": {},
      "outputs": [],
      "source": [
        "class RosenblattPerceptron:\n",
        "    def __init__(self, learning_rate=0.01, n_iters=1000):\n",
        "        self.lr = learning_rate\n",
        "        self.n_iters = n_iters\n",
        "        self.aclivation_func = self._unit_step_func\n",
        "        self.weights = None\n",
        "        self.bias = None\n",
        "\n",
        "    def fit(self, X, y):\n",
        "        n_samples, n_features = X.shape\n",
        "\n",
        "        self.weights = np.zeros(n_features)\n",
        "        self.bias = 0\n",
        "\n",
        "        y_ = np.array([0 if i == 0 else 1 for i in y])\n",
        "\n",
        "        for _ in range(self.n_iters):\n",
        "            for idx, x_i in enumerate(X):\n",
        "                linear_output = np.dot(x_i, self.weights) + self.bias\n",
        "                y_predicted = self.aclivation_func(linear_output)\n",
        "\n",
        "                update = self.lr * (y_[idx] - y_predicted)\n",
        "                self.weights += update * x_i\n",
        "                self.bias += update\n",
        "\n",
        "    def predict(self, X):\n",
        "        linear_output = np.dot(X, self.weights) + self.bias\n",
        "        y_predicted = self.aclivation_func(linear_output)\n",
        "        return y_predicted\n",
        "#функция активации (если результат сумматора >= 0, то результат = 1)\n",
        "    def _unit_step_func(self, x):\n",
        "        return np.where(x>=0, 1, 0)"
      ]
    },
    {
      "cell_type": "code",
      "execution_count": 30,
      "metadata": {},
      "outputs": [],
      "source": [
        "perceptron = RosenblattPerceptron()\n",
        "perceptron.fit(np.array(X_train), np.array(y_train))"
      ]
    },
    {
      "cell_type": "code",
      "execution_count": 31,
      "metadata": {},
      "outputs": [
        {
          "data": {
            "text/plain": [
              "(300, 3)"
            ]
          },
          "execution_count": 31,
          "metadata": {},
          "output_type": "execute_result"
        }
      ],
      "source": [
        "X_test.shape"
      ]
    },
    {
      "cell_type": "code",
      "execution_count": 32,
      "metadata": {},
      "outputs": [
        {
          "name": "stdout",
          "output_type": "stream",
          "text": [
            "accuracy: 1.0\n"
          ]
        }
      ],
      "source": [
        "y_pred = perceptron.predict(np.array(X_test))\n",
        "accuracy = accuracy_score(y_pred=y_pred, y_true=[0 if label == 0 else 1 for label in y_test])\n",
        "print(f'accuracy: {accuracy}')"
      ]
    },
    {
      "cell_type": "code",
      "execution_count": 33,
      "metadata": {},
      "outputs": [],
      "source": [
        "w = perceptron.weights\n",
        "bias = perceptron.bias\n",
        "x_min, x_max = observations[:, 0].min() - 1, observations[:, 0].max() + 1\n",
        "y_min, y_max = observations[:, 1].min() - 1, observations[:, 1].max() + 1\n",
        "xx, yy = np.meshgrid(np.linspace(x_min, x_max, 10),\n",
        "                     np.linspace(y_min, y_max, 10))\n",
        "zz = (-w[0] * xx - w[1] * yy - bias) / w[2]"
      ]
    },
    {
      "cell_type": "code",
      "execution_count": 34,
      "metadata": {},
      "outputs": [
        {
          "data": {
            "application/vnd.plotly.v1+json": {
              "config": {
                "plotlyServerURL": "https://plot.ly"
              },
              "data": [
                {
                  "marker": {
                    "color": {
                      "bdata": "AAAAAAAAAAAAAAAAAAAAAAAAAAAAAAAAAAAAAAAAAAAAAAAAAAAAAAAAAAAAAAAAAAAAAAAAAAAAAAAAAAAAAAAAAAAAAAAAAAAAAAAAAAAAAAAAAAAAAAAAAAAAAAAAAAAAAAAAAAAAAAAAAAAAAAAAAAAAAAAAAAAAAAAAAAAAAAAAAAAAAAAAAAAAAAAAAAAAAAAAAAAAAAAAAAAAAAAAAAAAAAAAAAAAAAAAAAAAAAAAAAAAAAAAAAAAAAAAAAAAAAAAAAAAAAAAAAAAAAAAAAAAAAAAAAAAAAAAAAAAAAAAAAAAAAAAAAAAAAAAAAAAAAAAAAAAAAAAAAAAAAAAAAAAAAAAAAAAAAAAAAAAAAAAAAAAAAAAAAAAAAAAAAAAAAAAAAAAAAAAAQEBAQEBAQEBAQEBAQEBAQEBAQEBAQEBAQEBAQEBAQEBAQEBAQEBAQEBAQEBAQEBAQEBAQEBAQEBAQEBAQEBAQEBAQEBAQEBAQEBAQEBAQEBAQEBAQEBAQEBAQEBAQEBAQEBAQEBAQEBAQEBAQEBAQEBAQEBAQEBAQEBAQEBAQEBAQEBAQEBAQEBAQEBAQEBAQEBAQEBAQEBAQEBAQEBAQEBAQEBAQEBAQEBAQEBAQEBAQEBAQEBAQEBAQEBAQEBAQEBAQEBAQEBAQEBAQEBAQEBAQEBAQEBAQEBAQEBAQEBAQEBAQEBAQEBAQEBAQEBAQEBAQEBAQEBAQEBAQEBAQEBAQEBAQEBAQEBAQEBAQEBAQEBAQEBAQEBAQEBAQEBAQEBAQEBAQEBAQEBAQEBAQEBAQEBAQEBAQEBAQEBAQEBAQEBAQEBAQEBAQEBAQEBAQEBAQEBAQEBAQEBAQEBAQEBAQEBAQEBAQEBAQEBAQEBAQEBAQEBAQEBAQEBAQEBAQEBAQEBAQEBAQEBAQEBAQEBAQEBAQEBAQEBAQEBAQEBAQEBAQEBAQEBAQEBAQEBAQEBAQEBAQEBAQEBAQEBAQEBAQEBAQEBAQEBAQEBAQEBAQEBAQEBAQEBAQEBAQEBAQEBAQEBAQEBAQEBAQEBAQEBAQEBAQEBAQEBAQEBAQEBAQEBAQEBAQEBAQEBAQEBAQEBAQEBAQEBAQEBAQEBAQEBAQEBAQEBAQEBAQEBAQEBAQEBAQEBAQEBAQEBAQEBAQEBAQEBAQEBAQEBAQEBAQEBAQEBAQEBAQEBAQEBAQEBAQEBAQEBAQEBAQEBAQEBAQEBAQEBAQEBAQEBAQEBAQEBAQEBAQEBAQEBAQEBAQEBAQEBAQEBAQEBAQEBAQEBAQEBAQEBAQEBAQEBAQEBAQEBAQEBAQEBAQEBAQEBAQEBAQEBAQEBAQEBAQEBAQEBAQEBAQEBAQEBAQEBAQEBAQEBAQEBAQEBAQEBAQEBAQEBAQEBAQEBAQEBAQEBAQEBAQEBAQEBAQEBAQEBAQEBAQEBAQEBAQEBAQEBAQEBAQEBAQEBAQEBAQEBAQEBAQEBAQEBAQEBAQEBAQEBAQEBAQEBAQEBAQEBAQEBAQEBAQEBAQEBAQEBAQEBAQEBAQEBAQEBAQEBAQEBAQEBAQEBAQEBAQEBAQEBAQEBAQEBAQEBAQEBAQEBAQEBAQEBAQEBAQEBAQEBAQEBAQEBAQEBAQEBAQEBAQEBAQEBAQEBAQEBAQEBAQEBAQEBAQEBAQEBAQEBAQEBAQEBAQEBAQEBAQEBAQEBAQEBAQEBAQEBAQEBAQEBAQEBAQEBAQEBAQEBAQEBAQEBAQEBAQEBAQEBAQEBAQEBAQEBAQEBAQEBAQEBAQEBAQEBAQEBAQEBAQEBAQEBAQEBAQEBAQEBAQEBAQEBAQEBAQEBAQEBAQEBAQEBAQEBAQEBAQEBAQEBAQEBAQEBAQEBAQEBAQEBAQEBAQEBAQEBAQEBAQEBAQEBAQEBAQEBAQEBAQEBAQEBAQEBAQEBAQEBAQEBAQEBAQEBAQEBAQEBAQEBAQEBAQEBAQEBAQEBAQEBAQEBAQEBAQEB",
                      "dtype": "i1"
                    },
                    "size": 2
                  },
                  "mode": "markers",
                  "name": "Class 0",
                  "type": "scatter3d",
                  "x": {
                    "bdata": "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",
                    "dtype": "f8"
                  },
                  "y": {
                    "bdata": "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",
                    "dtype": "f8"
                  },
                  "z": {
                    "bdata": "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",
                    "dtype": "f8"
                  }
                },
                {
                  "colorscale": [
                    [
                      0,
                      "rgb(3, 35, 51)"
                    ],
                    [
                      0.09090909090909091,
                      "rgb(13, 48, 100)"
                    ],
                    [
                      0.18181818181818182,
                      "rgb(53, 50, 155)"
                    ],
                    [
                      0.2727272727272727,
                      "rgb(93, 62, 153)"
                    ],
                    [
                      0.36363636363636365,
                      "rgb(126, 77, 143)"
                    ],
                    [
                      0.45454545454545453,
                      "rgb(158, 89, 135)"
                    ],
                    [
                      0.5454545454545454,
                      "rgb(193, 100, 121)"
                    ],
                    [
                      0.6363636363636364,
                      "rgb(225, 113, 97)"
                    ],
                    [
                      0.7272727272727273,
                      "rgb(246, 139, 69)"
                    ],
                    [
                      0.8181818181818182,
                      "rgb(251, 173, 60)"
                    ],
                    [
                      0.9090909090909091,
                      "rgb(246, 211, 70)"
                    ],
                    [
                      1,
                      "rgb(231, 250, 90)"
                    ]
                  ],
                  "name": "Decision Boundary",
                  "opacity": 0.5,
                  "type": "surface",
                  "x": {
                    "bdata": "AAAAAAAA8L9WVVVVVVXlv1ZVVVVVVdW/AAAAAAAAAABUVVVVVVXVP1RVVVVVVeU/AAAAAAAA8D9UVVVVVVX1P6qqqqqqqvo/AAAAAAAAAEAAAAAAAADwv1ZVVVVVVeW/VlVVVVVV1b8AAAAAAAAAAFRVVVVVVdU/VFVVVVVV5T8AAAAAAADwP1RVVVVVVfU/qqqqqqqq+j8AAAAAAAAAQAAAAAAAAPC/VlVVVVVV5b9WVVVVVVXVvwAAAAAAAAAAVFVVVVVV1T9UVVVVVVXlPwAAAAAAAPA/VFVVVVVV9T+qqqqqqqr6PwAAAAAAAABAAAAAAAAA8L9WVVVVVVXlv1ZVVVVVVdW/AAAAAAAAAABUVVVVVVXVP1RVVVVVVeU/AAAAAAAA8D9UVVVVVVX1P6qqqqqqqvo/AAAAAAAAAEAAAAAAAADwv1ZVVVVVVeW/VlVVVVVV1b8AAAAAAAAAAFRVVVVVVdU/VFVVVVVV5T8AAAAAAADwP1RVVVVVVfU/qqqqqqqq+j8AAAAAAAAAQAAAAAAAAPC/VlVVVVVV5b9WVVVVVVXVvwAAAAAAAAAAVFVVVVVV1T9UVVVVVVXlPwAAAAAAAPA/VFVVVVVV9T+qqqqqqqr6PwAAAAAAAABAAAAAAAAA8L9WVVVVVVXlv1ZVVVVVVdW/AAAAAAAAAABUVVVVVVXVP1RVVVVVVeU/AAAAAAAA8D9UVVVVVVX1P6qqqqqqqvo/AAAAAAAAAEAAAAAAAADwv1ZVVVVVVeW/VlVVVVVV1b8AAAAAAAAAAFRVVVVVVdU/VFVVVVVV5T8AAAAAAADwP1RVVVVVVfU/qqqqqqqq+j8AAAAAAAAAQAAAAAAAAPC/VlVVVVVV5b9WVVVVVVXVvwAAAAAAAAAAVFVVVVVV1T9UVVVVVVXlPwAAAAAAAPA/VFVVVVVV9T+qqqqqqqr6PwAAAAAAAABAAAAAAAAA8L9WVVVVVVXlv1ZVVVVVVdW/AAAAAAAAAABUVVVVVVXVP1RVVVVVVeU/AAAAAAAA8D9UVVVVVVX1P6qqqqqqqvo/AAAAAAAAAEA=",
                    "dtype": "f8",
                    "shape": "10, 10"
                  },
                  "y": {
                    "bdata": "AAAAAAAA8L8AAAAAAADwvwAAAAAAAPC/AAAAAAAA8L8AAAAAAADwvwAAAAAAAPC/AAAAAAAA8L8AAAAAAADwvwAAAAAAAPC/AAAAAAAA8L9WVVVVVVXlv1ZVVVVVVeW/VlVVVVVV5b9WVVVVVVXlv1ZVVVVVVeW/VlVVVVVV5b9WVVVVVVXlv1ZVVVVVVeW/VlVVVVVV5b9WVVVVVVXlv1ZVVVVVVdW/VlVVVVVV1b9WVVVVVVXVv1ZVVVVVVdW/VlVVVVVV1b9WVVVVVVXVv1ZVVVVVVdW/VlVVVVVV1b9WVVVVVVXVv1ZVVVVVVdW/AAAAAAAAAAAAAAAAAAAAAAAAAAAAAAAAAAAAAAAAAAAAAAAAAAAAAAAAAAAAAAAAAAAAAAAAAAAAAAAAAAAAAAAAAAAAAAAAAAAAAAAAAABUVVVVVVXVP1RVVVVVVdU/VFVVVVVV1T9UVVVVVVXVP1RVVVVVVdU/VFVVVVVV1T9UVVVVVVXVP1RVVVVVVdU/VFVVVVVV1T9UVVVVVVXVP1RVVVVVVeU/VFVVVVVV5T9UVVVVVVXlP1RVVVVVVeU/VFVVVVVV5T9UVVVVVVXlP1RVVVVVVeU/VFVVVVVV5T9UVVVVVVXlP1RVVVVVVeU/AAAAAAAA8D8AAAAAAADwPwAAAAAAAPA/AAAAAAAA8D8AAAAAAADwPwAAAAAAAPA/AAAAAAAA8D8AAAAAAADwPwAAAAAAAPA/AAAAAAAA8D9UVVVVVVX1P1RVVVVVVfU/VFVVVVVV9T9UVVVVVVX1P1RVVVVVVfU/VFVVVVVV9T9UVVVVVVX1P1RVVVVVVfU/VFVVVVVV9T9UVVVVVVX1P6qqqqqqqvo/qqqqqqqq+j+qqqqqqqr6P6qqqqqqqvo/qqqqqqqq+j+qqqqqqqr6P6qqqqqqqvo/qqqqqqqq+j+qqqqqqqr6P6qqqqqqqvo/AAAAAAAAAEAAAAAAAAAAQAAAAAAAAABAAAAAAAAAAEAAAAAAAAAAQAAAAAAAAABAAAAAAAAAAEAAAAAAAAAAQAAAAAAAAABAAAAAAAAAAEA=",
                    "dtype": "f8",
                    "shape": "10, 10"
                  },
                  "z": {
                    "bdata": "qH1TKf/UBkA297h6PP4DQMRwHsx5JwFAotQHO26h/D+9x9Ld6PP2P9m6nYBjRvE/5lvRRrwx5z9AhM4YY63XPyQVSn+06Y4/7eLZ0Me+1b/tjjHUdhkEQHsIlyW0QgFAEQT57eLX/D8r98OQXSr3P0fqjjPYfPE/xLqzrKWe5z/yQZPkNYfYP1Tm8PsGEp0/MSUVBfXk1L9lrPQ8hc3lvzGgD3/uXQFAfTPqoFcO/T+ZJrVD0mD3P7QZgOZMs/E/nxmWEo8L6D+r/1ewCGHZP5hgHtyZV6U/emdQOSIL1L+ITRLXm2Dlv6ozvkjTXfC/62LbU8xE/T8FVqb2Rpf3PyFJcZnB6fE/eHh4eHh46D9evRx82zraP2ZORDowJqw/yqmLbU8x07+r7i9xsvPkvzsEzZVeJ/C/IBEC8+PU9b90hZepu833P494Ykw2IPI/VNda3mHl6D8Ve+FHrhTbPwceNUxjerE/EOzGoXxX0r/Tj00LyYbkv5qpt8XT4e+/suEQQG+e9b+Y7kWd9Ev7v/2nU/+qVvI/MTY9REtS6T/NOKYTge7bP+QUSHuu4bQ/WS4C1ql90b/2MGul3xnkv8JK1V/qdO+/Q7Ifjfpn9b8pv1TqfxX7vwfmxKOCYQDACpUfqjS/6T+C9mrfU8jcP7gLW6r5SLg/pnA9Ctej0L8c0og/9qzjv+Xr8vkACO+/14Iu2oUx9b+7j2M3C9/6v1BOTEpIRgDAw9Tm+AodA8A8tC+rJqLdP6gCbtlEsLs/1GXxfAiUz78/c6bZDEDjvwiNEJQXm+6/aVM9JxH79L9MYHKElqj6v5m20/ANKwDADD1un9ABA8B/wwhOk9gFwHz5gAiQF78/Zupn5WLgzb9lFMRzI9Pivy0uLi4uLu6/+yNMdJzE9L/gMIHRIXL6v+MeW5fTDwDAU6X1RZbmAsDGK5D0WL0FwDmyKqMblAjABW/eTb0szL+KteENOmbiv1PPS8hEwe2/j/RawSeO9L90AZAerTv6v1cOxXsy6f+/ng197FvLAsAQlBebHqIFwIMasknheAjA9qBM+KNPC8A=",
                    "dtype": "f8",
                    "shape": "10, 10"
                  }
                }
              ],
              "layout": {
                "template": {
                  "data": {
                    "bar": [
                      {
                        "error_x": {
                          "color": "#2a3f5f"
                        },
                        "error_y": {
                          "color": "#2a3f5f"
                        },
                        "marker": {
                          "line": {
                            "color": "#E5ECF6",
                            "width": 0.5
                          },
                          "pattern": {
                            "fillmode": "overlay",
                            "size": 10,
                            "solidity": 0.2
                          }
                        },
                        "type": "bar"
                      }
                    ],
                    "barpolar": [
                      {
                        "marker": {
                          "line": {
                            "color": "#E5ECF6",
                            "width": 0.5
                          },
                          "pattern": {
                            "fillmode": "overlay",
                            "size": 10,
                            "solidity": 0.2
                          }
                        },
                        "type": "barpolar"
                      }
                    ],
                    "carpet": [
                      {
                        "aaxis": {
                          "endlinecolor": "#2a3f5f",
                          "gridcolor": "white",
                          "linecolor": "white",
                          "minorgridcolor": "white",
                          "startlinecolor": "#2a3f5f"
                        },
                        "baxis": {
                          "endlinecolor": "#2a3f5f",
                          "gridcolor": "white",
                          "linecolor": "white",
                          "minorgridcolor": "white",
                          "startlinecolor": "#2a3f5f"
                        },
                        "type": "carpet"
                      }
                    ],
                    "choropleth": [
                      {
                        "colorbar": {
                          "outlinewidth": 0,
                          "ticks": ""
                        },
                        "type": "choropleth"
                      }
                    ],
                    "contour": [
                      {
                        "colorbar": {
                          "outlinewidth": 0,
                          "ticks": ""
                        },
                        "colorscale": [
                          [
                            0,
                            "#0d0887"
                          ],
                          [
                            0.1111111111111111,
                            "#46039f"
                          ],
                          [
                            0.2222222222222222,
                            "#7201a8"
                          ],
                          [
                            0.3333333333333333,
                            "#9c179e"
                          ],
                          [
                            0.4444444444444444,
                            "#bd3786"
                          ],
                          [
                            0.5555555555555556,
                            "#d8576b"
                          ],
                          [
                            0.6666666666666666,
                            "#ed7953"
                          ],
                          [
                            0.7777777777777778,
                            "#fb9f3a"
                          ],
                          [
                            0.8888888888888888,
                            "#fdca26"
                          ],
                          [
                            1,
                            "#f0f921"
                          ]
                        ],
                        "type": "contour"
                      }
                    ],
                    "contourcarpet": [
                      {
                        "colorbar": {
                          "outlinewidth": 0,
                          "ticks": ""
                        },
                        "type": "contourcarpet"
                      }
                    ],
                    "heatmap": [
                      {
                        "colorbar": {
                          "outlinewidth": 0,
                          "ticks": ""
                        },
                        "colorscale": [
                          [
                            0,
                            "#0d0887"
                          ],
                          [
                            0.1111111111111111,
                            "#46039f"
                          ],
                          [
                            0.2222222222222222,
                            "#7201a8"
                          ],
                          [
                            0.3333333333333333,
                            "#9c179e"
                          ],
                          [
                            0.4444444444444444,
                            "#bd3786"
                          ],
                          [
                            0.5555555555555556,
                            "#d8576b"
                          ],
                          [
                            0.6666666666666666,
                            "#ed7953"
                          ],
                          [
                            0.7777777777777778,
                            "#fb9f3a"
                          ],
                          [
                            0.8888888888888888,
                            "#fdca26"
                          ],
                          [
                            1,
                            "#f0f921"
                          ]
                        ],
                        "type": "heatmap"
                      }
                    ],
                    "histogram": [
                      {
                        "marker": {
                          "pattern": {
                            "fillmode": "overlay",
                            "size": 10,
                            "solidity": 0.2
                          }
                        },
                        "type": "histogram"
                      }
                    ],
                    "histogram2d": [
                      {
                        "colorbar": {
                          "outlinewidth": 0,
                          "ticks": ""
                        },
                        "colorscale": [
                          [
                            0,
                            "#0d0887"
                          ],
                          [
                            0.1111111111111111,
                            "#46039f"
                          ],
                          [
                            0.2222222222222222,
                            "#7201a8"
                          ],
                          [
                            0.3333333333333333,
                            "#9c179e"
                          ],
                          [
                            0.4444444444444444,
                            "#bd3786"
                          ],
                          [
                            0.5555555555555556,
                            "#d8576b"
                          ],
                          [
                            0.6666666666666666,
                            "#ed7953"
                          ],
                          [
                            0.7777777777777778,
                            "#fb9f3a"
                          ],
                          [
                            0.8888888888888888,
                            "#fdca26"
                          ],
                          [
                            1,
                            "#f0f921"
                          ]
                        ],
                        "type": "histogram2d"
                      }
                    ],
                    "histogram2dcontour": [
                      {
                        "colorbar": {
                          "outlinewidth": 0,
                          "ticks": ""
                        },
                        "colorscale": [
                          [
                            0,
                            "#0d0887"
                          ],
                          [
                            0.1111111111111111,
                            "#46039f"
                          ],
                          [
                            0.2222222222222222,
                            "#7201a8"
                          ],
                          [
                            0.3333333333333333,
                            "#9c179e"
                          ],
                          [
                            0.4444444444444444,
                            "#bd3786"
                          ],
                          [
                            0.5555555555555556,
                            "#d8576b"
                          ],
                          [
                            0.6666666666666666,
                            "#ed7953"
                          ],
                          [
                            0.7777777777777778,
                            "#fb9f3a"
                          ],
                          [
                            0.8888888888888888,
                            "#fdca26"
                          ],
                          [
                            1,
                            "#f0f921"
                          ]
                        ],
                        "type": "histogram2dcontour"
                      }
                    ],
                    "mesh3d": [
                      {
                        "colorbar": {
                          "outlinewidth": 0,
                          "ticks": ""
                        },
                        "type": "mesh3d"
                      }
                    ],
                    "parcoords": [
                      {
                        "line": {
                          "colorbar": {
                            "outlinewidth": 0,
                            "ticks": ""
                          }
                        },
                        "type": "parcoords"
                      }
                    ],
                    "pie": [
                      {
                        "automargin": true,
                        "type": "pie"
                      }
                    ],
                    "scatter": [
                      {
                        "fillpattern": {
                          "fillmode": "overlay",
                          "size": 10,
                          "solidity": 0.2
                        },
                        "type": "scatter"
                      }
                    ],
                    "scatter3d": [
                      {
                        "line": {
                          "colorbar": {
                            "outlinewidth": 0,
                            "ticks": ""
                          }
                        },
                        "marker": {
                          "colorbar": {
                            "outlinewidth": 0,
                            "ticks": ""
                          }
                        },
                        "type": "scatter3d"
                      }
                    ],
                    "scattercarpet": [
                      {
                        "marker": {
                          "colorbar": {
                            "outlinewidth": 0,
                            "ticks": ""
                          }
                        },
                        "type": "scattercarpet"
                      }
                    ],
                    "scattergeo": [
                      {
                        "marker": {
                          "colorbar": {
                            "outlinewidth": 0,
                            "ticks": ""
                          }
                        },
                        "type": "scattergeo"
                      }
                    ],
                    "scattergl": [
                      {
                        "marker": {
                          "colorbar": {
                            "outlinewidth": 0,
                            "ticks": ""
                          }
                        },
                        "type": "scattergl"
                      }
                    ],
                    "scattermap": [
                      {
                        "marker": {
                          "colorbar": {
                            "outlinewidth": 0,
                            "ticks": ""
                          }
                        },
                        "type": "scattermap"
                      }
                    ],
                    "scattermapbox": [
                      {
                        "marker": {
                          "colorbar": {
                            "outlinewidth": 0,
                            "ticks": ""
                          }
                        },
                        "type": "scattermapbox"
                      }
                    ],
                    "scatterpolar": [
                      {
                        "marker": {
                          "colorbar": {
                            "outlinewidth": 0,
                            "ticks": ""
                          }
                        },
                        "type": "scatterpolar"
                      }
                    ],
                    "scatterpolargl": [
                      {
                        "marker": {
                          "colorbar": {
                            "outlinewidth": 0,
                            "ticks": ""
                          }
                        },
                        "type": "scatterpolargl"
                      }
                    ],
                    "scatterternary": [
                      {
                        "marker": {
                          "colorbar": {
                            "outlinewidth": 0,
                            "ticks": ""
                          }
                        },
                        "type": "scatterternary"
                      }
                    ],
                    "surface": [
                      {
                        "colorbar": {
                          "outlinewidth": 0,
                          "ticks": ""
                        },
                        "colorscale": [
                          [
                            0,
                            "#0d0887"
                          ],
                          [
                            0.1111111111111111,
                            "#46039f"
                          ],
                          [
                            0.2222222222222222,
                            "#7201a8"
                          ],
                          [
                            0.3333333333333333,
                            "#9c179e"
                          ],
                          [
                            0.4444444444444444,
                            "#bd3786"
                          ],
                          [
                            0.5555555555555556,
                            "#d8576b"
                          ],
                          [
                            0.6666666666666666,
                            "#ed7953"
                          ],
                          [
                            0.7777777777777778,
                            "#fb9f3a"
                          ],
                          [
                            0.8888888888888888,
                            "#fdca26"
                          ],
                          [
                            1,
                            "#f0f921"
                          ]
                        ],
                        "type": "surface"
                      }
                    ],
                    "table": [
                      {
                        "cells": {
                          "fill": {
                            "color": "#EBF0F8"
                          },
                          "line": {
                            "color": "white"
                          }
                        },
                        "header": {
                          "fill": {
                            "color": "#C8D4E3"
                          },
                          "line": {
                            "color": "white"
                          }
                        },
                        "type": "table"
                      }
                    ]
                  },
                  "layout": {
                    "annotationdefaults": {
                      "arrowcolor": "#2a3f5f",
                      "arrowhead": 0,
                      "arrowwidth": 1
                    },
                    "autotypenumbers": "strict",
                    "coloraxis": {
                      "colorbar": {
                        "outlinewidth": 0,
                        "ticks": ""
                      }
                    },
                    "colorscale": {
                      "diverging": [
                        [
                          0,
                          "#8e0152"
                        ],
                        [
                          0.1,
                          "#c51b7d"
                        ],
                        [
                          0.2,
                          "#de77ae"
                        ],
                        [
                          0.3,
                          "#f1b6da"
                        ],
                        [
                          0.4,
                          "#fde0ef"
                        ],
                        [
                          0.5,
                          "#f7f7f7"
                        ],
                        [
                          0.6,
                          "#e6f5d0"
                        ],
                        [
                          0.7,
                          "#b8e186"
                        ],
                        [
                          0.8,
                          "#7fbc41"
                        ],
                        [
                          0.9,
                          "#4d9221"
                        ],
                        [
                          1,
                          "#276419"
                        ]
                      ],
                      "sequential": [
                        [
                          0,
                          "#0d0887"
                        ],
                        [
                          0.1111111111111111,
                          "#46039f"
                        ],
                        [
                          0.2222222222222222,
                          "#7201a8"
                        ],
                        [
                          0.3333333333333333,
                          "#9c179e"
                        ],
                        [
                          0.4444444444444444,
                          "#bd3786"
                        ],
                        [
                          0.5555555555555556,
                          "#d8576b"
                        ],
                        [
                          0.6666666666666666,
                          "#ed7953"
                        ],
                        [
                          0.7777777777777778,
                          "#fb9f3a"
                        ],
                        [
                          0.8888888888888888,
                          "#fdca26"
                        ],
                        [
                          1,
                          "#f0f921"
                        ]
                      ],
                      "sequentialminus": [
                        [
                          0,
                          "#0d0887"
                        ],
                        [
                          0.1111111111111111,
                          "#46039f"
                        ],
                        [
                          0.2222222222222222,
                          "#7201a8"
                        ],
                        [
                          0.3333333333333333,
                          "#9c179e"
                        ],
                        [
                          0.4444444444444444,
                          "#bd3786"
                        ],
                        [
                          0.5555555555555556,
                          "#d8576b"
                        ],
                        [
                          0.6666666666666666,
                          "#ed7953"
                        ],
                        [
                          0.7777777777777778,
                          "#fb9f3a"
                        ],
                        [
                          0.8888888888888888,
                          "#fdca26"
                        ],
                        [
                          1,
                          "#f0f921"
                        ]
                      ]
                    },
                    "colorway": [
                      "#636efa",
                      "#EF553B",
                      "#00cc96",
                      "#ab63fa",
                      "#FFA15A",
                      "#19d3f3",
                      "#FF6692",
                      "#B6E880",
                      "#FF97FF",
                      "#FECB52"
                    ],
                    "font": {
                      "color": "#2a3f5f"
                    },
                    "geo": {
                      "bgcolor": "white",
                      "lakecolor": "white",
                      "landcolor": "#E5ECF6",
                      "showlakes": true,
                      "showland": true,
                      "subunitcolor": "white"
                    },
                    "hoverlabel": {
                      "align": "left"
                    },
                    "hovermode": "closest",
                    "mapbox": {
                      "style": "light"
                    },
                    "paper_bgcolor": "white",
                    "plot_bgcolor": "#E5ECF6",
                    "polar": {
                      "angularaxis": {
                        "gridcolor": "white",
                        "linecolor": "white",
                        "ticks": ""
                      },
                      "bgcolor": "#E5ECF6",
                      "radialaxis": {
                        "gridcolor": "white",
                        "linecolor": "white",
                        "ticks": ""
                      }
                    },
                    "scene": {
                      "xaxis": {
                        "backgroundcolor": "#E5ECF6",
                        "gridcolor": "white",
                        "gridwidth": 2,
                        "linecolor": "white",
                        "showbackground": true,
                        "ticks": "",
                        "zerolinecolor": "white"
                      },
                      "yaxis": {
                        "backgroundcolor": "#E5ECF6",
                        "gridcolor": "white",
                        "gridwidth": 2,
                        "linecolor": "white",
                        "showbackground": true,
                        "ticks": "",
                        "zerolinecolor": "white"
                      },
                      "zaxis": {
                        "backgroundcolor": "#E5ECF6",
                        "gridcolor": "white",
                        "gridwidth": 2,
                        "linecolor": "white",
                        "showbackground": true,
                        "ticks": "",
                        "zerolinecolor": "white"
                      }
                    },
                    "shapedefaults": {
                      "line": {
                        "color": "#2a3f5f"
                      }
                    },
                    "ternary": {
                      "aaxis": {
                        "gridcolor": "white",
                        "linecolor": "white",
                        "ticks": ""
                      },
                      "baxis": {
                        "gridcolor": "white",
                        "linecolor": "white",
                        "ticks": ""
                      },
                      "bgcolor": "#E5ECF6",
                      "caxis": {
                        "gridcolor": "white",
                        "linecolor": "white",
                        "ticks": ""
                      }
                    },
                    "title": {
                      "x": 0.05
                    },
                    "xaxis": {
                      "automargin": true,
                      "gridcolor": "white",
                      "linecolor": "white",
                      "ticks": "",
                      "title": {
                        "standoff": 15
                      },
                      "zerolinecolor": "white",
                      "zerolinewidth": 2
                    },
                    "yaxis": {
                      "automargin": true,
                      "gridcolor": "white",
                      "linecolor": "white",
                      "ticks": "",
                      "title": {
                        "standoff": 15
                      },
                      "zerolinecolor": "white",
                      "zerolinewidth": 2
                    }
                  }
                }
              }
            }
          },
          "metadata": {},
          "output_type": "display_data"
        }
      ],
      "source": [
        "# Создаем 3D график\n",
        "fig = go.Figure()\n",
        "\n",
        "fig.add_trace(go.Scatter3d(\n",
        "    x=observations[:, 0], y=observations[:, 1], z=observations[:, 2],\n",
        "    mode='markers',\n",
        "    marker=dict(size=2, color=np.array([0 if label == 0 else 1 for label in labels])),\n",
        "    name='Class 0',\n",
        "))\n",
        "\n",
        "fig.add_trace(go.Surface(\n",
        "    x=xx,\n",
        "    y=yy,\n",
        "    z=zz,\n",
        "    colorscale='thermal',\n",
        "    opacity=0.5,\n",
        "    name='Decision Boundary'\n",
        "))\n",
        "\n",
        "fig.show()"
      ]
    },
    {
      "cell_type": "markdown",
      "metadata": {},
      "source": [
        "## Сеть Кохонена"
      ]
    },
    {
      "cell_type": "code",
      "execution_count": 35,
      "metadata": {},
      "outputs": [],
      "source": [
        "class KohonenNet():\n",
        "    def __init__(self, m=3, n=3, lr=1, sigma=1, max_iter=3000, weights = []):\n",
        "        self.m = m #количество классов\n",
        "        self.n = n #количество уровней сети\n",
        "        self.shape = (m, n)\n",
        "        self.initial_lr = lr\n",
        "        self.lr = lr #скорость обучения\n",
        "        self.sigma = sigma #параметр изменения скорости обучения (она будет снижаться с каждой итерацией)\n",
        "        self.max_iter = max_iter\n",
        "\n",
        "        self.weights = weights\n",
        "\n",
        "#функция нахождения выйгравшего нейрона (нейрона с минимальным расстоянием до точки)\n",
        "    def _find_bmu(self, x):\n",
        "        x_stack = np.stack([x]*(self.m*self.n), axis=0) #матрица размером [количество центров кластеров(нейронов), количество признаков] (для каждого веса своя строка признаков(точка))\n",
        "        distance = np.linalg.norm(x_stack - self.weights, axis=1)#эвклидовы расстояния между точкой выборки и нейронами\n",
        "        return np.argmin(distance)#возвращаем индекс минимального расстояния (индекс подходящего нейрона)\n",
        "\n",
        "    def step(self, x):\n",
        "        x_stack = np.stack([x]*(self.m*self.n), axis=0)#матрица размером [количество весов, количество признаков] (для каждого веса своя строка признаков(точка))\n",
        "        \n",
        "        bmu_index = self._find_bmu(x)#передаем в функцию строку признаков (точку) и получаем индекс выйгравшего нейрона (центра кластера)\n",
        "        self.weights[bmu_index] += self.lr * (x - self.weights[bmu_index])\n",
        "\n",
        "    #обучение весов\n",
        "    def fit(self, X, epochs=1, shuffle=True):\n",
        "        global_iter_counter = 0\n",
        "        n_samples = X.shape[0]#количество элементов выборки\n",
        "        total_iterations = np.minimum(epochs * n_samples, self.max_iter)#количество обучения весов в эпохе\n",
        "\n",
        "        for epoch in range(epochs):#изначально у нас 1 эпоха\n",
        "            if global_iter_counter > self.max_iter:#не даем проводить больше 3000 эпох\n",
        "                break\n",
        "\n",
        "            if shuffle:\n",
        "                indices = np.random.permutation(n_samples)#создание массива с индексами в разброс\n",
        "            else:\n",
        "                indices = np.arange(n_samples)#создание массива с индексами по порядку\n",
        "\n",
        "            #обучение\n",
        "            for idx in indices:#проход по выборке с индексами idx\n",
        "                if global_iter_counter > self.max_iter:\n",
        "                    break\n",
        "                input = X[idx]\n",
        "                #перемещение нейрона(изменение весов победившего нейрона)\n",
        "                self.step(input)\n",
        "\n",
        "                global_iter_counter += 1\n",
        "                self.lr = (1 - (global_iter_counter / total_iterations)) * self.initial_lr#изменение параметра обучения\n",
        "\n",
        "        self._n_iter_ = global_iter_counter\n",
        "\n",
        "        return\n",
        "\n",
        "    def returnChangedWeights(self):\n",
        "      return self.weights\n",
        "\n",
        "    def predict(self, X):\n",
        "        labels = np.array([self._find_bmu(x) for x in X])\n",
        "        return labels"
      ]
    },
    {
      "cell_type": "code",
      "execution_count": 36,
      "metadata": {},
      "outputs": [],
      "source": [
        "koh_net = KohonenNet(m=5, n=1, weights=np.zeros((5, 3)))\n",
        "#[0 if label==0 else 1 for label in np.array(y_train)]\n",
        "koh_net.fit(np.array(X_train), epochs=5)"
      ]
    },
    {
      "cell_type": "code",
      "execution_count": 37,
      "metadata": {},
      "outputs": [],
      "source": [
        "y_pred = koh_net.predict(np.array(X_test))"
      ]
    },
    {
      "cell_type": "code",
      "execution_count": 38,
      "metadata": {},
      "outputs": [
        {
          "name": "stdout",
          "output_type": "stream",
          "text": [
            "[[ 0  0  0  0 56]\n",
            " [ 0  0 65  0  0]\n",
            " [ 0  0  0 49  0]\n",
            " [ 0 66  0  0  0]\n",
            " [64  0  0  0  0]]\n"
          ]
        }
      ],
      "source": [
        "print(confusion_matrix(y_test, y_pred))"
      ]
    },
    {
      "cell_type": "markdown",
      "metadata": {},
      "source": [
        "## PNN"
      ]
    },
    {
      "cell_type": "code",
      "execution_count": 39,
      "metadata": {},
      "outputs": [],
      "source": [
        "import numpy as np\n",
        "import math\n",
        "\n",
        "# Probabilistic Neural Network with 4 layers\n",
        "class PNN(object):\n",
        "    def __init__(self):\n",
        "        self.L2 = []    # Layer 2 that holds the patterns\n",
        "        print('Empty PNN created.')\n",
        "\n",
        "    def train(self, X, y, p=2):\n",
        "        self.n_ = X.shape[1]  # num of features\n",
        "        self.p_ = p           # num of classes\n",
        "        \n",
        "        # Layer 2 (Pattern): Set up empty lists for each class\n",
        "        for k in range(self.p_):\n",
        "            self.L2.append([])    # Using Python's basic lists because ndarray cannot append empty arrays\n",
        "                                  # Also perhaps we might have to input different data types\n",
        "\n",
        "        # Enter patterns into Layer 2\n",
        "        for i in range(X.shape[0]):\n",
        "            self.L2[y[i]].append(X[i])\n",
        "        \n",
        "        # self.L2 = np.array(self.L2)    # Change to ndarray for speed (Is this faster?)\n",
        "\n",
        "        print('PNN with %d classes trained.' % self.p_)\n",
        "\n",
        "    def crossValidate(self, X, y, sigma=0.5):\n",
        "        result = self.predict(X, sigma)\n",
        "        num_correct = sum(result[:, 0] == y)\n",
        "\n",
        "        print('Cross validation accuracy with sigma %.2f: %.1f%%' % (sigma, num_correct/len(y) * 100))\n",
        "\n",
        "    def predict(self, X, sigma=0.5):\n",
        "        m = X.shape[0]\n",
        "        accL3 = np.zeros((m, self.p_))\n",
        "        accL4 = np.zeros(m)\n",
        "\n",
        "        self.sigma_ = sigma    # smoothing parameter, not standard deviation\n",
        "        self.C1_ = 2 * self.sigma_**2\n",
        "        C2_ = (math.sqrt(2*math.pi) * self.sigma_) ** (- self.n_)\n",
        "        \n",
        "        # Layer 1 (Input): x\n",
        "        for i in range(m):\n",
        "            x = X[i]\n",
        "\n",
        "            # Layer 3 (Averaging): for each class\n",
        "            self.L3_ = np.zeros(self.p_)\n",
        "            for k in range(self.p_):\n",
        "                for ki in range(len(self.L2[k])):\n",
        "                    self.L3_[k] += self._activation(x, self.L2[k][ki])\n",
        "                self.L3_[k] /= len(self.L2[k])\n",
        "                \n",
        "                # Multiply constant\n",
        "                self.L3_[k] *= C2_\n",
        "                accL3[i][k] = self.L3_[k]\n",
        "\n",
        "            # Layer 4 (Output/Decision): Maxing\n",
        "            self.L4_ = self.L3_.argmax()\n",
        "            accL4[i] = self.L4_\n",
        "\n",
        "        return np.column_stack((accL4, accL3))\n",
        "\n",
        "    def _activation(self, x, w):\n",
        "        diff = x - w\n",
        "        return math.exp( - np.dot(diff, diff) / self.C1_ )\n",
        "\n",
        "\n",
        "# Normalize to unit length: [0, 1]\n",
        "# X must be ndarray\n",
        "def Normalize(X):\n",
        "    x_max = X.max(axis=0)\n",
        "    x_min = X.min(axis=0)\n",
        "    return (X - x_min) / (x_max - x_min)"
      ]
    },
    {
      "cell_type": "code",
      "execution_count": 40,
      "metadata": {},
      "outputs": [
        {
          "name": "stdout",
          "output_type": "stream",
          "text": [
            "[0 1 2 3 4]\n"
          ]
        }
      ],
      "source": [
        "print(np.unique(y_train))"
      ]
    },
    {
      "cell_type": "code",
      "execution_count": 59,
      "metadata": {},
      "outputs": [
        {
          "name": "stdout",
          "output_type": "stream",
          "text": [
            "Empty PNN created.\n",
            "PNN with 5 classes trained.\n"
          ]
        }
      ],
      "source": [
        "pnn = PNN()\n",
        "pnn.train(X=np.array(X_train), y=np.array(y_train), p=5)"
      ]
    },
    {
      "cell_type": "code",
      "execution_count": 60,
      "metadata": {},
      "outputs": [],
      "source": [
        "y_pred = pnn.predict(X_test)"
      ]
    },
    {
      "cell_type": "code",
      "execution_count": 61,
      "metadata": {},
      "outputs": [
        {
          "data": {
            "text/plain": [
              "array([[3.        , 0.06740609, 0.20919413, 0.40275696, 0.50016013,\n",
              "        0.39390227],\n",
              "       [4.        , 0.01464576, 0.0709568 , 0.21088935, 0.40778665,\n",
              "        0.50001953],\n",
              "       [1.        , 0.38385736, 0.4957234 , 0.40691138, 0.21129686,\n",
              "        0.06946747],\n",
              "       ...,\n",
              "       [4.        , 0.01362575, 0.06706513, 0.20223356, 0.39777469,\n",
              "        0.49572405],\n",
              "       [3.        , 0.06716003, 0.20870624, 0.40263922, 0.50148087,\n",
              "        0.39619502],\n",
              "       [2.        , 0.21347707, 0.41235891, 0.50128655, 0.3895505 ,\n",
              "        0.19198777]], shape=(300, 6))"
            ]
          },
          "execution_count": 61,
          "metadata": {},
          "output_type": "execute_result"
        }
      ],
      "source": [
        "y_pred"
      ]
    },
    {
      "cell_type": "code",
      "execution_count": 71,
      "metadata": {},
      "outputs": [],
      "source": [
        "pred_labels = []\n",
        "for pred_vect in y_pred:\n",
        "    pred_labels.append(int(pred_vect[0]))"
      ]
    },
    {
      "cell_type": "code",
      "execution_count": 72,
      "metadata": {},
      "outputs": [
        {
          "data": {
            "text/plain": [
              "array([0, 1, 2, 3, 4])"
            ]
          },
          "execution_count": 72,
          "metadata": {},
          "output_type": "execute_result"
        }
      ],
      "source": [
        "np.unique(np.array(pred_labels))"
      ]
    },
    {
      "cell_type": "code",
      "execution_count": 73,
      "metadata": {},
      "outputs": [
        {
          "name": "stdout",
          "output_type": "stream",
          "text": [
            "[[56  0  0  0  0]\n",
            " [ 0 65  0  0  0]\n",
            " [ 0  0 49  0  0]\n",
            " [ 0  0  0 66  0]\n",
            " [ 0  0  0  0 64]]\n"
          ]
        }
      ],
      "source": [
        "print(confusion_matrix(y_test, pred_labels))"
      ]
    },
    {
      "cell_type": "markdown",
      "metadata": {},
      "source": [
        "## MLP"
      ]
    },
    {
      "cell_type": "code",
      "execution_count": 117,
      "metadata": {},
      "outputs": [],
      "source": [
        "from random import random\n",
        "from math import exp\n",
        "\n",
        "class MLPNetwork:\n",
        "    def __init__(self, n_inputs, n_hidden, n_outputs):\n",
        "        self.n_hidden = n_hidden\n",
        "        self.n_outputs = n_outputs\n",
        "        self.n_inputs = n_inputs\n",
        "\n",
        "        self.weights = []\n",
        "\n",
        "        self.network = list()\n",
        "        hidden_layer = [{'weights':[random() for i in range(n_inputs + 1)]} for i in range(n_hidden)]\n",
        "        self.network.append(hidden_layer)\n",
        "        output_layer = [{'weights':[random() for i in range(n_hidden + 1)]} for i in range(n_outputs)]\n",
        "        self.network.append(output_layer) \n",
        "\n",
        "    # Calculate neuron activation for an input\n",
        "    def activate(self, weights, inputs):\n",
        "        activation = weights[-1]\n",
        "        for i in range(len(weights)-1):\n",
        "            activation += weights[i] * inputs[i]\n",
        "        return activation\n",
        " \n",
        "    # Transfer neuron activation\n",
        "    def transfer(self, activation):\n",
        "        return 1.0 / (1.0 + exp(-activation))\n",
        "    \n",
        "    # Forward propagate input to a network output\n",
        "    def forward_propagate(self, row):\n",
        "        inputs = row\n",
        "        for layer in self.network:\n",
        "            new_inputs = []\n",
        "            for neuron in layer:\n",
        "                activation = self.activate(neuron['weights'], inputs)\n",
        "                neuron['output'] = self.transfer(activation)\n",
        "                new_inputs.append(neuron['output'])\n",
        "            inputs = new_inputs\n",
        "        return inputs\n",
        " \n",
        "    # Calculate the derivative of an neuron output\n",
        "    def transfer_derivative(self, output):\n",
        "        return output * (1.0 - output)\n",
        " \n",
        "    # Backpropagate error and store in neurons\n",
        "    def backward_propagate_error(self, expected):\n",
        "        for i in reversed(range(len(self.network))):\n",
        "            layer = self.network[i]\n",
        "            errors = list()\n",
        "            if i != len(self.network)-1:\n",
        "                for j in range(len(layer)):\n",
        "                    error = 0.0\n",
        "                    for neuron in self.network[i + 1]:\n",
        "                        error += (neuron['weights'][j] * neuron['delta'])\n",
        "                    errors.append(error)\n",
        "            else:\n",
        "                for j in range(len(layer)):\n",
        "                    neuron = layer[j]\n",
        "                    errors.append(neuron['output'] - expected[j])\n",
        "            for j in range(len(layer)):\n",
        "                neuron = layer[j]\n",
        "                neuron['delta'] = errors[j] * self.transfer_derivative(neuron['output'])\n",
        "        \n",
        "    # Update network weights with error\n",
        "    def update_weights(self, row, l_rate):\n",
        "        for i in range(len(self.network)):\n",
        "            inputs = row[:-1]\n",
        "            if i != 0:\n",
        "                inputs = [neuron['output'] for neuron in self.network[i - 1]]\n",
        "            for neuron in self.network[i]:\n",
        "                for j in range(len(inputs)):\n",
        "                    neuron['weights'][j] -= l_rate * neuron['delta'] * inputs[j]\n",
        "                neuron['weights'][-1] -= l_rate * neuron['delta']\n",
        " \n",
        "    # Train a network for a fixed number of epochs\n",
        "    def fit(self, train, l_rate, n_epoch):\n",
        "        for epoch in range(n_epoch):\n",
        "            for row in train:\n",
        "                outputs = self.forward_propagate(row)\n",
        "                expected = [0 for i in range(self.n_outputs)]\n",
        "                expected[int(row[-1])] = 1\n",
        "                self.backward_propagate_error(expected)\n",
        "                self.update_weights(row, l_rate)\n",
        " \n",
        "    # Make a prediction with a network\n",
        "    def predict(self, X):\n",
        "        predictions = []\n",
        "        for row in X:\n",
        "            outputs = self.forward_propagate(row)\n",
        "            print(outputs)\n",
        "            predictions.append(outputs.index(max(outputs)))\n",
        "        return predictions"
      ]
    },
    {
      "cell_type": "code",
      "execution_count": 118,
      "metadata": {},
      "outputs": [],
      "source": [
        "n_inputs = 3\n",
        "n_outputs = 5"
      ]
    },
    {
      "cell_type": "code",
      "execution_count": 119,
      "metadata": {},
      "outputs": [],
      "source": [
        "mlp_net = MLPNetwork(n_inputs=n_inputs, n_outputs=n_outputs, n_hidden=1)\n",
        "mlp_net.fit(train=X_train, l_rate=0.1, n_epoch=100)"
      ]
    },
    {
      "cell_type": "code",
      "execution_count": 120,
      "metadata": {},
      "outputs": [
        {
          "name": "stdout",
          "output_type": "stream",
          "text": [
            "[0.995437231956894, 0.004542190554366989, 0.004392291389866777, 0.0043213878138311035, 0.004218012394700224]\n",
            "[0.9955344059157486, 0.00444151517449989, 0.004313541259544311, 0.004229922509500459, 0.004109522168734078]\n",
            "[0.9949634622576624, 0.0050342595199449084, 0.0047725463339574606, 0.004767163474116631, 0.00475376936171484]\n",
            "[0.9950343154920495, 0.004960544334327879, 0.00471605208543527, 0.004700513211006464, 0.004672946544073209]\n",
            "[0.9949772965091209, 0.005019863109804339, 0.004761525655275002, 0.004754150299829149, 0.004737969688140662]\n",
            "[0.9952044358922796, 0.004783729369691205, 0.004579881535148235, 0.004540461113198777, 0.004479880095553508]\n",
            "[0.995442333760694, 0.004536902715375047, 0.00438816353695053, 0.0043165860157853495, 0.004212304304946201]\n",
            "[0.9952610855808631, 0.004724906998366913, 0.004534368115780865, 0.004487156729588139, 0.004415905137741542]\n",
            "[0.9955407942882248, 0.004434899739821636, 0.004308354627979534, 0.004223909019516008, 0.004102407076278893]\n",
            "[0.994278983116504, 0.005748493169907543, 0.005312120298134565, 0.00541076671030329, 0.005546473015183638]\n",
            "[0.995284603187458, 0.004700495868734916, 0.004515448326616474, 0.004465026786729864, 0.004389393494275799]\n",
            "[0.9955314061471581, 0.004444621698003575, 0.004315976323842992, 0.004232746227918627, 0.004112863918538641]\n",
            "[0.9953157643766714, 0.004668158439724751, 0.004490356236424406, 0.00443570326189835, 0.004354307887891669]\n",
            "[0.9955341182326198, 0.004441813091903278, 0.004313774797784359, 0.004230193309596627, 0.004109842628043035]\n",
            "[0.9943619949316188, 0.005661677565120318, 0.005247251077765473, 0.005332737366187285, 0.005449223897846222]\n",
            "[0.9955350937204306, 0.0044408029044838765, 0.0043129828970122994, 0.004229275069045754, 0.0041087560189770785]\n",
            "[0.9955327259399673, 0.00444325492623823, 0.004314905013065533, 0.004231503892397283, 0.004111393607969965]\n",
            "[0.9952802852377028, 0.004704977500425308, 0.0045189232138406, 0.004469090003580015, 0.004394259089338754]\n",
            "[0.9950189183771331, 0.004976559736849761, 0.004728339653875421, 0.00471499745356827, 0.004690489711049649]\n",
            "[0.9945269122282671, 0.0054893591123393055, 0.005117925898657532, 0.005177698628823627, 0.0052569129264591775]\n",
            "[0.9954506665178681, 0.004528266629832709, 0.004381419952597581, 0.004308743187929914, 0.004202984187351124]\n",
            "[0.9954377695419044, 0.004541633355103249, 0.004391856466115785, 0.004320881842404176, 0.004217410861227199]\n",
            "[0.9954753020345101, 0.004502738132121087, 0.004361471289256293, 0.0042855556289738556, 0.004175450544689012]\n",
            "[0.9955395150542322, 0.0044362244105656925, 0.00430939331482696, 0.004225113189616302, 0.0041038316604246755]\n",
            "[0.9955394315667313, 0.004436310863977596, 0.004309461101695281, 0.0042251917781007085, 0.004103924636991475]\n",
            "[0.994984359120798, 0.005012514132859375, 0.004755897564364314, 0.004747506779890896, 0.004729907211635773]\n",
            "[0.9955412554965624, 0.0044344221537790055, 0.004307980133651577, 0.0042234748738155525, 0.0041018934851974114]\n",
            "[0.9955284474025639, 0.004447685821374871, 0.004318377832702568, 0.004235531318857339, 0.004116160428864113]\n",
            "[0.9955354933833263, 0.004440389027576356, 0.004312658442837771, 0.004228898860331363, 0.004108310843463654]\n",
            "[0.9955457396280045, 0.004429778894595447, 0.004304338764781457, 0.00421925384682463, 0.004096900640217231]\n",
            "[0.9954422824078007, 0.004536955939621534, 0.004388205090062223, 0.004316634349090028, 0.004212361753813793]\n",
            "[0.9952455573870896, 0.004741027891069146, 0.004546852299761714, 0.004501768319513565, 0.004433425376854593]\n",
            "[0.9955381628870333, 0.0044376246219555784, 0.004310491169112991, 0.0042263860110473925, 0.004105337557899802]\n",
            "[0.9954620064070975, 0.004516514989355518, 0.004372239587767339, 0.004298069896396807, 0.004190306374165086]\n",
            "[0.9943975410127635, 0.00562451861197283, 0.0052194276562039996, 0.005299322763075428, 0.005407672614568799]\n",
            "[0.9950019533396605, 0.004994208371775923, 0.0047418715247282165, 0.00473095635240643, 0.004709832506290877]\n",
            "[0.9948693708552196, 0.005132217104241773, 0.004847375232710424, 0.004855664887588935, 0.004861468668275568]\n",
            "[0.994995079545709, 0.005001359840789718, 0.004747352215136325, 0.004737422393834824, 0.004717673628136865]\n",
            "[0.9954370153405427, 0.004542415074913945, 0.004392466637238752, 0.004321591691595854, 0.00421825478286927]\n",
            "[0.9943586536228594, 0.005665170976226997, 0.005249865032521441, 0.005335878254108976, 0.005453132516879015]\n",
            "[0.9955461008690819, 0.004429404842551497, 0.004304045391231028, 0.004218913800304122, 0.004096498463151389]\n",
            "[0.9949149100006375, 0.005084797500635589, 0.004811186314304908, 0.004812832438375288, 0.004809291284019408]\n",
            "[0.9955313484290262, 0.0044446814710311965, 0.0043160231740329204, 0.004232800558582519, 0.004112928221302746]\n",
            "[0.9953068589703735, 0.004677399100365637, 0.004497529879011732, 0.004444083608999518, 0.004364329851381805]\n",
            "[0.9954619600278857, 0.004516563050144931, 0.0043722771421117815, 0.004298113549602915, 0.004190358211845775]\n",
            "[0.995049349661767, 0.004944908414340491, 0.004704048334785997, 0.004686370138882725, 0.004655827911103583]\n",
            "[0.994943168648592, 0.005055380695025617, 0.004788704010330336, 0.004786252254733054, 0.004776962529326431]\n",
            "[0.9949168032333968, 0.00508282646561065, 0.004809680696678324, 0.004811051684275661, 0.004807124188539107]\n",
            "[0.9952808496648257, 0.0047043916678249946, 0.004518469017530395, 0.004468558875497789, 0.004393623022877657]\n",
            "[0.9954521220050779, 0.004526758226621862, 0.004380241846047301, 0.004307373268152488, 0.0042013566047296915]\n",
            "[0.9952795243179436, 0.004705767282045026, 0.004519535514766905, 0.00446980603138749, 0.0043951166133242275]\n",
            "[0.9949600885974331, 0.005037770515630243, 0.004775233140297549, 0.004770336872076649, 0.004757623696390895]\n",
            "[0.9954709350013078, 0.0045072630454073915, 0.004365008758401807, 0.004289666043701085, 0.004180329026979137]\n",
            "[0.9955382744931669, 0.004437509049657276, 0.004310400555638654, 0.004226280954098269, 0.004105213259439897]\n",
            "[0.9948775798832529, 0.00512366782103813, 0.004840855478124807, 0.00484794394320767, 0.004852055812441121]\n",
            "[0.9952747597807242, 0.004710712657877938, 0.004523369111907677, 0.004474289459806614, 0.004400486701924052]\n",
            "[0.9943147634057935, 0.0057110669889177, 0.0052841783246380366, 0.005377134811988953, 0.005504519610492584]\n",
            "[0.994943168648592, 0.005055380695025617, 0.004788704010330336, 0.004786252254733054, 0.004776962529326431]\n",
            "[0.9949618642267384, 0.0050359225917430556, 0.004773819052376275, 0.004768666646637406, 0.004755595010433383]\n",
            "[0.9954418079939309, 0.004537447642792238, 0.0043885889670124065, 0.004317080866914729, 0.004212892490599092]\n",
            "[0.9952985231343666, 0.00468604940006811, 0.004504242754691106, 0.004451927881741209, 0.004373714448329898]\n",
            "[0.9949947308972958, 0.005001722583994896, 0.004747630171594923, 0.004737750359072475, 0.004718071400961003]\n",
            "[0.9949451660024354, 0.005053301735560052, 0.004787114183069838, 0.004784373503574092, 0.004774678925766228]\n",
            "[0.9945155115236777, 0.0055012646990319205, 0.005126885766553592, 0.005188417299212951, 0.005270168766954608]\n",
            "[0.995264647023378, 0.0047212099234221995, 0.004531503912900081, 0.004483805473121135, 0.0044118885092754015]\n",
            "[0.9949933905806897, 0.00500311709515116, 0.004748698697028298, 0.004739011161644982, 0.004719600621686125]\n",
            "[0.9949532924507748, 0.005044843613041784, 0.004780644773442739, 0.00477672955777488, 0.004765389790646728]\n",
            "[0.9954524693261658, 0.004526398281181101, 0.004379960707115759, 0.004307046365527152, 0.004200968232885228]\n",
            "[0.9955422209194252, 0.004433422454899703, 0.0043071962046991, 0.004222566098861058, 0.004100818448432339]\n",
            "[0.9942786356455567, 0.005748856671503842, 0.005312391513595183, 0.005411093311697969, 0.005546880704506609]\n",
            "[0.9950085926763687, 0.004987301213682358, 0.0047365766401356105, 0.004724710810355158, 0.004702260982319702]\n",
            "[0.9952256137422547, 0.004761735934642618, 0.00456287688800962, 0.00452053430795212, 0.004455945117712869]\n",
            "[0.9953149939967176, 0.004668957793083759, 0.004490976892129824, 0.004436428224299941, 0.004355174700014293]\n",
            "[0.9942231596799688, 0.0058069035676362865, 0.005355659527724767, 0.005463235844604363, 0.005612037186391437]\n",
            "[0.9952761024362575, 0.00470931902098724, 0.0045222888591093325, 0.00447302602398153, 0.004398973285864192]\n",
            "[0.9955508203665803, 0.004424518088331577, 0.004300212213774327, 0.0042144711876663885, 0.004091244779564656]\n",
            "[0.9952245254373778, 0.0047628660541646104, 0.004563751028031914, 0.004521558335877903, 0.004457174566238398]\n",
            "[0.9949529411797627, 0.00504520920935754, 0.004780924451995967, 0.004777059973802802, 0.004765791254751985]\n",
            "[0.9949869261481227, 0.005009843126165815, 0.004753851627085844, 0.004745092064956192, 0.00472697735581781]\n",
            "[0.9954572982753382, 0.004521393927259712, 0.0043760515627221065, 0.004302501287272541, 0.004195569183200465]\n",
            "[0.9954430175449819, 0.004536194015617097, 0.004387610233587882, 0.00431594243821715, 0.004211539363274993]\n",
            "[0.9943458650160073, 0.0056785425243105, 0.005259867486450545, 0.005347899665240383, 0.005468096934951744]\n",
            "[0.9944558270542944, 0.005563608779063249, 0.0051737441477990075, 0.005244529093268124, 0.005339659121350557]\n",
            "[0.9952416008551656, 0.004745135786035022, 0.004550032193639741, 0.004505491258481108, 0.004437891396181227]\n",
            "[0.9952694468017163, 0.004716227532759701, 0.004527643268145733, 0.004479288940135496, 0.0044064762766040134]\n",
            "[0.9943576347098363, 0.005666236288823783, 0.005250662094371988, 0.005336836047784402, 0.005454324524341647]\n",
            "[0.9952895213158091, 0.004695391512245441, 0.0045114898283530585, 0.004460398771241763, 0.004383852738644551]\n",
            "[0.9954439024770746, 0.004535276845183013, 0.004386894146239016, 0.00431510953953981, 0.00421054943561586]\n",
            "[0.9952310121294987, 0.004756130287726753, 0.004558540368858839, 0.004515454737222507, 0.0044498474759914]\n",
            "[0.9954368512382137, 0.004542585165525984, 0.004392599398737904, 0.004321746143499214, 0.00421843841079565]\n",
            "[0.9954525723880423, 0.0045262914734505435, 0.0043798772830608125, 0.0043069493624683375, 0.00420085299106315]\n",
            "[0.9943452040190487, 0.005679233685024823, 0.0052603843799091145, 0.005348521004310085, 0.0054688705844090114]\n",
            "[0.9941875980150711, 0.005844125267833374, 0.005383360981514165, 0.0054966591522797245, 0.005653873315575164]\n",
            "[0.9955509188540043, 0.004424416112825313, 0.0043001322153818225, 0.004214378478031422, 0.004091135157095268]\n",
            "[0.9954749478186462, 0.004503105147174531, 0.0043617582382651995, 0.004285889031054517, 0.0041758462080508565]\n",
            "[0.995034160524141, 0.004960705515014507, 0.004716175786631593, 0.004700658992416712, 0.004673123054678722]\n",
            "[0.9949522181954474, 0.005045961681223931, 0.00478150007534805, 0.0047777400340621445, 0.00476661756468491]\n",
            "[0.9942786356455567, 0.005748856671503842, 0.005312391513595183, 0.005411093311697969, 0.005546880704506609]\n",
            "[0.9954550971237904, 0.004523675005475253, 0.00437783352681069, 0.004304573047179936, 0.004198030050992212]\n",
            "[0.9949435248996333, 0.005055009886217796, 0.0047884204536364034, 0.00478591715816619, 0.004776555208497616]\n",
            "[0.9954479276298752, 0.004531105147084984, 0.004383636712611649, 0.004311321050852141, 0.004206047215160804]\n",
            "[0.9952794317119652, 0.004705863400945669, 0.004519610032365508, 0.004469893173847972, 0.00439522097827607]\n",
            "[0.995472996673092, 0.004505126816288664, 0.004363338790428732, 0.0042877255241783934, 0.00417802577752354]\n",
            "[0.9954521708706026, 0.004526707584875502, 0.004380202292071768, 0.004307327275364584, 0.004201301963289073]\n",
            "[0.9949168032333968, 0.00508282646561065, 0.004809680696678324, 0.004811051684275661, 0.004807124188539107]\n",
            "[0.9942433509463697, 0.005785773926301044, 0.005339919154963224, 0.005444258166893546, 0.005588307339117868]\n",
            "[0.9944812285837876, 0.005537071955067683, 0.005153811167903968, 0.0052206485173200284, 0.005310064994211514]\n",
            "[0.995447622149959, 0.0045314217434228275, 0.004383883944233438, 0.0043116085703785315, 0.004206388871762666]\n",
            "[0.9942976968755749, 0.005728917381671024, 0.00529750958217613, 0.005393176753009064, 0.005524523731817717]\n",
            "[0.9952511092311114, 0.004735263889264947, 0.004542389533982664, 0.004496544224363173, 0.0044271599297682224]\n",
            "[0.9950021165104289, 0.004994038614423822, 0.00474174140907381, 0.004730802860267478, 0.004709646400459297]\n",
            "[0.9955482132742033, 0.004427217548529418, 0.00430232977483699, 0.004216925329865412, 0.004094146816526483]\n",
            "[0.9953020073306593, 0.0046824336883066996, 0.00450143715000304, 0.004448649158162327, 0.004369791467998891]\n",
            "[0.9941708194913029, 0.0058616902553110745, 0.005396421631813805, 0.005512428354441074, 0.005673630842670314]\n",
            "[0.9940573856776478, 0.005980494976199558, 0.00548456535360025, 0.005619031624057386, 0.005807515417222001]\n",
            "[0.9950652069074004, 0.004928418582436599, 0.004691381151453516, 0.00467145250043607, 0.004637783892764]\n",
            "[0.9952611828432149, 0.004724806030404768, 0.004534289899453455, 0.004487065207578272, 0.004415795435930039]\n",
            "[0.9943765982565657, 0.005646410464629376, 0.005235823805154857, 0.005319009861178726, 0.005432146812426824]\n",
            "[0.9942643493066433, 0.005763802894324835, 0.005323540340018679, 0.005424521494867606, 0.005563647416400741]\n",
            "[0.9954353930017819, 0.004544096625703004, 0.004393779102857892, 0.00432311862343175, 0.00422007021531277]\n",
            "[0.9954318879018931, 0.004547729738212308, 0.004396614462059026, 0.004326417583434584, 0.004223992960834134]\n",
            "[0.9955435221239513, 0.004432075066944458, 0.004306139576447908, 0.004221341242970329, 0.0040993695827606855]\n",
            "[0.9955353788910534, 0.004440507591611779, 0.004312751390380806, 0.004229006633655963, 0.004108438372977067]\n",
            "[0.9950014450926538, 0.004994737136236957, 0.0047422768068050535, 0.004731434452068099, 0.004710412199974203]\n",
            "[0.9943929833126941, 0.005629282576253453, 0.0052229967178505175, 0.005303607235073298, 0.005412997222637146]\n",
            "[0.9955369614623802, 0.004438868749335423, 0.004311466587898924, 0.004227516933637428, 0.004106675655026497]\n",
            "[0.9955349228977556, 0.004440979802931332, 0.004313121572802555, 0.0042294358669458946, 0.004108946297065844]\n",
            "[0.9952616797778608, 0.004724290164309782, 0.004533890271140756, 0.004486597601421094, 0.004415234952733116]\n",
            "[0.9955342621669261, 0.004441664037061974, 0.004313657953675931, 0.0042300578222623396, 0.004109682294538697]\n",
            "[0.9950261852838294, 0.004969000766650796, 0.00472254109704326, 0.004708161424146075, 0.004682208522943609]\n",
            "[0.9955396788033357, 0.00443605484443387, 0.004309260359742406, 0.004224959049225851, 0.004103649300901384]\n",
            "[0.9944072336032609, 0.0056143878985423935, 0.0052118360169417805, 0.005290211162896532, 0.005396352100928379]\n",
            "[0.9954324392904522, 0.004547158204359356, 0.0043961684535454735, 0.00432589862381778, 0.004223375830400877]\n",
            "[0.9955352921552167, 0.0044405974121742115, 0.0043128218043387715, 0.004229088279412549, 0.00410853498588487]\n",
            "[0.9950577874847162, 0.004936133715130544, 0.004697308782637865, 0.004678432326985003, 0.004646224970141685]\n",
            "[0.9943319477186755, 0.005693095616558654, 0.00527074866761918, 0.0053609818760657416, 0.00548439012490691]\n",
            "[0.9950176100845736, 0.00497792065886932, 0.0047293834506038366, 0.004716228167167833, 0.004691980878261252]\n",
            "[0.9949053711141838, 0.005094728843891425, 0.004818770885853038, 0.004821804551554767, 0.004820212575328424]\n",
            "[0.9954469539221064, 0.004532114291141061, 0.004384424746567829, 0.0043122375100334434, 0.004207136251769601]\n",
            "[0.9942451725345356, 0.00578386782986988, 0.00533849868265325, 0.00544254604561042, 0.0055861673673294355]\n",
            "[0.9954521708706026, 0.004526707584875502, 0.004380202292071768, 0.004307327275364584, 0.004201301963289073]\n",
            "[0.9942924302347562, 0.005734426359518149, 0.005301622263066788, 0.005398127154557884, 0.0055306994292792944]\n",
            "[0.9955543783678832, 0.004420834133770495, 0.004297321977168414, 0.004211121909601345, 0.004087284831877719]\n",
            "[0.9943765982565657, 0.005646410464629376, 0.005235823805154857, 0.005319009861178726, 0.005432146812426824]\n",
            "[0.9948791814460346, 0.005121999940617418, 0.0048395832958727835, 0.004846437595943203, 0.004850219753963752]\n",
            "[0.9955433901363762, 0.004432211738396219, 0.004306246757680125, 0.004221465486225061, 0.004099516544284934]\n",
            "[0.9953058959637127, 0.004678398403629316, 0.004498305487960815, 0.004444989831502003, 0.004365413838755928]\n",
            "[0.9954503652741182, 0.00452857882813675, 0.004381663779102482, 0.004309026721369805, 0.004203321063525594]\n",
            "[0.9948894649970157, 0.00511129107671645, 0.004831413177290925, 0.004836765352625339, 0.0048384333869229]\n",
            "[0.9952761958871089, 0.004709222022360645, 0.004522213670071451, 0.004472938086861749, 0.004398867953181121]\n",
            "[0.9955434159629446, 0.004432184995300651, 0.004306225785113586, 0.004221441175022306, 0.004099487787628411]\n",
            "[0.9955437855892024, 0.004431802252530882, 0.004305925626542312, 0.004221093236375415, 0.0040990762301908925]\n",
            "[0.995421307975317, 0.004558696756042734, 0.004405170725451156, 0.004336375198057398, 0.0042358373547772615]\n",
            "[0.9955397055655403, 0.004436027131552294, 0.004309238630260269, 0.004224933857410549, 0.00410361949725139]\n",
            "[0.9949627503076114, 0.005035000444146232, 0.004773113359637708, 0.004767833163477718, 0.0047545827043818005]\n",
            "[0.9955312585274652, 0.004444774573353501, 0.0043160961475339045, 0.004232885183826627, 0.0041130283794109735]\n",
            "[0.9954455663289838, 0.004533552398435723, 0.00438554769693874, 0.00431354351839712, 0.004208688280008521]\n",
            "[0.994391672899641, 0.005630652322938527, 0.005224022796297448, 0.005304839086842022, 0.005414528301946668]\n",
            "[0.9949063307728395, 0.0050937296676856056, 0.004818007942697664, 0.004820901917549654, 0.0048191136459289465]\n",
            "[0.9942466361525018, 0.005782336328679884, 0.005337357303582978, 0.0054411703803114485, 0.005584448035705442]\n",
            "[0.9949343613402739, 0.00506454824330862, 0.004795713148921394, 0.0047945365336956175, 0.004787034306690769]\n",
            "[0.994943168648592, 0.005055380695025617, 0.004788704010330336, 0.004786252254733054, 0.004776962529326431]\n",
            "[0.9954392112740225, 0.0045401390334404955, 0.004390690017801799, 0.004319524891992986, 0.004215797701215434]\n",
            "[0.9955392943021506, 0.0044364530050555245, 0.004309572551905159, 0.004225320988026, 0.004104077503655401]\n",
            "[0.9942437073857378, 0.005785400948833669, 0.0053396412095556645, 0.005443923147711961, 0.005587888588867085]\n",
            "[0.9944558270542944, 0.005563608779063249, 0.0051737441477990075, 0.005244529093268124, 0.005339659121350557]\n",
            "[0.9955482870880153, 0.004427141118642978, 0.004302269823684415, 0.004216855846603337, 0.004094064647129294]\n",
            "[0.9954367457459511, 0.004542694507455155, 0.004392684743323482, 0.00432184543202218, 0.004218556455710881]\n",
            "[0.995437231956894, 0.004542190554366989, 0.004392291389866777, 0.0043213878138311035, 0.004218012394700224]\n",
            "[0.9949295537754036, 0.005069552724574314, 0.004799538348503752, 0.0047990585614419825, 0.004792533645012013]\n",
            "[0.9943137097135487, 0.005712169013682426, 0.005285001583229176, 0.005378125253928317, 0.005505754306895997]\n",
            "[0.995461293679917, 0.0045172535602086925, 0.004372816693092805, 0.004298740731704711, 0.004191102996010012]\n",
            "[0.994950417394093, 0.005047835949034005, 0.004782933774851308, 0.004779433918151814, 0.00476867583619948]\n",
            "[0.9952102302626912, 0.00477771145457164, 0.004575230160450825, 0.004535009087169632, 0.004473329152913917]\n",
            "[0.99441076254522, 0.005610699620094844, 0.005209071486467195, 0.005286893728835905, 0.005392231473246306]\n",
            "[0.9943305733788245, 0.005694532820767065, 0.005271822960161877, 0.005362273740560404, 0.005485999539861131]\n",
            "[0.9954373372033013, 0.004542081467741678, 0.00439220624274183, 0.004321288756642411, 0.004217894627528128]\n",
            "[0.9953063349167444, 0.0046779429050134245, 0.004497951956777368, 0.004444576761687582, 0.004364919735094123]\n",
            "[0.9949602624340479, 0.005037589600096355, 0.004775094702581175, 0.0047701733548026915, 0.0047574250785557435]\n",
            "[0.9955282663245931, 0.004447873351328154, 0.0043185247991257255, 0.004235701768702109, 0.00411636219329039]\n",
            "[0.9941366817771311, 0.005897434485168336, 0.00542297661483362, 0.005544511682638575, 0.005713866361546784]\n",
            "[0.9949076637189976, 0.00509234184525243, 0.004816948192542467, 0.004819648175795459, 0.0048175873275675355]\n",
            "[0.9941917531279632, 0.005839775711133253, 0.0053801256603405985, 0.005492753951757461, 0.005648982309534403]\n",
            "[0.9943782466596616, 0.005644687237191751, 0.005234533615857536, 0.005317460306380234, 0.005430219757110856]\n",
            "[0.9955409296201696, 0.004434759601971452, 0.004308244741085393, 0.004223781628564025, 0.004102256372556772]\n",
            "[0.9952566821533912, 0.0047294782815339425, 0.004537908992456887, 0.004491300258802994, 0.004420872240377114]\n",
            "[0.995431833906997, 0.0045477857059946425, 0.004396658137122077, 0.004326468402696297, 0.00422405339436413]\n",
            "[0.9949696246179416, 0.0050278465501126255, 0.004767637851172933, 0.004761366882417965, 0.004746730394169913]\n",
            "[0.9954519208821906, 0.0045269666603965746, 0.004380404643339305, 0.004307562567272324, 0.004201581501685299]\n",
            "[0.995528628201533, 0.004447498580674837, 0.00431823109177976, 0.0042353611315971325, 0.004115958977023696]\n",
            "[0.9949250775940884, 0.005074212423621415, 0.004803099361993576, 0.004803268864850749, 0.004797654898781822]\n",
            "[0.9952504872996052, 0.004735909573485197, 0.004542889505350383, 0.004497129442421718, 0.004427861724488831]\n",
            "[0.9955411733757924, 0.00443450719054409, 0.00430804681494834, 0.0042235521759483976, 0.004101984932196841]\n",
            "[0.9955459973835442, 0.004429511997948265, 0.004304129434992935, 0.0042190112142067495, 0.004096613675013317]\n",
            "[0.9954396917390981, 0.0045396410469171295, 0.0043903012795530345, 0.004319072680314483, 0.004215260130636532]\n",
            "[0.9943975410127635, 0.00562451861197283, 0.0052194276562039996, 0.005299322763075428, 0.005407672614568799]\n",
            "[0.995459620281246, 0.004518987655446199, 0.0043741716112511465, 0.0043003157707693345, 0.004192973472568548]\n",
            "[0.9942261313561215, 0.005803793595278169, 0.005353343464192342, 0.005460442804188138, 0.005608543624509575]\n",
            "[0.9952601870365392, 0.004725839780460584, 0.004535090694092723, 0.004488002242057444, 0.00441691862457388]\n",
            "[0.9949599147165121, 0.005037951477530515, 0.0047753716125411814, 0.00477050043099362, 0.004757822366285287]\n",
            "[0.995468481053385, 0.004509805788751369, 0.004366996315417519, 0.004291975780741048, 0.004183070804645979]\n",
            "[0.9952935517178805, 0.004691208659257314, 0.00450824535355366, 0.004456606095001496, 0.004379312998784551]\n",
            "[0.9949933905806897, 0.00500311709515116, 0.004748698697028298, 0.004739011161644982, 0.004719600621686125]\n",
            "[0.994943168648592, 0.005055380695025617, 0.004788704010330336, 0.004786252254733054, 0.004776962529326431]\n",
            "[0.9954402229712048, 0.004539090444511526, 0.0043898714587713925, 0.0043185726865918985, 0.004214665772966641]\n",
            "[0.9954593799269559, 0.004519236729883981, 0.004374366214906578, 0.0043005419971471805, 0.004193242145516875]\n",
            "[0.9943802146317643, 0.005642629961917799, 0.005232993224601801, 0.0053156103424109365, 0.005427919266514921]\n",
            "[0.9952886894405762, 0.00469625487162971, 0.00451215943331383, 0.0044611815774459355, 0.004384789842718595]\n",
            "[0.9949522181954474, 0.005045961681223931, 0.00478150007534805, 0.0047777400340621445, 0.00476661756468491]\n",
            "[0.9952981619180422, 0.004686424257253868, 0.004504533600662532, 0.0044522677953108235, 0.004374121189522694]\n",
            "[0.9942804114000675, 0.005746999001643813, 0.005311005436321014, 0.0054094242100781965, 0.005544797257670741]\n",
            "[0.995442019627924, 0.004537228295856699, 0.0043884177219342835, 0.004316881677261908, 0.004212655729762344]\n",
            "[0.9952709035544685, 0.004714715397391163, 0.0045264714234749814, 0.004477918148143623, 0.00440483386923332]\n",
            "[0.995532960303989, 0.004443012221595745, 0.004314714768329206, 0.0042312832827305245, 0.004111132525083652]\n",
            "[0.9943798929186751, 0.005642966271777149, 0.005233245044994711, 0.005315912764447737, 0.00542829532634387]\n",
            "[0.9949599147165121, 0.005037951477530515, 0.0047753716125411814, 0.00477050043099362, 0.004757822366285287]\n",
            "[0.9955380783376538, 0.004437712176058679, 0.004310559814859005, 0.004226465598955453, 0.004105431723030543]\n",
            "[0.994917563326699, 0.005082035144785506, 0.004809076197739555, 0.004810336747699023, 0.004806254192681171]\n",
            "[0.99553016178356, 0.004445910370771219, 0.004316986360728712, 0.0042339175590838315, 0.0041142502809578315]\n",
            "[0.9944142814139525, 0.0056070219644972505, 0.005206314572308026, 0.005283585752091333, 0.005388123149920546]\n",
            "[0.9955434417830026, 0.004432158258953045, 0.004306204817814688, 0.004221416869947262, 0.004099459038256062]\n",
            "[0.9954428069494059, 0.004536412284329181, 0.0043877806443481555, 0.004316140650771893, 0.004211774951572816]\n",
            "[0.9952555759847932, 0.0047306266438827665, 0.0045387984009319865, 0.004492341135736198, 0.004422120159784137]\n",
            "[0.9949760707009454, 0.005021138663524183, 0.004762502355933382, 0.004755303363556977, 0.004739369278030767]\n",
            "[0.9944091564971144, 0.005612378171636394, 0.005210329679363158, 0.005288403519616341, 0.0053941067344886835]\n",
            "[0.9949349227849598, 0.005063963814700204, 0.004795266390879533, 0.004794008433409315, 0.004786392145536974]\n",
            "[0.994278983116504, 0.005748493169907543, 0.005312120298134565, 0.00541076671030329, 0.005546473015183638]\n",
            "[0.99433228163173, 0.005692746431972742, 0.005270487648590897, 0.00536066800115476, 0.005483999109745355]\n",
            "[0.9955284178007734, 0.004447716477884466, 0.004318401858159445, 0.004235559183213777, 0.004116193412263652]\n",
            "[0.9955461260123369, 0.00442937880766851, 0.004304024971579894, 0.004218890132235555, 0.004096470470907241]\n",
            "[0.9954570072874602, 0.004521695478684963, 0.004376287142706872, 0.004302775170175379, 0.004195894490698663]\n",
            "[0.9950014450926538, 0.004994737136236957, 0.0047422768068050535, 0.004731434452068099, 0.004710412199974203]\n",
            "[0.9952835766988875, 0.004701561253504988, 0.004516274443088555, 0.00446599272069013, 0.0043905500876665485]\n",
            "[0.9954528160232866, 0.004526038983511861, 0.004379680069855548, 0.004306720050038307, 0.004200580564965101]\n",
            "[0.9954662244306589, 0.004512144116596451, 0.0043688238995756475, 0.004294099782183638, 0.004185592387430125]\n",
            "[0.9954236134094693, 0.004556306883560862, 0.004403306528135136, 0.0043342053813898865, 0.004233255895096768]\n",
            "[0.9955509667057653, 0.004424366566354685, 0.004300093346724317, 0.004214333433501369, 0.0040910818953702605]\n",
            "[0.9955520608964562, 0.004423233629963358, 0.004299204547880063, 0.0042133034328856065, 0.004089864031867244]\n",
            "[0.9955509427829, 0.004424391336465099, 0.004300112778612065, 0.004214355952928281, 0.004091108522861451]\n",
            "[0.9955210178338365, 0.004455380368519239, 0.004324407040697628, 0.004242524785278635, 0.004124440163875443]\n",
            "[0.9953020073306593, 0.0046824336883066996, 0.00450143715000304, 0.004448649158162327, 0.004369791467998891]\n",
            "[0.9954206709359089, 0.004559357136221917, 0.0044056858156750625, 0.00433697476238507, 0.0042365507138914385]\n",
            "[0.9952404516310456, 0.004746329001688154, 0.004550955754931859, 0.0045065726291620145, 0.004439188753316105]\n",
            "[0.99422464629446, 0.005805347760736385, 0.005354500914385038, 0.005461838595697933, 0.005610289445677102]\n",
            "[0.9949340004168666, 0.005064923943277965, 0.0047960003421441185, 0.0047948760215511576, 0.00478744712636966]\n",
            "[0.9949513183814402, 0.005046898201102187, 0.004782216468154174, 0.004778586424714581, 0.004767646010655483]\n",
            "[0.9955410383583077, 0.004434647002453297, 0.004308156447459041, 0.004223679270933697, 0.00410213528401409]\n",
            "[0.9954546526360024, 0.004524135638691558, 0.004378193349688624, 0.004304991405643396, 0.004198527014736087]\n",
            "[0.9954448404496967, 0.00453430470991403, 0.004386135114377873, 0.004314226718027143, 0.004209500218321529]\n",
            "[0.9952571849270179, 0.0047289563337135805, 0.004537504729350751, 0.004490827160941713, 0.0044203050586252846]\n",
            "[0.995442755716176, 0.0045364653843254985, 0.004387822101315298, 0.004316188871479385, 0.0042118322653229776]\n",
            "[0.9942290560680553, 0.005800732836625281, 0.00535106381961175, 0.005457693896683772, 0.005605105641948527]\n",
            "[0.9955381900314351, 0.004437596512907973, 0.004310469130495735, 0.004226360459513731, 0.004105307326460576]\n",
            "[0.9952403491037444, 0.004746435454240104, 0.004551038148148507, 0.0045066691028864386, 0.004439304499403626]\n",
            "[0.9954265789403136, 0.0045532328104434415, 0.004400908350806449, 0.004331414288725838, 0.004229935707859782]\n",
            "[0.9954370153405427, 0.004542415074913945, 0.004392466637238752, 0.004321591691595854, 0.00421825478286927]\n",
            "[0.9950109042922656, 0.0049848964387971045, 0.004734732859821875, 0.004722536290307138, 0.004699625302440815]\n",
            "[0.9948789869388796, 0.0051222025008008185, 0.00483973780366884, 0.004846620539479063, 0.004850442733813961]\n",
            "[0.9954474163455084, 0.004531635037593515, 0.004384050504821807, 0.004311802274694734, 0.004206619051470743]\n",
            "[0.9954448911558754, 0.004534252157159075, 0.004386094080911445, 0.004314178993249898, 0.004209443499621256]\n",
            "[0.9954238999772461, 0.004556009823464885, 0.0044030747961271545, 0.004333935670547025, 0.004232935036138275]\n",
            "[0.9941879686166583, 0.0058437373183108715, 0.005383072432567365, 0.005496310841460564, 0.005653437048712186]\n",
            "[0.9948177621204278, 0.005185977759112142, 0.004888326075650271, 0.0049042034628682864, 0.004920717807265341]\n",
            "[0.9954451502256683, 0.004533983653148892, 0.004385884430149667, 0.00431393515608936, 0.004209153712510407]\n",
            "[0.9955383287188556, 0.004437452896984581, 0.00431035652945131, 0.004226229910433663, 0.004105152867209841]\n",
            "[0.9954518719534631, 0.004527017367757523, 0.004380444248128573, 0.004307608619532387, 0.004201636214430682]\n",
            "[0.9948387659909651, 0.005164095436276249, 0.0048716676161588875, 0.004884449439795947, 0.004896589430438265]\n",
            "[0.9943305733788245, 0.005694532820767065, 0.005271822960161877, 0.005362273740560404, 0.005485999539861131]\n",
            "[0.9954324392904522, 0.004547158204359356, 0.0043961684535454735, 0.00432589862381778, 0.004223375830400877]\n",
            "[0.9952885088580107, 0.004696442289565976, 0.004512304787948526, 0.004461351508051752, 0.004384993272831997]\n",
            "[0.9950248922341307, 0.004970345752106915, 0.004723572971502889, 0.004709377809262817, 0.004683681865150766]\n",
            "[0.9941327541154198, 0.005901547528332812, 0.005426030287441838, 0.005548202910527286, 0.0057184987456065]\n",
            "[0.9948978400759563, 0.005102570268376082, 0.004824757385172334, 0.004828888047094825, 0.004828838063456274]\n",
            "[0.9955340900612759, 0.004441842265479972, 0.00431379766686668, 0.00423021982766557, 0.0041098740092244046]\n",
            "[0.9952513087959369, 0.004735056703424188, 0.004542229101416332, 0.004496356440019228, 0.004426934742591671]\n",
            "[0.9955224574953995, 0.004453889319944045, 0.0043232388575363025, 0.004241169634674851, 0.004122835536329226]\n",
            "[0.9955372144390462, 0.004438606779874341, 0.004311261203375554, 0.004227278802312326, 0.00410639389378508]\n",
            "[0.9955542834688413, 0.004420932390668963, 0.0042973990703499675, 0.004211211241783188, 0.004087390443003072]\n",
            "[0.994896679345282, 0.00510377887989386, 0.004825679937298979, 0.004829979794207376, 0.00483016771504242]\n",
            "[0.9955284474025639, 0.004447685821374871, 0.004318377832702568, 0.004235531318857339, 0.004116160428864113]\n",
            "[0.9954521220050779, 0.004526758226621862, 0.004380241846047301, 0.004307373268152488, 0.0042013566047296915]\n",
            "[0.9955432579785418, 0.004432348586315853, 0.004306354076667557, 0.00422158988972729, 0.004099663696300004]\n",
            "[0.9955407413062364, 0.004434954603352682, 0.004308397648174216, 0.004223958892626686, 0.0041024660765262505]\n",
            "[0.9952713878795829, 0.004714212663503939, 0.0045260818087804995, 0.004477462401760487, 0.0044042878432245455]\n",
            "[0.994365002052553, 0.00565853362702409, 0.005244898353563673, 0.005329910611314881, 0.005445706621769062]\n",
            "[0.9952565837482008, 0.004729580439851986, 0.004537988115915108, 0.004491392855679791, 0.004420983253300909]\n",
            "[0.9941673563877417, 0.005865315943104154, 0.005399116622451261, 0.005515683100215122, 0.0056777102976471126]\n",
            "[0.9955370468882052, 0.0044387802867316625, 0.004311397233320342, 0.004227436520835184, 0.00410658050877556]\n",
            "[0.9943805362629708, 0.005642293738442922, 0.00523274146602311, 0.005315307997245768, 0.005427543306904661]\n",
            "[0.9955367078964495, 0.004439131329619796, 0.0043116724489749856, 0.0042277556195667405, 0.004106958075945893]\n",
            "[0.9949783317269675, 0.005018785890849792, 0.004760700783947366, 0.004753176514729554, 0.004736787764168531]\n",
            "[0.9954474664005034, 0.004531583160940233, 0.0043840099946834184, 0.004311755162654395, 0.004206563067815106]\n",
            "[0.9943285281192726, 0.005696671659910153, 0.005273421620276853, 0.0053641962588910005, 0.0054883947836834954]\n",
            "[0.9955249149714027, 0.004451344172694699, 0.004321244652439133, 0.00423885641132069, 0.004120096716643867]\n",
            "[0.9952655351331261, 0.004720288009041909, 0.004530789619178357, 0.004482969774711748, 0.004410886989426574]\n",
            "[0.9954519208821906, 0.0045269666603965746, 0.004380404643339305, 0.004307562567272324, 0.004201581501685299]\n",
            "[0.9952595905209412, 0.004726459029451663, 0.0045355703793346375, 0.004488563550932405, 0.004417591469186668]\n",
            "[0.9955338015625026, 0.00444214102841243, 0.004314031864605894, 0.004230491395424326, 0.004110195381883346]\n",
            "[0.995442019627924, 0.004537228295856699, 0.0043884177219342835, 0.004316881677261908, 0.004212655729762344]\n",
            "[0.9952651394640905, 0.004720698737779941, 0.004531107852639604, 0.004483342093658304, 0.004411333179855586]\n"
          ]
        }
      ],
      "source": [
        "y_pred = mlp_net.predict(X_test)"
      ]
    },
    {
      "cell_type": "code",
      "execution_count": 116,
      "metadata": {},
      "outputs": [
        {
          "name": "stdout",
          "output_type": "stream",
          "text": [
            "[0]\n"
          ]
        }
      ],
      "source": [
        "print(np.unique(np.array(y_pred)))"
      ]
    }
  ],
  "metadata": {
    "colab": {
      "provenance": []
    },
    "kernelspec": {
      "display_name": "ml_venv",
      "language": "python",
      "name": "python3"
    },
    "language_info": {
      "codemirror_mode": {
        "name": "ipython",
        "version": 3
      },
      "file_extension": ".py",
      "mimetype": "text/x-python",
      "name": "python",
      "nbconvert_exporter": "python",
      "pygments_lexer": "ipython3",
      "version": "3.10.12"
    }
  },
  "nbformat": 4,
  "nbformat_minor": 0
}
